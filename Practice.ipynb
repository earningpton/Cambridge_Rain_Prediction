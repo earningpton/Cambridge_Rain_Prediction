{
 "cells": [
  {
   "cell_type": "markdown",
   "metadata": {},
   "source": [
    "## Table of Contents:  \n",
    "#### O: Obtaining data and Organize project\n",
    "1.1 [Load data, required packages, and suppress warnings](#O1)  \n",
    "#### S: Cleaning data:  \n",
    "2.1 [Missing Data and Interpolation](#S1)  \n",
    "2.2 [Data Visualization, Skewness, and Transformation](#S2)  \n",
    "2.3 [Time series: Seasonality and Categorical: Encoding](#S3)     \n",
    "#### E: Exploratory Data Analysis:\n",
    "3.1 [Feature Selection](#E2)  \n",
    "3.2 [Feature Extraction](#E2)   \n",
    "3.3 [Eliminate Outliers and Add Extra Features](#M1)   \n",
    "#### M: Modeling Predictors and Classifiers\n",
    "4.1 [Model Pipeline Test](#M1)  \n",
    "4.2 [Time Series: ARIMA/ SARIMAX model](#M2)  \n",
    "4.3 [Classification Model](#M3)  \n",
    "4.4 [With Lagged Features](#M4)  \n",
    "4.5 [Multiple Output Predictions](#M5)  \n",
    "#### N: Report Findings and Summary\n",
    "5.1 [Visualization](#N1)   \n",
    "5.2 [Summary](#N1)  "
   ]
  },
  {
   "cell_type": "markdown",
   "metadata": {},
   "source": [
    "<a id='O1'></a>"
   ]
  },
  {
   "cell_type": "markdown",
   "metadata": {},
   "source": [
    "## O: Load weather data\n",
    "\n",
    "O stands for Obtaining data and Organize your project!  \n",
    "1. version control (Git)  \n",
    "2. reproducible results (venv)  \n",
    "3. Separating raw data, intermediate data, and final data (./data)  \n",
    "4. Documenting work (ipynb)  \n",
    "5. Separate modules for custom functions (./src) Pycharm  \n",
    "\n",
    "Also suppress warnings  "
   ]
  },
  {
   "cell_type": "code",
   "execution_count": 523,
   "metadata": {},
   "outputs": [],
   "source": [
    "def warn(*args, **kwargs):\n",
    "    pass\n",
    "import warnings\n",
    "warnings.warn = warn"
   ]
  },
  {
   "cell_type": "code",
   "execution_count": 129,
   "metadata": {},
   "outputs": [],
   "source": [
    "import numpy as np\n",
    "import pandas as pd\n",
    "import matplotlib.pyplot as plt\n",
    "import os\n",
    "from os import listdir\n",
    "from os.path import isfile, join\n",
    "import glob"
   ]
  },
  {
   "cell_type": "code",
   "execution_count": 51,
   "metadata": {
    "scrolled": true
   },
   "outputs": [
    {
     "name": "stderr",
     "output_type": "stream",
     "text": [
      "C:\\ProgramData\\Anaconda3\\lib\\site-packages\\ipykernel_launcher.py:19: ParserWarning: Falling back to the 'python' engine because the 'c' engine does not support regex separators (separators > 1 char and different from '\\s+' are interpreted as regex); you can avoid this warning by specifying engine='python'.\n"
     ]
    },
    {
     "name": "stdout",
     "output_type": "stream",
     "text": [
      "C:\\Users\\saiou\\OneDrive\\Documents\\GitHub\\Practice\\daily-text\\2007_06_03  is empty and has been skipped.\n",
      "C:\\Users\\saiou\\OneDrive\\Documents\\GitHub\\Practice\\daily-text\\2007_08_05  is empty and has been skipped.\n",
      "C:\\Users\\saiou\\OneDrive\\Documents\\GitHub\\Practice\\daily-text\\2008_01_01  is empty and has been skipped.\n",
      "C:\\Users\\saiou\\OneDrive\\Documents\\GitHub\\Practice\\daily-text\\2008_05_31  is empty and has been skipped.\n",
      "C:\\Users\\saiou\\OneDrive\\Documents\\GitHub\\Practice\\daily-text\\2008_06_01  is empty and has been skipped.\n",
      "C:\\Users\\saiou\\OneDrive\\Documents\\GitHub\\Practice\\daily-text\\2013_09_07  is empty and has been skipped.\n",
      "C:\\Users\\saiou\\OneDrive\\Documents\\GitHub\\Practice\\daily-text\\2014_11_09  is empty and has been skipped.\n",
      "C:\\Users\\saiou\\OneDrive\\Documents\\GitHub\\Practice\\daily-text\\2015_01_24  is empty and has been skipped.\n",
      "C:\\Users\\saiou\\OneDrive\\Documents\\GitHub\\Practice\\daily-text\\2015_12_03  is empty and has been skipped.\n",
      "C:\\Users\\saiou\\OneDrive\\Documents\\GitHub\\Practice\\daily-text\\2015_12_17  is empty and has been skipped.\n",
      "C:\\Users\\saiou\\OneDrive\\Documents\\GitHub\\Practice\\daily-text\\2015_12_28  is empty and has been skipped.\n",
      "C:\\Users\\saiou\\OneDrive\\Documents\\GitHub\\Practice\\daily-text\\2016_01_10  is empty and has been skipped.\n",
      "C:\\Users\\saiou\\OneDrive\\Documents\\GitHub\\Practice\\daily-text\\2018_02_22  is empty and has been skipped.\n",
      "C:\\Users\\saiou\\OneDrive\\Documents\\GitHub\\Practice\\daily-text\\2018_05_25  is empty and has been skipped.\n",
      "C:\\Users\\saiou\\OneDrive\\Documents\\GitHub\\Practice\\daily-text\\2018_06_09  is empty and has been skipped.\n",
      "C:\\Users\\saiou\\OneDrive\\Documents\\GitHub\\Practice\\daily-text\\2018_06_10  is empty and has been skipped.\n",
      "C:\\Users\\saiou\\OneDrive\\Documents\\GitHub\\Practice\\daily-text\\2019_09_25  is empty and has been skipped.\n",
      "C:\\Users\\saiou\\OneDrive\\Documents\\GitHub\\Practice\\daily-text\\2020_02_13  is empty and has been skipped.\n",
      "C:\\Users\\saiou\\OneDrive\\Documents\\GitHub\\Practice\\daily-text\\2020_02_14  is empty and has been skipped.\n"
     ]
    },
    {
     "data": {
      "text/html": [
       "<div>\n",
       "<style scoped>\n",
       "    .dataframe tbody tr th:only-of-type {\n",
       "        vertical-align: middle;\n",
       "    }\n",
       "\n",
       "    .dataframe tbody tr th {\n",
       "        vertical-align: top;\n",
       "    }\n",
       "\n",
       "    .dataframe thead th {\n",
       "        text-align: right;\n",
       "    }\n",
       "</style>\n",
       "<table border=\"1\" class=\"dataframe\">\n",
       "  <thead>\n",
       "    <tr style=\"text-align: right;\">\n",
       "      <th></th>\n",
       "      <th>0</th>\n",
       "      <th>1</th>\n",
       "      <th>2</th>\n",
       "      <th>3</th>\n",
       "      <th>4</th>\n",
       "      <th>5</th>\n",
       "      <th>6</th>\n",
       "      <th>7</th>\n",
       "      <th>8</th>\n",
       "      <th>9</th>\n",
       "      <th>date</th>\n",
       "    </tr>\n",
       "  </thead>\n",
       "  <tbody>\n",
       "    <tr>\n",
       "      <td>0</td>\n",
       "      <td>16:00</td>\n",
       "      <td>29.5</td>\n",
       "      <td>43.0</td>\n",
       "      <td>15.6</td>\n",
       "      <td>1013.0</td>\n",
       "      <td>1.4</td>\n",
       "      <td>SW</td>\n",
       "      <td>10.44</td>\n",
       "      <td>0.0</td>\n",
       "      <td>00:00</td>\n",
       "      <td>C:\\Users\\saiou\\OneDrive\\Documents\\GitHub\\Pract...</td>\n",
       "    </tr>\n",
       "    <tr>\n",
       "      <td>1</td>\n",
       "      <td>16:30</td>\n",
       "      <td>30.5</td>\n",
       "      <td>36.0</td>\n",
       "      <td>14.0</td>\n",
       "      <td>1013.0</td>\n",
       "      <td>1.3</td>\n",
       "      <td>NW</td>\n",
       "      <td>10.94</td>\n",
       "      <td>0.0</td>\n",
       "      <td>00:00</td>\n",
       "      <td>C:\\Users\\saiou\\OneDrive\\Documents\\GitHub\\Pract...</td>\n",
       "    </tr>\n",
       "    <tr>\n",
       "      <td>2</td>\n",
       "      <td>17:00</td>\n",
       "      <td>31.1</td>\n",
       "      <td>41.0</td>\n",
       "      <td>16.3</td>\n",
       "      <td>1013.0</td>\n",
       "      <td>1.2</td>\n",
       "      <td>NW</td>\n",
       "      <td>11.45</td>\n",
       "      <td>0.0</td>\n",
       "      <td>00:00</td>\n",
       "      <td>C:\\Users\\saiou\\OneDrive\\Documents\\GitHub\\Pract...</td>\n",
       "    </tr>\n",
       "    <tr>\n",
       "      <td>3</td>\n",
       "      <td>17:30</td>\n",
       "      <td>32.2</td>\n",
       "      <td>43.0</td>\n",
       "      <td>18.1</td>\n",
       "      <td>1013.0</td>\n",
       "      <td>0.2</td>\n",
       "      <td>NW</td>\n",
       "      <td>11.95</td>\n",
       "      <td>0.0</td>\n",
       "      <td>00:00</td>\n",
       "      <td>C:\\Users\\saiou\\OneDrive\\Documents\\GitHub\\Pract...</td>\n",
       "    </tr>\n",
       "    <tr>\n",
       "      <td>4</td>\n",
       "      <td>18:00</td>\n",
       "      <td>32.7</td>\n",
       "      <td>41.0</td>\n",
       "      <td>17.8</td>\n",
       "      <td>1013.0</td>\n",
       "      <td>0.8</td>\n",
       "      <td>SW</td>\n",
       "      <td>12.46</td>\n",
       "      <td>0.0</td>\n",
       "      <td>00:00</td>\n",
       "      <td>C:\\Users\\saiou\\OneDrive\\Documents\\GitHub\\Pract...</td>\n",
       "    </tr>\n",
       "  </tbody>\n",
       "</table>\n",
       "</div>"
      ],
      "text/plain": [
       "       0     1     2     3       4    5   6      7    8      9  \\\n",
       "0  16:00  29.5  43.0  15.6  1013.0  1.4  SW  10.44  0.0  00:00   \n",
       "1  16:30  30.5  36.0  14.0  1013.0  1.3  NW  10.94  0.0  00:00   \n",
       "2  17:00  31.1  41.0  16.3  1013.0  1.2  NW  11.45  0.0  00:00   \n",
       "3  17:30  32.2  43.0  18.1  1013.0  0.2  NW  11.95  0.0  00:00   \n",
       "4  18:00  32.7  41.0  17.8  1013.0  0.8  SW  12.46  0.0  00:00   \n",
       "\n",
       "                                                date  \n",
       "0  C:\\Users\\saiou\\OneDrive\\Documents\\GitHub\\Pract...  \n",
       "1  C:\\Users\\saiou\\OneDrive\\Documents\\GitHub\\Pract...  \n",
       "2  C:\\Users\\saiou\\OneDrive\\Documents\\GitHub\\Pract...  \n",
       "3  C:\\Users\\saiou\\OneDrive\\Documents\\GitHub\\Pract...  \n",
       "4  C:\\Users\\saiou\\OneDrive\\Documents\\GitHub\\Pract...  "
      ]
     },
     "execution_count": 51,
     "metadata": {},
     "output_type": "execute_result"
    }
   ],
   "source": [
    "mypath = os.getcwd() + '\\\\daily-text'\n",
    "onlyfiles = [f for f in listdir(mypath) if isfile(join(mypath, f))]\n",
    "onlyfiles = listdir('daily-text')\n",
    "\n",
    "\n",
    "all_files = glob.glob(mypath + \"/*\")\n",
    "\n",
    "li = []\n",
    "\n",
    "for filename in all_files:\n",
    "    try:\n",
    "        df = pd.read_csv(filename, sep=\"\\t|\\n| |s+\", comment='#', header = None, na_values='*',usecols=[0,1,2,3,4,5,6,7,8,9], error_bad_lines=False)\n",
    "        #add file name as column\n",
    "        df['date'] = filename\n",
    "        li.append(df)\n",
    "    except:\n",
    "        print(filename, \" is empty and has been skipped.\")\n",
    "df = pd.concat(li, axis=0, ignore_index=True)\n",
    "df.head()"
   ]
  },
  {
   "cell_type": "code",
   "execution_count": 55,
   "metadata": {},
   "outputs": [],
   "source": [
    "df['date'] = df['date'].apply(lambda x: x.split('\\\\')[-1])\n",
    "df['date'] = df['date'].apply(lambda x: ''.join([i for i in x if i.isdigit()]))\n",
    "df['t'] = df['date'] +df[0]\n",
    "df['t'] = df['t'].apply(lambda x: \"\".join(str(x).split(':')))\n",
    "df['t'] = pd.to_datetime(df['t'],infer_datetime_format=True)"
   ]
  },
  {
   "cell_type": "code",
   "execution_count": 81,
   "metadata": {},
   "outputs": [],
   "source": [
    "df['t'] = pd.to_datetime(df['t'],infer_datetime_format=True)"
   ]
  },
  {
   "cell_type": "code",
   "execution_count": 82,
   "metadata": {},
   "outputs": [
    {
     "data": {
      "text/html": [
       "<div>\n",
       "<style scoped>\n",
       "    .dataframe tbody tr th:only-of-type {\n",
       "        vertical-align: middle;\n",
       "    }\n",
       "\n",
       "    .dataframe tbody tr th {\n",
       "        vertical-align: top;\n",
       "    }\n",
       "\n",
       "    .dataframe thead th {\n",
       "        text-align: right;\n",
       "    }\n",
       "</style>\n",
       "<table border=\"1\" class=\"dataframe\">\n",
       "  <thead>\n",
       "    <tr style=\"text-align: right;\">\n",
       "      <th></th>\n",
       "      <th>0</th>\n",
       "      <th>1</th>\n",
       "      <th>2</th>\n",
       "      <th>3</th>\n",
       "      <th>4</th>\n",
       "      <th>5</th>\n",
       "      <th>6</th>\n",
       "      <th>7</th>\n",
       "      <th>8</th>\n",
       "      <th>9</th>\n",
       "      <th>date</th>\n",
       "      <th>t</th>\n",
       "    </tr>\n",
       "  </thead>\n",
       "  <tbody>\n",
       "    <tr>\n",
       "      <td>0</td>\n",
       "      <td>16:00</td>\n",
       "      <td>29.5</td>\n",
       "      <td>43.0</td>\n",
       "      <td>15.6</td>\n",
       "      <td>1013.0</td>\n",
       "      <td>1.4</td>\n",
       "      <td>SW</td>\n",
       "      <td>10.44</td>\n",
       "      <td>0.0</td>\n",
       "      <td>00:00</td>\n",
       "      <td>19950630</td>\n",
       "      <td>1995-06-30 16:00:00</td>\n",
       "    </tr>\n",
       "    <tr>\n",
       "      <td>1</td>\n",
       "      <td>16:30</td>\n",
       "      <td>30.5</td>\n",
       "      <td>36.0</td>\n",
       "      <td>14.0</td>\n",
       "      <td>1013.0</td>\n",
       "      <td>1.3</td>\n",
       "      <td>NW</td>\n",
       "      <td>10.94</td>\n",
       "      <td>0.0</td>\n",
       "      <td>00:00</td>\n",
       "      <td>19950630</td>\n",
       "      <td>1995-06-30 16:30:00</td>\n",
       "    </tr>\n",
       "    <tr>\n",
       "      <td>2</td>\n",
       "      <td>17:00</td>\n",
       "      <td>31.1</td>\n",
       "      <td>41.0</td>\n",
       "      <td>16.3</td>\n",
       "      <td>1013.0</td>\n",
       "      <td>1.2</td>\n",
       "      <td>NW</td>\n",
       "      <td>11.45</td>\n",
       "      <td>0.0</td>\n",
       "      <td>00:00</td>\n",
       "      <td>19950630</td>\n",
       "      <td>1995-06-30 17:00:00</td>\n",
       "    </tr>\n",
       "    <tr>\n",
       "      <td>3</td>\n",
       "      <td>17:30</td>\n",
       "      <td>32.2</td>\n",
       "      <td>43.0</td>\n",
       "      <td>18.1</td>\n",
       "      <td>1013.0</td>\n",
       "      <td>0.2</td>\n",
       "      <td>NW</td>\n",
       "      <td>11.95</td>\n",
       "      <td>0.0</td>\n",
       "      <td>00:00</td>\n",
       "      <td>19950630</td>\n",
       "      <td>1995-06-30 17:30:00</td>\n",
       "    </tr>\n",
       "    <tr>\n",
       "      <td>4</td>\n",
       "      <td>18:00</td>\n",
       "      <td>32.7</td>\n",
       "      <td>41.0</td>\n",
       "      <td>17.8</td>\n",
       "      <td>1013.0</td>\n",
       "      <td>0.8</td>\n",
       "      <td>SW</td>\n",
       "      <td>12.46</td>\n",
       "      <td>0.0</td>\n",
       "      <td>00:00</td>\n",
       "      <td>19950630</td>\n",
       "      <td>1995-06-30 18:00:00</td>\n",
       "    </tr>\n",
       "  </tbody>\n",
       "</table>\n",
       "</div>"
      ],
      "text/plain": [
       "       0     1     2     3       4    5   6      7    8      9      date  \\\n",
       "0  16:00  29.5  43.0  15.6  1013.0  1.4  SW  10.44  0.0  00:00  19950630   \n",
       "1  16:30  30.5  36.0  14.0  1013.0  1.3  NW  10.94  0.0  00:00  19950630   \n",
       "2  17:00  31.1  41.0  16.3  1013.0  1.2  NW  11.45  0.0  00:00  19950630   \n",
       "3  17:30  32.2  43.0  18.1  1013.0  0.2  NW  11.95  0.0  00:00  19950630   \n",
       "4  18:00  32.7  41.0  17.8  1013.0  0.8  SW  12.46  0.0  00:00  19950630   \n",
       "\n",
       "                    t  \n",
       "0 1995-06-30 16:00:00  \n",
       "1 1995-06-30 16:30:00  \n",
       "2 1995-06-30 17:00:00  \n",
       "3 1995-06-30 17:30:00  \n",
       "4 1995-06-30 18:00:00  "
      ]
     },
     "execution_count": 82,
     "metadata": {},
     "output_type": "execute_result"
    }
   ],
   "source": [
    "df.head()"
   ]
  },
  {
   "cell_type": "markdown",
   "metadata": {},
   "source": [
    "<a id='S1'></a>"
   ]
  },
  {
   "attachments": {},
   "cell_type": "markdown",
   "metadata": {},
   "source": [
    "## S: Clean time series data\n",
    "\n",
    "df is our raw data compiliation with minimal processing  \n",
    "A good practice is to safe df as pre-processed.csv  \n",
    "\n",
    "S stands for Scrubbing/Cleaning data: Most important part of producing great work  \n",
    "kjam repo:  \n",
    "Initial data analysis: Not answering the research question yet!  \n",
    "\n",
    "Deal with NaN: \n",
    "Use df.isnull().sum(): Decide to drop column or impute missing data \n",
    "\n",
    "Check Duplicate columns: \n",
    "\n",
    "If Duplication: use Dedupe  \n",
    "If email: use beautifier  \n",
    "If unicode: use ftfy  \n",
    "If string matching: fuzzywuzzy  "
   ]
  },
  {
   "cell_type": "code",
   "execution_count": 118,
   "metadata": {},
   "outputs": [
    {
     "data": {
      "text/html": [
       "<div>\n",
       "<style scoped>\n",
       "    .dataframe tbody tr th:only-of-type {\n",
       "        vertical-align: middle;\n",
       "    }\n",
       "\n",
       "    .dataframe tbody tr th {\n",
       "        vertical-align: top;\n",
       "    }\n",
       "\n",
       "    .dataframe thead th {\n",
       "        text-align: right;\n",
       "    }\n",
       "</style>\n",
       "<table border=\"1\" class=\"dataframe\">\n",
       "  <thead>\n",
       "    <tr style=\"text-align: right;\">\n",
       "      <th></th>\n",
       "      <th>Temp</th>\n",
       "      <th>Humid</th>\n",
       "      <th>DewPt</th>\n",
       "      <th>Press</th>\n",
       "      <th>WindSp</th>\n",
       "      <th>WindDr</th>\n",
       "      <th>Sun</th>\n",
       "      <th>Rain</th>\n",
       "    </tr>\n",
       "    <tr>\n",
       "      <th>t</th>\n",
       "      <th></th>\n",
       "      <th></th>\n",
       "      <th></th>\n",
       "      <th></th>\n",
       "      <th></th>\n",
       "      <th></th>\n",
       "      <th></th>\n",
       "      <th></th>\n",
       "    </tr>\n",
       "  </thead>\n",
       "  <tbody>\n",
       "    <tr>\n",
       "      <td>1995-06-30 16:00:00</td>\n",
       "      <td>29.5</td>\n",
       "      <td>43.0</td>\n",
       "      <td>15.6</td>\n",
       "      <td>1013.0</td>\n",
       "      <td>1.4</td>\n",
       "      <td>SW</td>\n",
       "      <td>10.44</td>\n",
       "      <td>0.0</td>\n",
       "    </tr>\n",
       "    <tr>\n",
       "      <td>1995-06-30 16:30:00</td>\n",
       "      <td>30.5</td>\n",
       "      <td>36.0</td>\n",
       "      <td>14.0</td>\n",
       "      <td>1013.0</td>\n",
       "      <td>1.3</td>\n",
       "      <td>NW</td>\n",
       "      <td>10.94</td>\n",
       "      <td>0.0</td>\n",
       "    </tr>\n",
       "    <tr>\n",
       "      <td>1995-06-30 17:00:00</td>\n",
       "      <td>31.1</td>\n",
       "      <td>41.0</td>\n",
       "      <td>16.3</td>\n",
       "      <td>1013.0</td>\n",
       "      <td>1.2</td>\n",
       "      <td>NW</td>\n",
       "      <td>11.45</td>\n",
       "      <td>0.0</td>\n",
       "    </tr>\n",
       "    <tr>\n",
       "      <td>1995-06-30 17:30:00</td>\n",
       "      <td>32.2</td>\n",
       "      <td>43.0</td>\n",
       "      <td>18.1</td>\n",
       "      <td>1013.0</td>\n",
       "      <td>0.2</td>\n",
       "      <td>NW</td>\n",
       "      <td>11.95</td>\n",
       "      <td>0.0</td>\n",
       "    </tr>\n",
       "    <tr>\n",
       "      <td>1995-06-30 18:00:00</td>\n",
       "      <td>32.7</td>\n",
       "      <td>41.0</td>\n",
       "      <td>17.8</td>\n",
       "      <td>1013.0</td>\n",
       "      <td>0.8</td>\n",
       "      <td>SW</td>\n",
       "      <td>12.46</td>\n",
       "      <td>0.0</td>\n",
       "    </tr>\n",
       "  </tbody>\n",
       "</table>\n",
       "</div>"
      ],
      "text/plain": [
       "                     Temp  Humid  DewPt   Press  WindSp WindDr    Sun  Rain\n",
       "t                                                                          \n",
       "1995-06-30 16:00:00  29.5   43.0   15.6  1013.0     1.4     SW  10.44   0.0\n",
       "1995-06-30 16:30:00  30.5   36.0   14.0  1013.0     1.3     NW  10.94   0.0\n",
       "1995-06-30 17:00:00  31.1   41.0   16.3  1013.0     1.2     NW  11.45   0.0\n",
       "1995-06-30 17:30:00  32.2   43.0   18.1  1013.0     0.2     NW  11.95   0.0\n",
       "1995-06-30 18:00:00  32.7   41.0   17.8  1013.0     0.8     SW  12.46   0.0"
      ]
     },
     "execution_count": 118,
     "metadata": {},
     "output_type": "execute_result"
    }
   ],
   "source": [
    "df_pre = df[df['t'].notna()]\n",
    "df_pre = df_pre.drop_duplicates(subset='t', keep='first')\n",
    "dft = df_pre.set_index('t')\n",
    "dft = dft.iloc[:,1:9]\n",
    "dft.columns = ['Temp','Humid','DewPt','Press','WindSp','WindDr','Sun','Rain']\n",
    "\n",
    "dft.interpolate(method='time', inplace=True)"
   ]
  },
  {
   "cell_type": "code",
   "execution_count": 120,
   "metadata": {},
   "outputs": [
    {
     "data": {
      "text/plain": [
       "Temp         55\n",
       "Humid         0\n",
       "DewPt         0\n",
       "Press         0\n",
       "WindSp        0\n",
       "WindDr    18660\n",
       "Sun           0\n",
       "Rain          0\n",
       "dtype: int64"
      ]
     },
     "execution_count": 120,
     "metadata": {},
     "output_type": "execute_result"
    }
   ],
   "source": [
    "dft.isnull().sum()"
   ]
  },
  {
   "cell_type": "code",
   "execution_count": 121,
   "metadata": {},
   "outputs": [
    {
     "data": {
      "text/plain": [
       "(431206, 8)"
      ]
     },
     "execution_count": 121,
     "metadata": {},
     "output_type": "execute_result"
    }
   ],
   "source": [
    "dft.shape"
   ]
  },
  {
   "cell_type": "code",
   "execution_count": 128,
   "metadata": {},
   "outputs": [
    {
     "data": {
      "text/plain": [
       "Temp         53\n",
       "Humid         0\n",
       "DewPt         0\n",
       "Press         0\n",
       "WindSp        0\n",
       "Sun           0\n",
       "Rain          0\n",
       "WindDr_E      0\n",
       "WindDr_N      0\n",
       "WindDr_NE     0\n",
       "WindDr_NW     0\n",
       "WindDr_S      0\n",
       "WindDr_SE     0\n",
       "WindDr_SW     0\n",
       "WindDr_W      0\n",
       "dtype: int64"
      ]
     },
     "execution_count": 128,
     "metadata": {},
     "output_type": "execute_result"
    }
   ],
   "source": [
    "rs = dft.resample('30min').bfill()[0:]\n",
    "rs = pd.concat([rs, pd.get_dummies(rs['WindDr'], prefix='WindDr')], axis=1)\n",
    "rs = rs.drop(columns=['WindDr'])\n",
    "rs.isnull().sum()"
   ]
  },
  {
   "cell_type": "markdown",
   "metadata": {},
   "source": [
    "<a id='S2'></a>"
   ]
  },
  {
   "cell_type": "markdown",
   "metadata": {},
   "source": [
    "## S-E Explore data but not features\n",
    "\n",
    "Quality of data: freuquency counts, stats (mean, std, median), normality (skewness, kurtosis, histogram)  \n",
    "\n",
    "Common-method variance: variance from measurement method/ systematic error. Do CFA or Kock collinearity  \n",
    "\n",
    "VIF: for non-ml, random forest, SVM we don't care about coef  \n",
    "\n",
    "Quality of measurements: structure of measurement instruments with homogeniality  \n",
    "\n",
    "Initial transformations: impute missing data or transform it  \n",
    "1. differ slightly from normal:\t\t\tSquare root\n",
    "2. differ greatly from normal:\t\t\tLog\n",
    "3. differ severely from normal:\t\t\tInverse\n",
    "4. No transformation help:\t\t\tCategorical\n",
    "\n",
    "Do this before scale! We want it to look more like normal distributions"
   ]
  },
  {
   "cell_type": "code",
   "execution_count": 143,
   "metadata": {},
   "outputs": [
    {
     "data": {
      "image/png": "[encoded data removed]",
      "text/plain": [
       "<Figure size 432x288 with 1 Axes>"
      ]
     },
     "metadata": {
      "needs_background": "light"
     },
     "output_type": "display_data"
    }
   ],
   "source": [
    "_ = plt.hist(rs['Temp'],bins=50)"
   ]
  },
  {
   "cell_type": "code",
   "execution_count": 147,
   "metadata": {},
   "outputs": [
    {
     "data": {
      "image/png": "[encoded data removed]",
      "text/plain": [
       "<Figure size 432x288 with 1 Axes>"
      ]
     },
     "metadata": {
      "needs_background": "light"
     },
     "output_type": "display_data"
    }
   ],
   "source": [
    "_ = plt.hist(rs['DewPt'],bins=50)"
   ]
  },
  {
   "cell_type": "code",
   "execution_count": 145,
   "metadata": {},
   "outputs": [
    {
     "data": {
      "image/png": "[encoded data removed]",
      "text/plain": [
       "<Figure size 432x288 with 1 Axes>"
      ]
     },
     "metadata": {
      "needs_background": "light"
     },
     "output_type": "display_data"
    }
   ],
   "source": [
    "_ = plt.hist(rs['Press'],bins=50)"
   ]
  },
  {
   "cell_type": "code",
   "execution_count": 146,
   "metadata": {},
   "outputs": [
    {
     "data": {
      "image/png": "[encoded data removed]",
      "text/plain": [
       "<Figure size 432x288 with 1 Axes>"
      ]
     },
     "metadata": {
      "needs_background": "light"
     },
     "output_type": "display_data"
    }
   ],
   "source": [
    "_ = plt.hist(rs['Rain'],bins=50)"
   ]
  },
  {
   "cell_type": "code",
   "execution_count": 168,
   "metadata": {},
   "outputs": [
    {
     "data": {
      "image/png": "[encoded data removed]",
      "text/plain": [
       "<Figure size 432x288 with 1 Axes>"
      ]
     },
     "metadata": {
      "needs_background": "light"
     },
     "output_type": "display_data"
    }
   ],
   "source": [
    "_ = plt.hist(np.log(rs['Rain']+1),bins=20)"
   ]
  },
  {
   "cell_type": "code",
   "execution_count": 150,
   "metadata": {},
   "outputs": [
    {
     "data": {
      "image/png": "[encoded data removed]",
      "text/plain": [
       "<Figure size 432x288 with 1 Axes>"
      ]
     },
     "metadata": {
      "needs_background": "light"
     },
     "output_type": "display_data"
    }
   ],
   "source": [
    "_ = plt.hist(rs['WindSp'],bins=50)"
   ]
  },
  {
   "cell_type": "code",
   "execution_count": 205,
   "metadata": {},
   "outputs": [
    {
     "data": {
      "image/png": "[encoded data removed]",
      "text/plain": [
       "<Figure size 432x288 with 1 Axes>"
      ]
     },
     "metadata": {
      "needs_background": "light"
     },
     "output_type": "display_data"
    }
   ],
   "source": [
    "rs['WindSpl1p'] = np.log1p(rs['WindSp'])\n",
    "_ = plt.hist(np.log1p(rs['WindSp']),bins=50)"
   ]
  },
  {
   "cell_type": "code",
   "execution_count": 157,
   "metadata": {},
   "outputs": [
    {
     "data": {
      "image/png": "[encoded data removed]",
      "text/plain": [
       "<Figure size 432x288 with 1 Axes>"
      ]
     },
     "metadata": {
      "needs_background": "light"
     },
     "output_type": "display_data"
    }
   ],
   "source": [
    "_ = plt.hist(rs['Sun'],bins=50)"
   ]
  },
  {
   "cell_type": "code",
   "execution_count": 204,
   "metadata": {},
   "outputs": [
    {
     "data": {
      "image/png": "[encoded data removed]",
      "text/plain": [
       "<Figure size 432x288 with 1 Axes>"
      ]
     },
     "metadata": {
      "needs_background": "light"
     },
     "output_type": "display_data"
    }
   ],
   "source": [
    "rs['Sunl1p'] = np.log1p(rs['Sun'])\n",
    "_ = plt.hist(np.log1p(rs['Sun']),bins=50)"
   ]
  },
  {
   "cell_type": "code",
   "execution_count": 148,
   "metadata": {},
   "outputs": [
    {
     "data": {
      "image/png": "[encoded data removed]",
      "text/plain": [
       "<Figure size 432x288 with 1 Axes>"
      ]
     },
     "metadata": {
      "needs_background": "light"
     },
     "output_type": "display_data"
    }
   ],
   "source": [
    "_ = plt.hist(rs['Humid'],bins=50)"
   ]
  },
  {
   "cell_type": "code",
   "execution_count": 162,
   "metadata": {},
   "outputs": [
    {
     "data": {
      "text/plain": [
       "0.6285356910001434"
      ]
     },
     "execution_count": 162,
     "metadata": {},
     "output_type": "execute_result"
    }
   ],
   "source": [
    "np.sum(rs['Rain']==0)/rs['Rain'].shape[0]"
   ]
  },
  {
   "cell_type": "markdown",
   "metadata": {},
   "source": [
    "<a id='S3'></a>"
   ]
  },
  {
   "cell_type": "markdown",
   "metadata": {},
   "source": [
    "## Time series data:\n",
    "\n",
    "Use pd.to_datetime to convert to date time format. If data is too frequent, we can resample in larger unit eg. 30min to D. Check seasonality: Seasonality in temperature but not Rain  \n",
    "\n",
    "## Categorical data:\n",
    "\n",
    "Perform one hot encoding if no sense of progression in category with pd.get_dummies(df). PErform ordinal encoding if there is a clear progression e.g. very hot, hot, cold, very cold  "
   ]
  },
  {
   "cell_type": "code",
   "execution_count": 180,
   "metadata": {
    "scrolled": false
   },
   "outputs": [
    {
     "data": {
      "image/png": "[encoded data removed]",
      "text/plain": [
       "<Figure size 792x720 with 3 Axes>"
      ]
     },
     "metadata": {
      "needs_background": "light"
     },
     "output_type": "display_data"
    }
   ],
   "source": [
    "rs['Month'] = pd.DatetimeIndex(rs.index).month\n",
    "import seaborn as sns\n",
    "fig, axes = plt.subplots(3, 1, figsize=(11, 10), sharex=True)\n",
    "for name, ax in zip(['Rain', 'Temp', 'WindSp'], axes):\n",
    "    sns.boxplot(data=rs, x='Month', y=name, ax=ax)\n",
    "    ax.set_ylabel('value')\n",
    "    ax.set_title(name)\n",
    "# Remove the automatic x-axis label from all but the bottom subplot\n",
    "if ax != axes[-1]:\n",
    "    ax.set_xlabel('')"
   ]
  },
  {
   "cell_type": "markdown",
   "metadata": {},
   "source": [
    "<a id='M1'></a>"
   ]
  },
  {
   "attachments": {},
   "cell_type": "markdown",
   "metadata": {},
   "source": [
    "## E: Exploratory Data Analysis\n",
    "\n",
    "Use scaler after transforming data: \n",
    "MinMaxScaler keeps spatial relation between different data the same while StandardScaler normalize the data to mean 0 std 1  \n",
    "\n",
    "For time series data: check moving average. MACD etc. can be very informative compared to giving the algorithm 100 days lagged data (feature overload)\n",
    "\n",
    "Dealing with Outliers: \n",
    "If normal dist: Z-score () <,>3\tafter preprocessing.scale(foo) or from scipy import stats np.abs(stats.zscore(boston_df))\t\n",
    "\n",
    "Otherwise if Skew: boxplot IQR score= Q3 − Q1 (Q1 - 1.5 * IQR) (Q3 + 1.5 * IQR)    \t\t\t\t\t\t\t"
   ]
  },
  {
   "cell_type": "code",
   "execution_count": 563,
   "metadata": {},
   "outputs": [
    {
     "data": {
      "text/html": [
       "<div>\n",
       "<style scoped>\n",
       "    .dataframe tbody tr th:only-of-type {\n",
       "        vertical-align: middle;\n",
       "    }\n",
       "\n",
       "    .dataframe tbody tr th {\n",
       "        vertical-align: top;\n",
       "    }\n",
       "\n",
       "    .dataframe thead th {\n",
       "        text-align: right;\n",
       "    }\n",
       "</style>\n",
       "<table border=\"1\" class=\"dataframe\">\n",
       "  <thead>\n",
       "    <tr style=\"text-align: right;\">\n",
       "      <th></th>\n",
       "      <th>Humid</th>\n",
       "      <th>DewPt</th>\n",
       "      <th>Press</th>\n",
       "      <th>WindSp</th>\n",
       "      <th>Sun</th>\n",
       "      <th>Rain</th>\n",
       "      <th>WindDr_E</th>\n",
       "      <th>WindDr_N</th>\n",
       "      <th>WindDr_NE</th>\n",
       "      <th>WindDr_NW</th>\n",
       "      <th>WindDr_S</th>\n",
       "      <th>WindDr_SE</th>\n",
       "      <th>WindDr_SW</th>\n",
       "      <th>WindDr_W</th>\n",
       "      <th>Month</th>\n",
       "      <th>Sunl1p</th>\n",
       "      <th>WindSpl1p</th>\n",
       "    </tr>\n",
       "    <tr>\n",
       "      <th>t</th>\n",
       "      <th></th>\n",
       "      <th></th>\n",
       "      <th></th>\n",
       "      <th></th>\n",
       "      <th></th>\n",
       "      <th></th>\n",
       "      <th></th>\n",
       "      <th></th>\n",
       "      <th></th>\n",
       "      <th></th>\n",
       "      <th></th>\n",
       "      <th></th>\n",
       "      <th></th>\n",
       "      <th></th>\n",
       "      <th></th>\n",
       "      <th></th>\n",
       "      <th></th>\n",
       "    </tr>\n",
       "  </thead>\n",
       "  <tbody>\n",
       "    <tr>\n",
       "      <td>1995-06-30</td>\n",
       "      <td>58.562500</td>\n",
       "      <td>14.712500</td>\n",
       "      <td>1014.437500</td>\n",
       "      <td>4.918750</td>\n",
       "      <td>13.449375</td>\n",
       "      <td>0.000000</td>\n",
       "      <td>0.0</td>\n",
       "      <td>0.562500</td>\n",
       "      <td>0.125000</td>\n",
       "      <td>0.1875</td>\n",
       "      <td>0.000000</td>\n",
       "      <td>0.000000</td>\n",
       "      <td>0.125000</td>\n",
       "      <td>0.000000</td>\n",
       "      <td>6</td>\n",
       "      <td>2.664999</td>\n",
       "      <td>1.550122</td>\n",
       "    </tr>\n",
       "    <tr>\n",
       "      <td>1995-07-01</td>\n",
       "      <td>69.937500</td>\n",
       "      <td>11.010417</td>\n",
       "      <td>1018.187500</td>\n",
       "      <td>3.072917</td>\n",
       "      <td>0.343542</td>\n",
       "      <td>0.000000</td>\n",
       "      <td>0.0</td>\n",
       "      <td>0.145833</td>\n",
       "      <td>0.750000</td>\n",
       "      <td>0.0000</td>\n",
       "      <td>0.062500</td>\n",
       "      <td>0.041667</td>\n",
       "      <td>0.000000</td>\n",
       "      <td>0.000000</td>\n",
       "      <td>7</td>\n",
       "      <td>0.230105</td>\n",
       "      <td>1.250057</td>\n",
       "    </tr>\n",
       "    <tr>\n",
       "      <td>1995-07-02</td>\n",
       "      <td>72.645833</td>\n",
       "      <td>10.252083</td>\n",
       "      <td>1009.187500</td>\n",
       "      <td>1.781250</td>\n",
       "      <td>0.000000</td>\n",
       "      <td>1.828333</td>\n",
       "      <td>0.0</td>\n",
       "      <td>0.395833</td>\n",
       "      <td>0.520833</td>\n",
       "      <td>0.0625</td>\n",
       "      <td>0.000000</td>\n",
       "      <td>0.000000</td>\n",
       "      <td>0.000000</td>\n",
       "      <td>0.000000</td>\n",
       "      <td>7</td>\n",
       "      <td>0.000000</td>\n",
       "      <td>0.903344</td>\n",
       "    </tr>\n",
       "    <tr>\n",
       "      <td>1995-07-03</td>\n",
       "      <td>76.520833</td>\n",
       "      <td>10.462500</td>\n",
       "      <td>1006.000000</td>\n",
       "      <td>1.887500</td>\n",
       "      <td>0.352292</td>\n",
       "      <td>0.004167</td>\n",
       "      <td>0.0</td>\n",
       "      <td>0.354167</td>\n",
       "      <td>0.020833</td>\n",
       "      <td>0.2500</td>\n",
       "      <td>0.020833</td>\n",
       "      <td>0.000000</td>\n",
       "      <td>0.000000</td>\n",
       "      <td>0.000000</td>\n",
       "      <td>7</td>\n",
       "      <td>0.215035</td>\n",
       "      <td>0.746481</td>\n",
       "    </tr>\n",
       "    <tr>\n",
       "      <td>1995-07-04</td>\n",
       "      <td>67.958333</td>\n",
       "      <td>9.804167</td>\n",
       "      <td>1014.020833</td>\n",
       "      <td>3.045833</td>\n",
       "      <td>3.111458</td>\n",
       "      <td>0.000000</td>\n",
       "      <td>0.0</td>\n",
       "      <td>0.000000</td>\n",
       "      <td>0.000000</td>\n",
       "      <td>0.0000</td>\n",
       "      <td>0.041667</td>\n",
       "      <td>0.000000</td>\n",
       "      <td>0.104167</td>\n",
       "      <td>0.791667</td>\n",
       "      <td>7</td>\n",
       "      <td>1.153518</td>\n",
       "      <td>1.170914</td>\n",
       "    </tr>\n",
       "  </tbody>\n",
       "</table>\n",
       "</div>"
      ],
      "text/plain": [
       "                Humid      DewPt        Press    WindSp        Sun      Rain  \\\n",
       "t                                                                              \n",
       "1995-06-30  58.562500  14.712500  1014.437500  4.918750  13.449375  0.000000   \n",
       "1995-07-01  69.937500  11.010417  1018.187500  3.072917   0.343542  0.000000   \n",
       "1995-07-02  72.645833  10.252083  1009.187500  1.781250   0.000000  1.828333   \n",
       "1995-07-03  76.520833  10.462500  1006.000000  1.887500   0.352292  0.004167   \n",
       "1995-07-04  67.958333   9.804167  1014.020833  3.045833   3.111458  0.000000   \n",
       "\n",
       "            WindDr_E  WindDr_N  WindDr_NE  WindDr_NW  WindDr_S  WindDr_SE  \\\n",
       "t                                                                           \n",
       "1995-06-30       0.0  0.562500   0.125000     0.1875  0.000000   0.000000   \n",
       "1995-07-01       0.0  0.145833   0.750000     0.0000  0.062500   0.041667   \n",
       "1995-07-02       0.0  0.395833   0.520833     0.0625  0.000000   0.000000   \n",
       "1995-07-03       0.0  0.354167   0.020833     0.2500  0.020833   0.000000   \n",
       "1995-07-04       0.0  0.000000   0.000000     0.0000  0.041667   0.000000   \n",
       "\n",
       "            WindDr_SW  WindDr_W  Month    Sunl1p  WindSpl1p  \n",
       "t                                                            \n",
       "1995-06-30   0.125000  0.000000      6  2.664999   1.550122  \n",
       "1995-07-01   0.000000  0.000000      7  0.230105   1.250057  \n",
       "1995-07-02   0.000000  0.000000      7  0.000000   0.903344  \n",
       "1995-07-03   0.000000  0.000000      7  0.215035   0.746481  \n",
       "1995-07-04   0.104167  0.791667      7  1.153518   1.170914  "
      ]
     },
     "execution_count": 563,
     "metadata": {},
     "output_type": "execute_result"
    }
   ],
   "source": [
    "rse = rs.resample('1D').mean()\n",
    "X = rse.iloc[:-1, :]\n",
    "y = rse['Rain'].shift(-1)\n",
    "y = y[:-1]\n",
    "rse.head()"
   ]
  },
  {
   "cell_type": "code",
   "execution_count": 565,
   "metadata": {},
   "outputs": [],
   "source": [
    "import sklearn\n",
    "from sklearn.feature_selection import VarianceThreshold\n",
    "from sklearn.feature_selection import f_regression\n",
    "from sklearn.feature_selection import mutual_info_regression "
   ]
  },
  {
   "cell_type": "markdown",
   "metadata": {},
   "source": [
    "<a id='E2'></a>"
   ]
  },
  {
   "attachments": {},
   "cell_type": "markdown",
   "metadata": {},
   "source": [
    "## Feature selection/ Feature Extraction:\n",
    "\n",
    "Curse of dimensionality: data high dimensional\n",
    "1. Training time increases exponentially with number of features\n",
    "2. Models have increasing risk of overfitting with increasing number of features.\n",
    "\n",
    "Feature Selection: statistical tests in order to rank them according to their importance information loss and is less stable different test gives different importance score to features\n",
    "\n",
    "Filter Methods\t\t\n",
    "1. F Test:\tF-Test does a hypothesis testing model X and Y where X is a model created by just a constant and Y is the model created by a constant and a feature.\t\n",
    "\tLeast-square errors: sklearn.feature_selection.f_regression or sklearn.feature_selection.f_classif\t\n",
    "\tOnly captures linear relationship! High corr give high score but deceptive (Anscombe's Quartet non linear\t\n",
    "2. Mutual Info\tIf independent: 0, if deterministic 1\t\n",
    "\tsklearn.feature_selection.mututal_info_regression  sklearn.feature_selection.mututal_info_classif\t\n",
    "\tcaptures non-linear relationship\t\n",
    "3. Variance Threshold\t\twhen a feature doesn’t vary much within itself, it generally has very little predictive power.\n",
    "\tsklearn.feature_selection.VarianceThreshold\t\n",
    "\n",
    "Wrapper methods  \n",
    "Recursive Feature Elimination  \n",
    "\n",
    "Feature Extraction  \n",
    "PCA/ multilinear PCA/ SVD  \n",
    "Manifold Learning: Kernel PCA  \n",
    "Nonlinear DR  \n",
    "Factor Analysis  \n",
    "Auto Encoders/ VAE  \n",
    "t-distributed stochastic neighbor embedding (t-SNE): minimize sum of KL-div with gradient descent method  \n",
    "\n",
    "EFA: Exploratory Factor Analysis  \n",
    "R-type factor analysis\n",
    "Q-type factor analysis\n",
    "\n",
    "\n",
    "## Examplle pipeline:  \n",
    "sklearn.pipeline.Pipeline  \n",
    "clf = Pipeline([  \n",
    "  ('feature_selection', SelectFromModel(LinearSVC(penalty=\"l1\"))),\n",
    "  ('classification', RandomForestClassifier())\n",
    "])  \n",
    "clf.fit(X, y)  \n"
   ]
  },
  {
   "cell_type": "code",
   "execution_count": 569,
   "metadata": {},
   "outputs": [],
   "source": [
    "from sklearn.preprocessing import StandardScaler\n",
    "scaler = StandardScaler()\n",
    "X = scaler.fit_transform(X)"
   ]
  },
  {
   "cell_type": "code",
   "execution_count": 571,
   "metadata": {},
   "outputs": [
    {
     "name": "stdout",
     "output_type": "stream",
     "text": [
      "(9011, 17)\n",
      "(array([ 4,  6, 12], dtype=int64),)\n",
      "(array([2, 5], dtype=int64),)\n"
     ]
    }
   ],
   "source": [
    "# Pass variance threshold\n",
    "print(X.shape)\n",
    "VarianceThreshold().fit_transform(X)\n",
    "X_f = f_regression(X,y)\n",
    "X_m = mutual_info_regression(X,y)\n",
    "print(np.where(X_f[1] > 0.05))\n",
    "print(np.where(X_m > 0.05))"
   ]
  },
  {
   "cell_type": "code",
   "execution_count": 572,
   "metadata": {},
   "outputs": [
    {
     "data": {
      "text/plain": [
       "[<matplotlib.lines.Line2D at 0x27743717ec8>]"
      ]
     },
     "execution_count": 572,
     "metadata": {},
     "output_type": "execute_result"
    },
    {
     "data": {
      "image/png": "[encoded data removed]",
      "text/plain": [
       "<Figure size 432x288 with 1 Axes>"
      ]
     },
     "metadata": {
      "needs_background": "light"
     },
     "output_type": "display_data"
    }
   ],
   "source": [
    "plt.plot(X_f[1],color ='red')\n",
    "plt.plot(X_m,color ='blue')"
   ]
  },
  {
   "cell_type": "code",
   "execution_count": 574,
   "metadata": {},
   "outputs": [
    {
     "name": "stdout",
     "output_type": "stream",
     "text": [
      "Index(['Sun', 'WindDr_E', 'WindDr_SW'], dtype='object')\n",
      "Index(['Press', 'Rain'], dtype='object')\n"
     ]
    }
   ],
   "source": [
    "print(rse.columns[[4,6,12]])\n",
    "print(rse.columns[[2,5]])"
   ]
  },
  {
   "cell_type": "markdown",
   "metadata": {},
   "source": [
    "Model: semi-supervised\t  \t\t\n",
    "sklearn.semi_supervised\t  \n",
    "in your training data some of the samples are not labeled.  \t\t\t\n",
    "from sklearn.semi_supervised import LabelPropagation\t\t\t \n",
    "from sklearn.semi_supervised import LabelSpreading\t\t\t \n",
    "\n",
    "If we have labels only for some data\n"
   ]
  },
  {
   "cell_type": "markdown",
   "metadata": {},
   "source": [
    "<a id='E3'></a>"
   ]
  },
  {
   "cell_type": "markdown",
   "metadata": {},
   "source": [
    "## Example Scaling and outliers elimination"
   ]
  },
  {
   "cell_type": "code",
   "execution_count": null,
   "metadata": {},
   "outputs": [],
   "source": [
    "# 1700 features are a lot!\n",
    "from sklearn.model_selection import TimeSeriesSplit\n",
    "tscv = TimeSeriesSplit(n_splits = 10)\n",
    "for train_index, test_index in tscv.split(X):\n",
    "    X_train, X_test = X.iloc[train_index, :], X.iloc[test_index,:]\n",
    "    y_train, y_test = y.iloc[train_index], y.iloc[test_index]\n",
    "from sklearn.preprocessing import MinMaxScaler\n",
    "scaler = MinMaxScaler()\n",
    "X_train = scaler.fit_transform(X_train)\n",
    "# Lose minimum infomation\n",
    "from sklearn.preprocessing import StandardScaler\n",
    "scaler = StandardScaler()\n",
    "X_train = scaler.fit_transform(X_train)\n",
    "X_test = scaler.fit_transform(X_test)\n",
    "from sklearn.preprocessing import RobustScaler\n",
    "scaler = RobustScaler()\n",
    "X_train = scaler.fit_transform(X_train)\n",
    "X_test = scaler.fit_transform(X_test)"
   ]
  },
  {
   "cell_type": "markdown",
   "metadata": {},
   "source": [
    "<a id='M1'></a>"
   ]
  },
  {
   "attachments": {},
   "cell_type": "markdown",
   "metadata": {},
   "source": [
    "## M: Modeling data to give predictive power:  \n",
    "## Regression Attempts:  \n",
    "\n",
    "Robust scaler to take out outlier  \n",
    "\n",
    "Train test split, cross-validation. There is also TimeSeries Split  \n",
    "\n",
    "Bagging SVM\t\t\n",
    "from sklearn.svm import SVC\t\t\n",
    "from sklearn.ensemble import BaggingClassifier\t\t\n",
    "\tclf = BaggingClassifier(base_estimator=SVC(),\t\n",
    "\t                        n_estimators=10, random_state=0).fit(X, y)\t\n",
    "\n",
    "sklearn.ensemble.RandomForestClassifier\t\t\n",
    "\tfrom sklearn.ensemble import RandomForestClassifier\t\n",
    "\tclf = RandomForestClassifier(max_depth=2, random_state=0)\t\n",
    "\tclf.fit(X, y)\tprint(clf.feature_importances_)\n",
    "Extra Trees Classifier\t\t\n",
    "sklearn.ensemble.ExtraTreesClassifier\t\t\n",
    "\n",
    "Gradientboosting is better in general\n",
    "\n",
    "Model : Unsupervised Ckustering\t\n",
    "GMM\tsklearn.mixture.BayesianGaussianMixture\n",
    "\tsklearn.mixture.GaussianMixture\n",
    "from sklearn.cluster import DBSCAN\t\n",
    "from sklearn.cluster import MeanShift"
   ]
  },
  {
   "cell_type": "code",
   "execution_count": 576,
   "metadata": {},
   "outputs": [],
   "source": [
    "from sklearn.model_selection import TimeSeriesSplit\n",
    "tscv = TimeSeriesSplit(n_splits = 20)\n",
    "# for train_index, test_index in tscv.split(X):\n",
    "#     X_train, X_test = X.iloc[train_index, :], X.iloc[test_index,:]\n",
    "#     y_train, y_test = y.iloc[train_index], y.iloc[test_index]\n",
    "    \n",
    "# print(X_train.shape)"
   ]
  },
  {
   "cell_type": "code",
   "execution_count": 578,
   "metadata": {},
   "outputs": [],
   "source": [
    "from sklearn.base import clone\n",
    "from sklearn.linear_model import LinearRegression\n",
    "from sklearn.linear_model import Lasso\n",
    "from sklearn.linear_model import Ridge\n",
    "from sklearn.linear_model import ElasticNet\n",
    "from sklearn.linear_model import HuberRegressor\n",
    "from sklearn.linear_model import LassoLars\n",
    "from sklearn.linear_model import PassiveAggressiveRegressor\n",
    "from sklearn.linear_model import SGDRegressor\n",
    "\n",
    "# prepare a list of ml models\n",
    "def get_models(models=dict()):\n",
    "    # linear models\n",
    "    models['lr'] = LinearRegression()\n",
    "    models['lasso'] = Lasso()\n",
    "    models['ridge'] = Ridge()\n",
    "    models['en'] = ElasticNet()\n",
    "    models['huber'] = HuberRegressor()\n",
    "    models['llars'] = LassoLars()\n",
    "    models['pa'] = PassiveAggressiveRegressor(max_iter=1000, tol=1e-3)\n",
    "    models['sgd'] = SGDRegressor(max_iter=1000, tol=1e-3)\n",
    "    print('Defined %d models' % len(models))\n",
    "    return models\n",
    "\n",
    "from sklearn.neighbors import KNeighborsRegressor\n",
    "from sklearn.tree import DecisionTreeRegressor\n",
    "from sklearn.tree import ExtraTreeRegressor\n",
    "from sklearn.svm import SVR\n",
    "from sklearn.ensemble import AdaBoostRegressor\n",
    "from sklearn.ensemble import BaggingRegressor\n",
    "from sklearn.ensemble import RandomForestRegressor\n",
    "from sklearn.ensemble import ExtraTreesRegressor\n",
    "from sklearn.ensemble import GradientBoostingRegressor\n",
    "# prepare a list of ml models\n",
    "def get_models2(models=dict()):\n",
    "    # non-linear models\n",
    "    models['knn'] = KNeighborsRegressor(n_neighbors=7)\n",
    "    models['cart'] = DecisionTreeRegressor()\n",
    "    models['extra'] = ExtraTreeRegressor()\n",
    "    #models['svmr'] = SVR()\n",
    "    # # ensemble models\n",
    "    n_trees = 100\n",
    "    models['ada'] = AdaBoostRegressor(n_estimators=n_trees)\n",
    "    models['bag'] = BaggingRegressor(n_estimators=n_trees)\n",
    "    models['rf'] = RandomForestRegressor(n_estimators=n_trees)\n",
    "    models['et'] = ExtraTreesRegressor(n_estimators=n_trees)\n",
    "    models['gbm'] = GradientBoostingRegressor(n_estimators=n_trees)\n",
    "    print('Defined %d models' % len(models))\n",
    "    return models\n",
    "def get_models3(models=dict()):\n",
    "    # non-linear models\n",
    "    models['knn'] = KNeighborsRegressor(n_neighbors=7)\n",
    "    models['cart'] = DecisionTreeRegressor()\n",
    "    models['extra'] = ExtraTreeRegressor()\n",
    "    #models['svmr'] = SVR()\n",
    "    # # ensemble models\n",
    "    n_trees = 5\n",
    "    models['ada'] = AdaBoostRegressor(n_estimators=n_trees)\n",
    "    models['bag'] = BaggingRegressor(n_estimators=n_trees)\n",
    "    models['rf'] = RandomForestRegressor(n_estimators=n_trees)\n",
    "    models['et'] = ExtraTreesRegressor(n_estimators=n_trees)\n",
    "    models['gbm'] = GradientBoostingRegressor(n_estimators=n_trees)\n",
    "    print('Defined %d models' % len(models))\n",
    "    return models\n",
    "\n",
    "# evaluate a suite of models\n",
    "def evaluate_models(models):\n",
    "    score_list = []\n",
    "    for name, model in models.items():\n",
    "        scores = cross_val_score(model, X, y, cv=tscv, scoring='r2')\n",
    "        print(name + \": Loss: {0:.3f} (+/- {1:.3f})\".format(scores.mean(), scores.std()))\n",
    "        score_list.append(scores.mean())\n",
    "    return score_list"
   ]
  },
  {
   "cell_type": "code",
   "execution_count": 579,
   "metadata": {},
   "outputs": [
    {
     "name": "stdout",
     "output_type": "stream",
     "text": [
      "Defined 8 models\n",
      "lr: Loss: 0.004 (+/- 0.073)\n",
      "lasso: Loss: -0.009 (+/- 0.025)\n",
      "ridge: Loss: 0.006 (+/- 0.067)\n",
      "en: Loss: -0.009 (+/- 0.025)\n",
      "huber: Loss: -0.077 (+/- 0.032)\n",
      "llars: Loss: -0.009 (+/- 0.025)\n",
      "pa: Loss: -1.059 (+/- 1.659)\n",
      "sgd: Loss: -456.586 (+/- 1884.465)\n"
     ]
    }
   ],
   "source": [
    "from sklearn.model_selection import cross_val_score\n",
    "from sklearn.metrics import r2_score\n",
    "l_ = evaluate_models(get_models())"
   ]
  },
  {
   "cell_type": "code",
   "execution_count": 580,
   "metadata": {},
   "outputs": [
    {
     "name": "stdout",
     "output_type": "stream",
     "text": [
      "Defined 8 models\n",
      "knn: Loss: -0.136 (+/- 0.125)\n",
      "cart: Loss: -1.915 (+/- 2.373)\n",
      "extra: Loss: -1.980 (+/- 1.947)\n",
      "ada: Loss: -2.846 (+/- 2.567)\n",
      "bag: Loss: -0.145 (+/- 0.265)\n",
      "rf: Loss: -0.140 (+/- 0.236)\n",
      "et: Loss: -0.119 (+/- 0.212)\n",
      "gbm: Loss: -0.144 (+/- 0.212)\n"
     ]
    }
   ],
   "source": [
    "l_ += evaluate_models(get_models2())"
   ]
  },
  {
   "cell_type": "code",
   "execution_count": 253,
   "metadata": {},
   "outputs": [
    {
     "name": "stdout",
     "output_type": "stream",
     "text": [
      "Defined 8 models\n",
      "knn: Loss: -0.147 (+/- 0.186)\n",
      "cart: Loss: -1.534 (+/- 1.039)\n",
      "extra: Loss: -1.363 (+/- 0.945)\n",
      "ada: Loss: -0.279 (+/- 0.648)\n",
      "bag: Loss: -0.457 (+/- 0.453)\n",
      "rf: Loss: -0.596 (+/- 0.685)\n",
      "et: Loss: -0.326 (+/- 0.222)\n",
      "gbm: Loss: -0.001 (+/- 0.059)\n"
     ]
    }
   ],
   "source": [
    "l_ += evaluate_models(get_models3())"
   ]
  },
  {
   "cell_type": "code",
   "execution_count": 273,
   "metadata": {},
   "outputs": [
    {
     "data": {
      "text/plain": [
       "[<matplotlib.lines.Line2D at 0x27545507e88>]"
      ]
     },
     "execution_count": 273,
     "metadata": {},
     "output_type": "execute_result"
    },
    {
     "data": {
      "image/png": "[encoded data removed]",
      "text/plain": [
       "<Figure size 432x288 with 1 Axes>"
      ]
     },
     "metadata": {
      "needs_background": "light"
     },
     "output_type": "display_data"
    }
   ],
   "source": [
    "N = 100\n",
    "plt.plot(np.convolve(pred, np.ones((N,))/N, mode='valid'), color = 'red')\n",
    "plt.plot(np.convolve(y, np.ones((N,))/N, mode='valid'), color = 'blue')"
   ]
  },
  {
   "cell_type": "code",
   "execution_count": 583,
   "metadata": {},
   "outputs": [
    {
     "data": {
      "text/plain": [
       "[<matplotlib.lines.Line2D at 0x27743161b88>]"
      ]
     },
     "execution_count": 583,
     "metadata": {},
     "output_type": "execute_result"
    },
    {
     "data": {
      "image/png": "[encoded data removed]",
      "text/plain": [
       "<Figure size 432x288 with 1 Axes>"
      ]
     },
     "metadata": {
      "needs_background": "light"
     },
     "output_type": "display_data"
    }
   ],
   "source": [
    "plt.plot(np.convolve(y, np.ones((N,))/N, mode='valid'), color = 'blue')"
   ]
  },
  {
   "cell_type": "code",
   "execution_count": 600,
   "metadata": {},
   "outputs": [],
   "source": [
    "rs['Temp'] = rs['Temp'].astype(float)\n",
    "rs['Temp'] =rs['Temp'].interpolate(method='time')"
   ]
  },
  {
   "cell_type": "code",
   "execution_count": 601,
   "metadata": {},
   "outputs": [
    {
     "name": "stdout",
     "output_type": "stream",
     "text": [
      "(8911, 180)\n",
      "(8911,)\n",
      "Defined 8 models\n",
      "lr: Loss: -0.532 (+/- 1.116)\n",
      "lasso: Loss: -0.029 (+/- 0.056)\n",
      "ridge: Loss: -0.475 (+/- 1.003)\n",
      "en: Loss: -0.029 (+/- 0.056)\n",
      "huber: Loss: -6.274 (+/- 10.160)\n",
      "llars: Loss: -0.029 (+/- 0.056)\n",
      "pa: Loss: -0.280 (+/- 0.463)\n",
      "sgd: Loss: -2045170980951869851487897032589312.000 (+/- 5876931000703670136903683893362688.000)\n",
      "Defined 8 models\n",
      "knn: Loss: -0.062 (+/- 0.198)\n",
      "cart: Loss: -1.430 (+/- 4.244)\n",
      "extra: Loss: -1.613 (+/- 2.531)\n",
      "ada: Loss: -0.592 (+/- 2.319)\n",
      "bag: Loss: -0.322 (+/- 1.291)\n",
      "rf: Loss: -0.209 (+/- 0.854)\n",
      "et: Loss: -0.110 (+/- 0.668)\n",
      "gbm: Loss: 0.073 (+/- 0.248)\n"
     ]
    }
   ],
   "source": [
    "rse = rs.resample('1D').mean()\n",
    "temp = [rse] + [rse.shift(i) for i in range(1,10)]\n",
    "rse = pd.concat(temp, axis=1)\n",
    "\n",
    "X = rse.iloc[100:-1, :]\n",
    "y = (rs['Temp'].resample('1D').mean()).shift(-1)>0\n",
    "y = y.interpolate(method ='bfill')\n",
    "y = y[100:-1].astype('int')\n",
    "\n",
    "print(X.shape)\n",
    "print(y.shape)\n",
    "\n",
    "l_ = evaluate_models(get_models())\n",
    "l_ = evaluate_models(get_models3())"
   ]
  },
  {
   "cell_type": "markdown",
   "metadata": {},
   "source": [
    "<a id='M2'></a>"
   ]
  },
  {
   "cell_type": "markdown",
   "metadata": {},
   "source": [
    "## SARIMAX model"
   ]
  },
  {
   "cell_type": "code",
   "execution_count": 609,
   "metadata": {},
   "outputs": [
    {
     "name": "stdout",
     "output_type": "stream",
     "text": [
      "ARIMA(0, 0, 0)x(0, 0, 0, 12)12 - AIC:6720.5579489478605\n",
      "ARIMA(0, 0, 0)x(0, 0, 1, 12)12 - AIC:5859.198336251999\n",
      "ARIMA(0, 0, 0)x(0, 1, 0, 12)12 - AIC:4828.734145832056\n",
      "ARIMA(0, 0, 0)x(0, 1, 1, 12)12 - AIC:4685.913925061459\n",
      "ARIMA(0, 0, 0)x(1, 0, 0, 12)12 - AIC:4795.831415975139\n",
      "ARIMA(0, 0, 0)x(1, 0, 1, 12)12 - AIC:4727.674020237402\n",
      "ARIMA(0, 0, 0)x(1, 1, 0, 12)12 - AIC:4755.8375050559935\n",
      "ARIMA(0, 0, 0)x(1, 1, 1, 12)12 - AIC:4656.777304061421\n",
      "ARIMA(0, 0, 1)x(0, 0, 0, 12)12 - AIC:5420.9325571032605\n",
      "ARIMA(0, 0, 1)x(0, 0, 1, 12)12 - AIC:4603.614355381862\n",
      "ARIMA(0, 0, 1)x(0, 1, 0, 12)12 - AIC:3702.794559838696\n",
      "ARIMA(0, 0, 1)x(0, 1, 1, 12)12 - AIC:3566.626743702842\n",
      "ARIMA(0, 0, 1)x(1, 0, 0, 12)12 - AIC:3665.5788339708683\n",
      "ARIMA(0, 0, 1)x(1, 0, 1, 12)12 - AIC:3596.070028662496\n",
      "ARIMA(0, 0, 1)x(1, 1, 0, 12)12 - AIC:3645.059184613283\n",
      "ARIMA(0, 0, 1)x(1, 1, 1, 12)12 - AIC:3535.332892095103\n",
      "ARIMA(0, 1, 0)x(0, 0, 0, 12)12 - AIC:1509.8502583795826\n",
      "ARIMA(0, 1, 0)x(0, 0, 1, 12)12 - AIC:1495.7667969570234\n",
      "ARIMA(0, 1, 0)x(0, 1, 0, 12)12 - AIC:2260.2487254894822\n",
      "ARIMA(0, 1, 0)x(0, 1, 1, 12)12 - AIC:1531.8649666995275\n",
      "ARIMA(0, 1, 0)x(1, 0, 0, 12)12 - AIC:1497.502631397181\n",
      "ARIMA(0, 1, 0)x(1, 0, 1, 12)12 - AIC:1495.0642363160246\n",
      "ARIMA(0, 1, 0)x(1, 1, 0, 12)12 - AIC:1955.5312448018124\n",
      "ARIMA(0, 1, 0)x(1, 1, 1, 12)12 - AIC:1534.873461166094\n",
      "ARIMA(0, 1, 1)x(0, 0, 0, 12)12 - AIC:1473.5198244888895\n",
      "ARIMA(0, 1, 1)x(0, 0, 1, 12)12 - AIC:1462.519050519288\n",
      "ARIMA(0, 1, 1)x(0, 1, 0, 12)12 - AIC:2200.4690407449143\n",
      "ARIMA(0, 1, 1)x(0, 1, 1, 12)12 - AIC:1496.2105692996038\n",
      "ARIMA(0, 1, 1)x(1, 0, 0, 12)12 - AIC:1464.6062980973593\n",
      "ARIMA(0, 1, 1)x(1, 0, 1, 12)12 - AIC:1463.205927578259\n",
      "ARIMA(0, 1, 1)x(1, 1, 0, 12)12 - AIC:1906.503363377792\n",
      "ARIMA(0, 1, 1)x(1, 1, 1, 12)12 - AIC:1501.678520399875\n",
      "ARIMA(1, 0, 0)x(0, 0, 0, 12)12 - AIC:1511.1058109207386\n",
      "ARIMA(1, 0, 0)x(0, 0, 1, 12)12 - AIC:1507.0319056302362\n",
      "ARIMA(1, 0, 0)x(0, 1, 0, 12)12 - AIC:2245.0580655557883\n",
      "ARIMA(1, 0, 0)x(0, 1, 1, 12)12 - AIC:1528.943698270561\n",
      "ARIMA(1, 0, 0)x(1, 0, 0, 12)12 - AIC:1498.337345079447\n",
      "ARIMA(1, 0, 0)x(1, 0, 1, 12)12 - AIC:1496.434319964716\n",
      "ARIMA(1, 0, 0)x(1, 1, 0, 12)12 - AIC:1944.4409040455457\n",
      "ARIMA(1, 0, 0)x(1, 1, 1, 12)12 - AIC:1533.087765352356\n",
      "ARIMA(1, 0, 1)x(0, 0, 0, 12)12 - AIC:1474.3199710498689\n",
      "ARIMA(1, 0, 1)x(0, 0, 1, 12)12 - AIC:1470.1837804495867\n",
      "ARIMA(1, 0, 1)x(0, 1, 0, 12)12 - AIC:2178.154492944731\n",
      "ARIMA(1, 0, 1)x(0, 1, 1, 12)12 - AIC:1491.5127863862635\n",
      "ARIMA(1, 0, 1)x(1, 0, 0, 12)12 - AIC:1465.0041520065533\n",
      "ARIMA(1, 0, 1)x(1, 0, 1, 12)12 - AIC:1464.703888928306\n",
      "ARIMA(1, 0, 1)x(1, 1, 0, 12)12 - AIC:1890.7602359495027\n",
      "ARIMA(1, 0, 1)x(1, 1, 1, 12)12 - AIC:1498.353416447825\n",
      "ARIMA(1, 1, 0)x(0, 0, 0, 12)12 - AIC:1462.033693181569\n",
      "ARIMA(1, 1, 0)x(0, 0, 1, 12)12 - AIC:1452.786788430432\n",
      "ARIMA(1, 1, 0)x(0, 1, 0, 12)12 - AIC:2180.8547869897457\n",
      "ARIMA(1, 1, 0)x(0, 1, 1, 12)12 - AIC:1485.3099671335772\n",
      "ARIMA(1, 1, 0)x(1, 0, 0, 12)12 - AIC:1453.0790183606014\n",
      "ARIMA(1, 1, 0)x(1, 0, 1, 12)12 - AIC:1454.0387819602688\n",
      "ARIMA(1, 1, 0)x(1, 1, 0, 12)12 - AIC:1886.177979526619\n",
      "ARIMA(1, 1, 0)x(1, 1, 1, 12)12 - AIC:1492.262434096357\n",
      "ARIMA(1, 1, 1)x(0, 0, 0, 12)12 - AIC:1424.6193590536732\n",
      "ARIMA(1, 1, 1)x(0, 0, 1, 12)12 - AIC:1416.1383261168398\n",
      "ARIMA(1, 1, 1)x(0, 1, 0, 12)12 - AIC:2136.381168150904\n",
      "ARIMA(1, 1, 1)x(0, 1, 1, 12)12 - AIC:1446.8911872734996\n",
      "ARIMA(1, 1, 1)x(1, 0, 0, 12)12 - AIC:1417.4275021891272\n",
      "ARIMA(1, 1, 1)x(1, 0, 1, 12)12 - AIC:1418.0892224291006\n",
      "ARIMA(1, 1, 1)x(1, 1, 0, 12)12 - AIC:1833.21781111433\n",
      "ARIMA(1, 1, 1)x(1, 1, 1, 12)12 - AIC:1454.580334072556\n"
     ]
    }
   ],
   "source": [
    "# SARIMAX example (Akaike Information Criterion)\n",
    "from statsmodels.tsa.statespace.sarimax import SARIMAX\n",
    "from statsmodels.tsa.arima_model import ARIMA\n",
    "from random import random\n",
    "# contrived dataset\n",
    "# fit model\n",
    "p = d = q = range(0, 2)\n",
    "pdq = list(itertools.product(p, d, q))\n",
    "seasonal_pdq = [(x[0], x[1], x[2], 12) for x in list(itertools.product(p, d, q))]\n",
    "for param in pdq:\n",
    "    for param_seasonal in seasonal_pdq:\n",
    "        try:\n",
    "            mod = SARIMAX(rs['Temp'].iloc[-1500:-500],\n",
    "                                            order=param,\n",
    "                                            seasonal_order=param_seasonal,\n",
    "                                            enforce_stationarity=False,\n",
    "                                            enforce_invertibility=False)\n",
    "\n",
    "            results = mod.fit()\n",
    "\n",
    "            print('ARIMA{}x{}12 - AIC:{}'.format(param, param_seasonal, results.aic))\n",
    "        except:\n",
    "            continue"
   ]
  },
  {
   "cell_type": "code",
   "execution_count": 614,
   "metadata": {
    "scrolled": true
   },
   "outputs": [
    {
     "data": {
      "text/plain": [
       "[<matplotlib.lines.Line2D at 0x274407e37c8>]"
      ]
     },
     "execution_count": 614,
     "metadata": {},
     "output_type": "execute_result"
    },
    {
     "data": {
      "image/png": "[encoded data removed]",
      "text/plain": [
       "<Figure size 432x288 with 1 Axes>"
      ]
     },
     "metadata": {
      "needs_background": "light"
     },
     "output_type": "display_data"
    }
   ],
   "source": [
    "model = SARIMAX(rs['Temp'].iloc[-2500:-1000], order=(1, 1, 1),seasonal_order=(1, 1, 1, 12),\n",
    "                                enforce_stationarity=False,\n",
    "                                enforce_invertibility=False)\n",
    "model_fit = model.fit(disp=False)\n",
    "# make prediction\n",
    "yhat = model_fit.predict(len(rs['Temp'].iloc[-2500:-1000]), len(rs['Temp'].iloc[-2500:-1000])+500)\n",
    "plt.plot(rs['Temp'].iloc[-2500:-1000])\n",
    "plt.plot(rs['Temp'].iloc[-1000:])\n",
    "plt.plot(yhat,color='red')"
   ]
  },
  {
   "cell_type": "markdown",
   "metadata": {},
   "source": [
    "<a id='M3'></a>"
   ]
  },
  {
   "cell_type": "markdown",
   "metadata": {},
   "source": [
    "# Classification: Rain vs No Rain"
   ]
  },
  {
   "cell_type": "code",
   "execution_count": 615,
   "metadata": {},
   "outputs": [],
   "source": [
    "rse = rs.resample('1D').mean()\n",
    "rse['Day'] = pd.DatetimeIndex(rse.index).day\n",
    "rse['Year'] = pd.DatetimeIndex(rse.index).year\n",
    "X = rse.loc[:, :]\n",
    "y = rse['Rain'].shift(-1)>0\n",
    "y = y.interpolate(method ='bfill')\n",
    "y = y.astype('int')"
   ]
  },
  {
   "cell_type": "code",
   "execution_count": 284,
   "metadata": {},
   "outputs": [
    {
     "data": {
      "text/plain": [
       "0.5560363959165557"
      ]
     },
     "execution_count": 284,
     "metadata": {},
     "output_type": "execute_result"
    }
   ],
   "source": [
    "np.sum(y==1)/len(y)"
   ]
  },
  {
   "cell_type": "code",
   "execution_count": 285,
   "metadata": {},
   "outputs": [
    {
     "name": "stdout",
     "output_type": "stream",
     "text": [
      "(8193, 19)\n"
     ]
    }
   ],
   "source": [
    "from sklearn.model_selection import TimeSeriesSplit\n",
    "tscv = TimeSeriesSplit(n_splits = 10)\n",
    "for train_index, test_index in tscv.split(X):\n",
    "    X_train, X_test = X.iloc[train_index, :], X.iloc[test_index,:]\n",
    "    y_train, y_test = y.iloc[train_index], y.iloc[test_index]\n",
    "    \n",
    "print(X_train.shape)"
   ]
  },
  {
   "cell_type": "code",
   "execution_count": null,
   "metadata": {},
   "outputs": [],
   "source": []
  },
  {
   "cell_type": "code",
   "execution_count": 299,
   "metadata": {},
   "outputs": [],
   "source": [
    "def evaluate_models(models):\n",
    "    score_list = []\n",
    "    for name, model in models.items():\n",
    "        scores = cross_val_score(model, X_train, y_train, cv=tscv, scoring='accuracy')\n",
    "        print(name + \": Accuracy: {0:.3f} (+/- {1:.3f})\".format(scores.mean(), scores.std()))\n",
    "        score_list.append(scores.mean())\n",
    "        scores = cross_val_score(model, X_train, y_train, cv=tscv, scoring='roc_auc')\n",
    "        print(name + \": AUC: {0:.3f} (+/- {1:.3f})\".format(scores.mean(), scores.std()))\n",
    "        score_list.append(scores.mean())\n",
    "    return score_list\n",
    "\n",
    "from sklearn.neural_network import MLPClassifier\n",
    "from sklearn.neighbors import KNeighborsClassifier\n",
    "from sklearn.tree import DecisionTreeClassifier\n",
    "from sklearn.tree import ExtraTreeClassifier\n",
    "from sklearn.svm import SVC\n",
    "from sklearn.gaussian_process import GaussianProcessClassifier\n",
    "from sklearn.ensemble import AdaBoostClassifier\n",
    "from sklearn.ensemble import BaggingClassifier\n",
    "from sklearn.ensemble import RandomForestClassifier\n",
    "from sklearn.ensemble import ExtraTreesClassifier\n",
    "from sklearn.ensemble import GradientBoostingClassifier\n",
    "from sklearn.naive_bayes import GaussianNB\n",
    "from sklearn.tree import DecisionTreeClassifier\n",
    "# prepare a list of ml models\n",
    "def get_models(models=dict()):\n",
    "    # non-linear models\n",
    "    models['mlp'] = MLPClassifier()\n",
    "    models['knn'] = KNeighborsClassifier(n_neighbors=7)\n",
    "    models['cart'] = DecisionTreeClassifier()\n",
    "    #models['svc'] = SVC()\n",
    "    #models['gp'] = GaussianProcessClassifier()\n",
    "    models['gm'] = GaussianNB()\n",
    "    # # ensemble models\n",
    "    n_trees = 50\n",
    "    models['dt'] = DecisionTreeClassifier()\n",
    "    models['ada'] = AdaBoostClassifier(n_estimators=n_trees)\n",
    "    models['bag'] = BaggingClassifier(n_estimators=n_trees)\n",
    "    models['rf'] = RandomForestClassifier(n_estimators=n_trees)\n",
    "    models['et'] = ExtraTreesClassifier(n_estimators=n_trees)\n",
    "    models['gbm'] = GradientBoostingClassifier(n_estimators=n_trees)\n",
    "    print('Defined %d models' % len(models))\n",
    "    return models\n"
   ]
  },
  {
   "cell_type": "code",
   "execution_count": 300,
   "metadata": {},
   "outputs": [
    {
     "name": "stdout",
     "output_type": "stream",
     "text": [
      "Defined 10 models\n",
      "mlp: Loss: 0.581 (+/- 0.057)\n",
      "mlp: Loss: 0.643 (+/- 0.052)\n",
      "knn: Loss: 0.604 (+/- 0.029)\n",
      "knn: Loss: 0.627 (+/- 0.031)\n",
      "cart: Loss: 0.581 (+/- 0.029)\n",
      "cart: Loss: 0.562 (+/- 0.025)\n",
      "gm: Loss: 0.610 (+/- 0.030)\n",
      "gm: Loss: 0.647 (+/- 0.038)\n",
      "dt: Loss: 0.575 (+/- 0.031)\n",
      "dt: Loss: 0.557 (+/- 0.021)\n",
      "ada: Loss: 0.648 (+/- 0.022)\n",
      "ada: Loss: 0.681 (+/- 0.027)\n",
      "bag: Loss: 0.635 (+/- 0.029)\n",
      "bag: Loss: 0.672 (+/- 0.026)\n",
      "rf: Loss: 0.635 (+/- 0.035)\n",
      "rf: Loss: 0.678 (+/- 0.030)\n",
      "et: Loss: 0.623 (+/- 0.045)\n",
      "et: Loss: 0.660 (+/- 0.029)\n",
      "gbm: Loss: 0.656 (+/- 0.029)\n",
      "gbm: Loss: 0.700 (+/- 0.030)\n"
     ]
    }
   ],
   "source": [
    "l2_ = evaluate_models(get_models())"
   ]
  },
  {
   "cell_type": "markdown",
   "metadata": {},
   "source": [
    "<a id='M4'></a>"
   ]
  },
  {
   "cell_type": "markdown",
   "metadata": {},
   "source": [
    "## Add lagged features:\n"
   ]
  },
  {
   "cell_type": "code",
   "execution_count": 525,
   "metadata": {},
   "outputs": [
    {
     "name": "stdout",
     "output_type": "stream",
     "text": [
      "(8911, 170)\n",
      "(8911,)\n"
     ]
    }
   ],
   "source": [
    "rse = rs.resample('1D').mean()\n",
    "temp = [rse] + [rse.shift(i) for i in range(1,10)]\n",
    "rse = pd.concat(temp, axis=1)\n",
    "\n",
    "X = rse.iloc[100:-1, :]\n",
    "y = (rs.resample('1D').mean())['Rain'].shift(-1)>0\n",
    "y = y.interpolate(method ='bfill')\n",
    "y = y[100:-1].astype('int')\n",
    "\n",
    "print(X.shape)\n",
    "print(y.shape)"
   ]
  },
  {
   "cell_type": "code",
   "execution_count": 374,
   "metadata": {},
   "outputs": [
    {
     "data": {
      "text/html": [
       "<div>\n",
       "<style scoped>\n",
       "    .dataframe tbody tr th:only-of-type {\n",
       "        vertical-align: middle;\n",
       "    }\n",
       "\n",
       "    .dataframe tbody tr th {\n",
       "        vertical-align: top;\n",
       "    }\n",
       "\n",
       "    .dataframe thead th {\n",
       "        text-align: right;\n",
       "    }\n",
       "</style>\n",
       "<table border=\"1\" class=\"dataframe\">\n",
       "  <thead>\n",
       "    <tr style=\"text-align: right;\">\n",
       "      <th></th>\n",
       "      <th>Rain</th>\n",
       "      <th>Rain</th>\n",
       "      <th>Rain</th>\n",
       "      <th>Rain</th>\n",
       "      <th>Rain</th>\n",
       "      <th>Rain</th>\n",
       "      <th>Rain</th>\n",
       "      <th>Rain</th>\n",
       "      <th>Rain</th>\n",
       "      <th>Rain</th>\n",
       "      <th>...</th>\n",
       "      <th>Rain</th>\n",
       "      <th>Rain</th>\n",
       "      <th>Rain</th>\n",
       "      <th>Rain</th>\n",
       "      <th>Rain</th>\n",
       "      <th>Rain</th>\n",
       "      <th>Rain</th>\n",
       "      <th>Rain</th>\n",
       "      <th>Rain</th>\n",
       "      <th>Rain</th>\n",
       "    </tr>\n",
       "    <tr>\n",
       "      <th>t</th>\n",
       "      <th></th>\n",
       "      <th></th>\n",
       "      <th></th>\n",
       "      <th></th>\n",
       "      <th></th>\n",
       "      <th></th>\n",
       "      <th></th>\n",
       "      <th></th>\n",
       "      <th></th>\n",
       "      <th></th>\n",
       "      <th></th>\n",
       "      <th></th>\n",
       "      <th></th>\n",
       "      <th></th>\n",
       "      <th></th>\n",
       "      <th></th>\n",
       "      <th></th>\n",
       "      <th></th>\n",
       "      <th></th>\n",
       "      <th></th>\n",
       "      <th></th>\n",
       "    </tr>\n",
       "  </thead>\n",
       "  <tbody>\n",
       "    <tr>\n",
       "      <td>1995-10-08</td>\n",
       "      <td>0.008542</td>\n",
       "      <td>0.401875</td>\n",
       "      <td>0.326667</td>\n",
       "      <td>0.006667</td>\n",
       "      <td>0.612917</td>\n",
       "      <td>0.000000</td>\n",
       "      <td>0.017083</td>\n",
       "      <td>0.407292</td>\n",
       "      <td>0.093542</td>\n",
       "      <td>0.072500</td>\n",
       "      <td>...</td>\n",
       "      <td>0.000000</td>\n",
       "      <td>0.000000</td>\n",
       "      <td>0.000000</td>\n",
       "      <td>0.000000</td>\n",
       "      <td>0.0</td>\n",
       "      <td>0.0</td>\n",
       "      <td>0.0</td>\n",
       "      <td>0.004167</td>\n",
       "      <td>1.828333</td>\n",
       "      <td>0.000000</td>\n",
       "    </tr>\n",
       "    <tr>\n",
       "      <td>1995-10-09</td>\n",
       "      <td>0.000000</td>\n",
       "      <td>0.008542</td>\n",
       "      <td>0.401875</td>\n",
       "      <td>0.326667</td>\n",
       "      <td>0.006667</td>\n",
       "      <td>0.612917</td>\n",
       "      <td>0.000000</td>\n",
       "      <td>0.017083</td>\n",
       "      <td>0.407292</td>\n",
       "      <td>0.093542</td>\n",
       "      <td>...</td>\n",
       "      <td>0.038125</td>\n",
       "      <td>0.000000</td>\n",
       "      <td>0.000000</td>\n",
       "      <td>0.000000</td>\n",
       "      <td>0.0</td>\n",
       "      <td>0.0</td>\n",
       "      <td>0.0</td>\n",
       "      <td>0.000000</td>\n",
       "      <td>0.004167</td>\n",
       "      <td>1.828333</td>\n",
       "    </tr>\n",
       "    <tr>\n",
       "      <td>1995-10-10</td>\n",
       "      <td>0.005625</td>\n",
       "      <td>0.000000</td>\n",
       "      <td>0.008542</td>\n",
       "      <td>0.401875</td>\n",
       "      <td>0.326667</td>\n",
       "      <td>0.006667</td>\n",
       "      <td>0.612917</td>\n",
       "      <td>0.000000</td>\n",
       "      <td>0.017083</td>\n",
       "      <td>0.407292</td>\n",
       "      <td>...</td>\n",
       "      <td>0.004583</td>\n",
       "      <td>0.038125</td>\n",
       "      <td>0.000000</td>\n",
       "      <td>0.000000</td>\n",
       "      <td>0.0</td>\n",
       "      <td>0.0</td>\n",
       "      <td>0.0</td>\n",
       "      <td>0.000000</td>\n",
       "      <td>0.000000</td>\n",
       "      <td>0.004167</td>\n",
       "    </tr>\n",
       "    <tr>\n",
       "      <td>1995-10-11</td>\n",
       "      <td>0.000000</td>\n",
       "      <td>0.005625</td>\n",
       "      <td>0.000000</td>\n",
       "      <td>0.008542</td>\n",
       "      <td>0.401875</td>\n",
       "      <td>0.326667</td>\n",
       "      <td>0.006667</td>\n",
       "      <td>0.612917</td>\n",
       "      <td>0.000000</td>\n",
       "      <td>0.017083</td>\n",
       "      <td>...</td>\n",
       "      <td>0.504375</td>\n",
       "      <td>0.004583</td>\n",
       "      <td>0.038125</td>\n",
       "      <td>0.000000</td>\n",
       "      <td>0.0</td>\n",
       "      <td>0.0</td>\n",
       "      <td>0.0</td>\n",
       "      <td>0.000000</td>\n",
       "      <td>0.000000</td>\n",
       "      <td>0.000000</td>\n",
       "    </tr>\n",
       "    <tr>\n",
       "      <td>1995-10-12</td>\n",
       "      <td>0.005833</td>\n",
       "      <td>0.000000</td>\n",
       "      <td>0.005625</td>\n",
       "      <td>0.000000</td>\n",
       "      <td>0.008542</td>\n",
       "      <td>0.401875</td>\n",
       "      <td>0.326667</td>\n",
       "      <td>0.006667</td>\n",
       "      <td>0.612917</td>\n",
       "      <td>0.000000</td>\n",
       "      <td>...</td>\n",
       "      <td>0.376875</td>\n",
       "      <td>0.504375</td>\n",
       "      <td>0.004583</td>\n",
       "      <td>0.038125</td>\n",
       "      <td>0.0</td>\n",
       "      <td>0.0</td>\n",
       "      <td>0.0</td>\n",
       "      <td>0.000000</td>\n",
       "      <td>0.000000</td>\n",
       "      <td>0.000000</td>\n",
       "    </tr>\n",
       "  </tbody>\n",
       "</table>\n",
       "<p>5 rows × 100 columns</p>\n",
       "</div>"
      ],
      "text/plain": [
       "                Rain      Rain      Rain      Rain      Rain      Rain  \\\n",
       "t                                                                        \n",
       "1995-10-08  0.008542  0.401875  0.326667  0.006667  0.612917  0.000000   \n",
       "1995-10-09  0.000000  0.008542  0.401875  0.326667  0.006667  0.612917   \n",
       "1995-10-10  0.005625  0.000000  0.008542  0.401875  0.326667  0.006667   \n",
       "1995-10-11  0.000000  0.005625  0.000000  0.008542  0.401875  0.326667   \n",
       "1995-10-12  0.005833  0.000000  0.005625  0.000000  0.008542  0.401875   \n",
       "\n",
       "                Rain      Rain      Rain      Rain  ...      Rain      Rain  \\\n",
       "t                                                   ...                       \n",
       "1995-10-08  0.017083  0.407292  0.093542  0.072500  ...  0.000000  0.000000   \n",
       "1995-10-09  0.000000  0.017083  0.407292  0.093542  ...  0.038125  0.000000   \n",
       "1995-10-10  0.612917  0.000000  0.017083  0.407292  ...  0.004583  0.038125   \n",
       "1995-10-11  0.006667  0.612917  0.000000  0.017083  ...  0.504375  0.004583   \n",
       "1995-10-12  0.326667  0.006667  0.612917  0.000000  ...  0.376875  0.504375   \n",
       "\n",
       "                Rain      Rain  Rain  Rain  Rain      Rain      Rain      Rain  \n",
       "t                                                                               \n",
       "1995-10-08  0.000000  0.000000   0.0   0.0   0.0  0.004167  1.828333  0.000000  \n",
       "1995-10-09  0.000000  0.000000   0.0   0.0   0.0  0.000000  0.004167  1.828333  \n",
       "1995-10-10  0.000000  0.000000   0.0   0.0   0.0  0.000000  0.000000  0.004167  \n",
       "1995-10-11  0.038125  0.000000   0.0   0.0   0.0  0.000000  0.000000  0.000000  \n",
       "1995-10-12  0.004583  0.038125   0.0   0.0   0.0  0.000000  0.000000  0.000000  \n",
       "\n",
       "[5 rows x 100 columns]"
      ]
     },
     "execution_count": 374,
     "metadata": {},
     "output_type": "execute_result"
    }
   ],
   "source": [
    "rse.iloc[100:-1, :]['Rain'].head()"
   ]
  },
  {
   "cell_type": "code",
   "execution_count": 441,
   "metadata": {},
   "outputs": [],
   "source": [
    "# 1700 features are a lot!\n",
    "from sklearn.model_selection import TimeSeriesSplit\n",
    "tscv = TimeSeriesSplit(n_splits = 10)\n",
    "for train_index, test_index in tscv.split(X):\n",
    "    X_train, X_test = X.iloc[train_index, :], X.iloc[test_index,:]\n",
    "    y_train, y_test = y.iloc[train_index], y.iloc[test_index]\n",
    "from sklearn.preprocessing import MinMaxScaler\n",
    "scaler = MinMaxScaler()\n",
    "X_train = scaler.fit_transform(X_train)\n",
    "# Lose minimum infomation\n",
    "from sklearn.preprocessing import StandardScaler\n",
    "scaler = StandardScaler()\n",
    "X_train = scaler.fit_transform(X_train)\n",
    "X_test = scaler.fit_transform(X_test)"
   ]
  },
  {
   "cell_type": "code",
   "execution_count": 427,
   "metadata": {},
   "outputs": [
    {
     "name": "stdout",
     "output_type": "stream",
     "text": [
      "WindSp: Loss: 0.662 (+/- 0.022)\n"
     ]
    }
   ],
   "source": [
    "gbm = GradientBoostingClassifier(n_estimators=50) \n",
    "scores = cross_val_score(gbm, X_train, y_train, cv=tscv, scoring='accuracy')\n",
    "print(name + \": Loss: {0:.3f} (+/- {1:.3f})\".format(scores.mean(), scores.std()))"
   ]
  },
  {
   "cell_type": "code",
   "execution_count": 448,
   "metadata": {},
   "outputs": [
    {
     "name": "stdout",
     "output_type": "stream",
     "text": [
      "WindSp: Loss: 0.665 (+/- 0.024)\n"
     ]
    },
    {
     "data": {
      "text/plain": [
       "0.6506172839506172"
      ]
     },
     "execution_count": 448,
     "metadata": {},
     "output_type": "execute_result"
    }
   ],
   "source": [
    "from sklearn.feature_selection import f_classif\n",
    "from sklearn.feature_selection import SelectKBest\n",
    "from sklearn.feature_selection import chi2\n",
    "\n",
    "#sk = SelectKBest(chi2, k=20).fit(X_train, y_train)\n",
    "#X_train = sk.transform(X_train)\n",
    "gbm = GradientBoostingClassifier(n_estimators=50) \n",
    "scores = cross_val_score(gbm, X_train, y_train, cv=tscv, scoring='accuracy')\n",
    "print(name + \": Loss: {0:.3f} (+/- {1:.3f})\".format(scores.mean(), scores.std()))\n",
    "\n",
    "from sklearn.metrics import accuracy_score\n",
    "gbm.fit(X_train,y_train)\n",
    "accuracy_score(y_test, gbm.predict(X_test))"
   ]
  },
  {
   "cell_type": "code",
   "execution_count": 450,
   "metadata": {},
   "outputs": [
    {
     "data": {
      "text/plain": [
       "0.7179360572768794"
      ]
     },
     "execution_count": 450,
     "metadata": {},
     "output_type": "execute_result"
    }
   ],
   "source": [
    "accuracy_score(y_train, gbm.predict(X_train))"
   ]
  },
  {
   "cell_type": "code",
   "execution_count": 476,
   "metadata": {},
   "outputs": [
    {
     "data": {
      "text/html": [
       "<div>\n",
       "<style scoped>\n",
       "    .dataframe tbody tr th:only-of-type {\n",
       "        vertical-align: middle;\n",
       "    }\n",
       "\n",
       "    .dataframe tbody tr th {\n",
       "        vertical-align: top;\n",
       "    }\n",
       "\n",
       "    .dataframe thead th {\n",
       "        text-align: right;\n",
       "    }\n",
       "</style>\n",
       "<table border=\"1\" class=\"dataframe\">\n",
       "  <thead>\n",
       "    <tr style=\"text-align: right;\">\n",
       "      <th></th>\n",
       "      <th>Rain</th>\n",
       "      <th>Press</th>\n",
       "      <th>Rain</th>\n",
       "      <th>Rain</th>\n",
       "      <th>Rain</th>\n",
       "      <th>Rain</th>\n",
       "      <th>Rain</th>\n",
       "      <th>WindDr_S</th>\n",
       "      <th>WindDr_SE</th>\n",
       "      <th>Rain</th>\n",
       "      <th>Press</th>\n",
       "      <th>Press</th>\n",
       "      <th>Rain</th>\n",
       "      <th>Rain</th>\n",
       "      <th>Press</th>\n",
       "      <th>WindDr_SE</th>\n",
       "      <th>Rain</th>\n",
       "      <th>Press</th>\n",
       "      <th>WindDr_SE</th>\n",
       "      <th>WindDr_SE</th>\n",
       "    </tr>\n",
       "    <tr>\n",
       "      <th>t</th>\n",
       "      <th></th>\n",
       "      <th></th>\n",
       "      <th></th>\n",
       "      <th></th>\n",
       "      <th></th>\n",
       "      <th></th>\n",
       "      <th></th>\n",
       "      <th></th>\n",
       "      <th></th>\n",
       "      <th></th>\n",
       "      <th></th>\n",
       "      <th></th>\n",
       "      <th></th>\n",
       "      <th></th>\n",
       "      <th></th>\n",
       "      <th></th>\n",
       "      <th></th>\n",
       "      <th></th>\n",
       "      <th></th>\n",
       "      <th></th>\n",
       "    </tr>\n",
       "  </thead>\n",
       "  <tbody>\n",
       "    <tr>\n",
       "      <td>1995-06-30</td>\n",
       "      <td>0.000000</td>\n",
       "      <td>1014.437500</td>\n",
       "      <td>NaN</td>\n",
       "      <td>NaN</td>\n",
       "      <td>NaN</td>\n",
       "      <td>NaN</td>\n",
       "      <td>NaN</td>\n",
       "      <td>0.000000</td>\n",
       "      <td>0.000000</td>\n",
       "      <td>NaN</td>\n",
       "      <td>NaN</td>\n",
       "      <td>NaN</td>\n",
       "      <td>NaN</td>\n",
       "      <td>NaN</td>\n",
       "      <td>NaN</td>\n",
       "      <td>NaN</td>\n",
       "      <td>NaN</td>\n",
       "      <td>NaN</td>\n",
       "      <td>NaN</td>\n",
       "      <td>NaN</td>\n",
       "    </tr>\n",
       "    <tr>\n",
       "      <td>1995-07-01</td>\n",
       "      <td>0.000000</td>\n",
       "      <td>1018.187500</td>\n",
       "      <td>0.000000</td>\n",
       "      <td>NaN</td>\n",
       "      <td>NaN</td>\n",
       "      <td>NaN</td>\n",
       "      <td>NaN</td>\n",
       "      <td>0.062500</td>\n",
       "      <td>0.041667</td>\n",
       "      <td>NaN</td>\n",
       "      <td>NaN</td>\n",
       "      <td>NaN</td>\n",
       "      <td>NaN</td>\n",
       "      <td>NaN</td>\n",
       "      <td>1014.437500</td>\n",
       "      <td>NaN</td>\n",
       "      <td>NaN</td>\n",
       "      <td>NaN</td>\n",
       "      <td>NaN</td>\n",
       "      <td>NaN</td>\n",
       "    </tr>\n",
       "    <tr>\n",
       "      <td>1995-07-02</td>\n",
       "      <td>1.828333</td>\n",
       "      <td>1009.187500</td>\n",
       "      <td>0.000000</td>\n",
       "      <td>0.000000</td>\n",
       "      <td>NaN</td>\n",
       "      <td>NaN</td>\n",
       "      <td>NaN</td>\n",
       "      <td>0.000000</td>\n",
       "      <td>0.000000</td>\n",
       "      <td>NaN</td>\n",
       "      <td>NaN</td>\n",
       "      <td>NaN</td>\n",
       "      <td>NaN</td>\n",
       "      <td>NaN</td>\n",
       "      <td>1018.187500</td>\n",
       "      <td>NaN</td>\n",
       "      <td>NaN</td>\n",
       "      <td>NaN</td>\n",
       "      <td>NaN</td>\n",
       "      <td>NaN</td>\n",
       "    </tr>\n",
       "    <tr>\n",
       "      <td>1995-07-03</td>\n",
       "      <td>0.004167</td>\n",
       "      <td>1006.000000</td>\n",
       "      <td>1.828333</td>\n",
       "      <td>0.000000</td>\n",
       "      <td>NaN</td>\n",
       "      <td>NaN</td>\n",
       "      <td>NaN</td>\n",
       "      <td>0.020833</td>\n",
       "      <td>0.000000</td>\n",
       "      <td>NaN</td>\n",
       "      <td>NaN</td>\n",
       "      <td>NaN</td>\n",
       "      <td>NaN</td>\n",
       "      <td>0.000000</td>\n",
       "      <td>1009.187500</td>\n",
       "      <td>NaN</td>\n",
       "      <td>NaN</td>\n",
       "      <td>NaN</td>\n",
       "      <td>NaN</td>\n",
       "      <td>NaN</td>\n",
       "    </tr>\n",
       "    <tr>\n",
       "      <td>1995-07-04</td>\n",
       "      <td>0.000000</td>\n",
       "      <td>1014.020833</td>\n",
       "      <td>0.004167</td>\n",
       "      <td>1.828333</td>\n",
       "      <td>0.000000</td>\n",
       "      <td>NaN</td>\n",
       "      <td>NaN</td>\n",
       "      <td>0.041667</td>\n",
       "      <td>0.000000</td>\n",
       "      <td>NaN</td>\n",
       "      <td>NaN</td>\n",
       "      <td>NaN</td>\n",
       "      <td>NaN</td>\n",
       "      <td>0.000000</td>\n",
       "      <td>1006.000000</td>\n",
       "      <td>0.000000</td>\n",
       "      <td>NaN</td>\n",
       "      <td>NaN</td>\n",
       "      <td>NaN</td>\n",
       "      <td>NaN</td>\n",
       "    </tr>\n",
       "    <tr>\n",
       "      <td>...</td>\n",
       "      <td>...</td>\n",
       "      <td>...</td>\n",
       "      <td>...</td>\n",
       "      <td>...</td>\n",
       "      <td>...</td>\n",
       "      <td>...</td>\n",
       "      <td>...</td>\n",
       "      <td>...</td>\n",
       "      <td>...</td>\n",
       "      <td>...</td>\n",
       "      <td>...</td>\n",
       "      <td>...</td>\n",
       "      <td>...</td>\n",
       "      <td>...</td>\n",
       "      <td>...</td>\n",
       "      <td>...</td>\n",
       "      <td>...</td>\n",
       "      <td>...</td>\n",
       "      <td>...</td>\n",
       "      <td>...</td>\n",
       "    </tr>\n",
       "    <tr>\n",
       "      <td>2020-02-26</td>\n",
       "      <td>0.002708</td>\n",
       "      <td>1000.437500</td>\n",
       "      <td>0.551667</td>\n",
       "      <td>0.813125</td>\n",
       "      <td>0.026458</td>\n",
       "      <td>0.370625</td>\n",
       "      <td>0.000000</td>\n",
       "      <td>0.000000</td>\n",
       "      <td>0.000000</td>\n",
       "      <td>0.317500</td>\n",
       "      <td>1016.312500</td>\n",
       "      <td>1008.812500</td>\n",
       "      <td>2.302708</td>\n",
       "      <td>2.828333</td>\n",
       "      <td>996.458333</td>\n",
       "      <td>0.000000</td>\n",
       "      <td>0.032500</td>\n",
       "      <td>1019.687500</td>\n",
       "      <td>0.0</td>\n",
       "      <td>0.0</td>\n",
       "    </tr>\n",
       "    <tr>\n",
       "      <td>2020-02-27</td>\n",
       "      <td>3.882708</td>\n",
       "      <td>1001.500000</td>\n",
       "      <td>0.002708</td>\n",
       "      <td>0.551667</td>\n",
       "      <td>2.828333</td>\n",
       "      <td>2.302708</td>\n",
       "      <td>0.026458</td>\n",
       "      <td>0.062500</td>\n",
       "      <td>0.229167</td>\n",
       "      <td>0.370625</td>\n",
       "      <td>1008.812500</td>\n",
       "      <td>1019.687500</td>\n",
       "      <td>0.000000</td>\n",
       "      <td>0.813125</td>\n",
       "      <td>1000.437500</td>\n",
       "      <td>0.020833</td>\n",
       "      <td>0.317500</td>\n",
       "      <td>1014.916667</td>\n",
       "      <td>0.0</td>\n",
       "      <td>0.0</td>\n",
       "    </tr>\n",
       "    <tr>\n",
       "      <td>2020-02-28</td>\n",
       "      <td>0.966667</td>\n",
       "      <td>1002.458333</td>\n",
       "      <td>3.882708</td>\n",
       "      <td>0.002708</td>\n",
       "      <td>0.813125</td>\n",
       "      <td>0.000000</td>\n",
       "      <td>2.828333</td>\n",
       "      <td>0.500000</td>\n",
       "      <td>0.395833</td>\n",
       "      <td>2.302708</td>\n",
       "      <td>1019.687500</td>\n",
       "      <td>1014.916667</td>\n",
       "      <td>0.026458</td>\n",
       "      <td>0.551667</td>\n",
       "      <td>1001.500000</td>\n",
       "      <td>0.208333</td>\n",
       "      <td>0.370625</td>\n",
       "      <td>1014.916667</td>\n",
       "      <td>0.0</td>\n",
       "      <td>0.0</td>\n",
       "    </tr>\n",
       "    <tr>\n",
       "      <td>2020-02-29</td>\n",
       "      <td>1.663542</td>\n",
       "      <td>980.812500</td>\n",
       "      <td>0.966667</td>\n",
       "      <td>3.882708</td>\n",
       "      <td>0.551667</td>\n",
       "      <td>0.026458</td>\n",
       "      <td>0.813125</td>\n",
       "      <td>0.520833</td>\n",
       "      <td>0.000000</td>\n",
       "      <td>0.000000</td>\n",
       "      <td>1014.916667</td>\n",
       "      <td>1014.916667</td>\n",
       "      <td>2.828333</td>\n",
       "      <td>0.002708</td>\n",
       "      <td>1002.458333</td>\n",
       "      <td>0.000000</td>\n",
       "      <td>2.302708</td>\n",
       "      <td>1007.145833</td>\n",
       "      <td>0.0</td>\n",
       "      <td>0.0</td>\n",
       "    </tr>\n",
       "    <tr>\n",
       "      <td>2020-03-01</td>\n",
       "      <td>0.000000</td>\n",
       "      <td>983.000000</td>\n",
       "      <td>1.663542</td>\n",
       "      <td>0.966667</td>\n",
       "      <td>0.002708</td>\n",
       "      <td>2.828333</td>\n",
       "      <td>0.551667</td>\n",
       "      <td>0.090909</td>\n",
       "      <td>0.000000</td>\n",
       "      <td>0.026458</td>\n",
       "      <td>1014.916667</td>\n",
       "      <td>1007.145833</td>\n",
       "      <td>0.813125</td>\n",
       "      <td>3.882708</td>\n",
       "      <td>980.812500</td>\n",
       "      <td>0.000000</td>\n",
       "      <td>0.000000</td>\n",
       "      <td>996.458333</td>\n",
       "      <td>0.0</td>\n",
       "      <td>0.0</td>\n",
       "    </tr>\n",
       "  </tbody>\n",
       "</table>\n",
       "<p>9012 rows × 20 columns</p>\n",
       "</div>"
      ],
      "text/plain": [
       "                Rain        Press      Rain      Rain      Rain      Rain  \\\n",
       "t                                                                           \n",
       "1995-06-30  0.000000  1014.437500       NaN       NaN       NaN       NaN   \n",
       "1995-07-01  0.000000  1018.187500  0.000000       NaN       NaN       NaN   \n",
       "1995-07-02  1.828333  1009.187500  0.000000  0.000000       NaN       NaN   \n",
       "1995-07-03  0.004167  1006.000000  1.828333  0.000000       NaN       NaN   \n",
       "1995-07-04  0.000000  1014.020833  0.004167  1.828333  0.000000       NaN   \n",
       "...              ...          ...       ...       ...       ...       ...   \n",
       "2020-02-26  0.002708  1000.437500  0.551667  0.813125  0.026458  0.370625   \n",
       "2020-02-27  3.882708  1001.500000  0.002708  0.551667  2.828333  2.302708   \n",
       "2020-02-28  0.966667  1002.458333  3.882708  0.002708  0.813125  0.000000   \n",
       "2020-02-29  1.663542   980.812500  0.966667  3.882708  0.551667  0.026458   \n",
       "2020-03-01  0.000000   983.000000  1.663542  0.966667  0.002708  2.828333   \n",
       "\n",
       "                Rain  WindDr_S  WindDr_SE      Rain        Press        Press  \\\n",
       "t                                                                               \n",
       "1995-06-30       NaN  0.000000   0.000000       NaN          NaN          NaN   \n",
       "1995-07-01       NaN  0.062500   0.041667       NaN          NaN          NaN   \n",
       "1995-07-02       NaN  0.000000   0.000000       NaN          NaN          NaN   \n",
       "1995-07-03       NaN  0.020833   0.000000       NaN          NaN          NaN   \n",
       "1995-07-04       NaN  0.041667   0.000000       NaN          NaN          NaN   \n",
       "...              ...       ...        ...       ...          ...          ...   \n",
       "2020-02-26  0.000000  0.000000   0.000000  0.317500  1016.312500  1008.812500   \n",
       "2020-02-27  0.026458  0.062500   0.229167  0.370625  1008.812500  1019.687500   \n",
       "2020-02-28  2.828333  0.500000   0.395833  2.302708  1019.687500  1014.916667   \n",
       "2020-02-29  0.813125  0.520833   0.000000  0.000000  1014.916667  1014.916667   \n",
       "2020-03-01  0.551667  0.090909   0.000000  0.026458  1014.916667  1007.145833   \n",
       "\n",
       "                Rain      Rain        Press  WindDr_SE      Rain        Press  \\\n",
       "t                                                                               \n",
       "1995-06-30       NaN       NaN          NaN        NaN       NaN          NaN   \n",
       "1995-07-01       NaN       NaN  1014.437500        NaN       NaN          NaN   \n",
       "1995-07-02       NaN       NaN  1018.187500        NaN       NaN          NaN   \n",
       "1995-07-03       NaN  0.000000  1009.187500        NaN       NaN          NaN   \n",
       "1995-07-04       NaN  0.000000  1006.000000   0.000000       NaN          NaN   \n",
       "...              ...       ...          ...        ...       ...          ...   \n",
       "2020-02-26  2.302708  2.828333   996.458333   0.000000  0.032500  1019.687500   \n",
       "2020-02-27  0.000000  0.813125  1000.437500   0.020833  0.317500  1014.916667   \n",
       "2020-02-28  0.026458  0.551667  1001.500000   0.208333  0.370625  1014.916667   \n",
       "2020-02-29  2.828333  0.002708  1002.458333   0.000000  2.302708  1007.145833   \n",
       "2020-03-01  0.813125  3.882708   980.812500   0.000000  0.000000   996.458333   \n",
       "\n",
       "            WindDr_SE  WindDr_SE  \n",
       "t                                 \n",
       "1995-06-30        NaN        NaN  \n",
       "1995-07-01        NaN        NaN  \n",
       "1995-07-02        NaN        NaN  \n",
       "1995-07-03        NaN        NaN  \n",
       "1995-07-04        NaN        NaN  \n",
       "...               ...        ...  \n",
       "2020-02-26        0.0        0.0  \n",
       "2020-02-27        0.0        0.0  \n",
       "2020-02-28        0.0        0.0  \n",
       "2020-02-29        0.0        0.0  \n",
       "2020-03-01        0.0        0.0  \n",
       "\n",
       "[9012 rows x 20 columns]"
      ]
     },
     "execution_count": 476,
     "metadata": {},
     "output_type": "execute_result"
    }
   ],
   "source": [
    "\n",
    "rse.iloc[:,gbm.feature_importances_.argsort()[-20:][::-1]]"
   ]
  },
  {
   "cell_type": "code",
   "execution_count": 620,
   "metadata": {},
   "outputs": [
    {
     "name": "stdout",
     "output_type": "stream",
     "text": [
      "(8911, 400)\n",
      "(8911,)\n",
      "Gradient Boosting : Loss: 0.653 (+/- 0.026)\n",
      "0.7049382716049383\n"
     ]
    },
    {
     "ename": "KeyboardInterrupt",
     "evalue": "",
     "output_type": "error",
     "traceback": [
      "\u001b[1;31m---------------------------------------------------------------------------\u001b[0m",
      "\u001b[1;31mKeyboardInterrupt\u001b[0m                         Traceback (most recent call last)",
      "\u001b[1;32m<ipython-input-620-108d119b439a>\u001b[0m in \u001b[0;36m<module>\u001b[1;34m\u001b[0m\n\u001b[0;32m     38\u001b[0m \u001b[0mprint\u001b[0m\u001b[1;33m(\u001b[0m\u001b[0maccuracy_score\u001b[0m\u001b[1;33m(\u001b[0m\u001b[0my_test\u001b[0m\u001b[1;33m,\u001b[0m \u001b[0mgbm\u001b[0m\u001b[1;33m.\u001b[0m\u001b[0mpredict\u001b[0m\u001b[1;33m(\u001b[0m\u001b[0mX_test\u001b[0m\u001b[1;33m)\u001b[0m\u001b[1;33m)\u001b[0m\u001b[1;33m)\u001b[0m\u001b[1;33m\u001b[0m\u001b[1;33m\u001b[0m\u001b[0m\n\u001b[0;32m     39\u001b[0m \u001b[1;33m\u001b[0m\u001b[0m\n\u001b[1;32m---> 40\u001b[1;33m \u001b[0mscores\u001b[0m \u001b[1;33m=\u001b[0m \u001b[0mcross_val_score\u001b[0m\u001b[1;33m(\u001b[0m\u001b[0mgbm\u001b[0m\u001b[1;33m,\u001b[0m \u001b[0mX_train\u001b[0m\u001b[1;33m,\u001b[0m \u001b[0my_train\u001b[0m\u001b[1;33m,\u001b[0m \u001b[0mcv\u001b[0m\u001b[1;33m=\u001b[0m\u001b[0mtscv\u001b[0m\u001b[1;33m,\u001b[0m \u001b[0mscoring\u001b[0m\u001b[1;33m=\u001b[0m\u001b[1;34m'roc_auc'\u001b[0m\u001b[1;33m)\u001b[0m\u001b[1;33m\u001b[0m\u001b[1;33m\u001b[0m\u001b[0m\n\u001b[0m\u001b[0;32m     41\u001b[0m \u001b[0mprint\u001b[0m\u001b[1;33m(\u001b[0m\u001b[1;34m'Gradient Boosting '\u001b[0m \u001b[1;33m+\u001b[0m \u001b[1;34m\": Loss: {0:.3f} (+/- {1:.3f})\"\u001b[0m\u001b[1;33m.\u001b[0m\u001b[0mformat\u001b[0m\u001b[1;33m(\u001b[0m\u001b[0mscores\u001b[0m\u001b[1;33m.\u001b[0m\u001b[0mmean\u001b[0m\u001b[1;33m(\u001b[0m\u001b[1;33m)\u001b[0m\u001b[1;33m,\u001b[0m \u001b[0mscores\u001b[0m\u001b[1;33m.\u001b[0m\u001b[0mstd\u001b[0m\u001b[1;33m(\u001b[0m\u001b[1;33m)\u001b[0m\u001b[1;33m)\u001b[0m\u001b[1;33m)\u001b[0m\u001b[1;33m\u001b[0m\u001b[1;33m\u001b[0m\u001b[0m\n\u001b[0;32m     42\u001b[0m \u001b[1;33m\u001b[0m\u001b[0m\n",
      "\u001b[1;32mC:\\ProgramData\\Anaconda3\\lib\\site-packages\\sklearn\\model_selection\\_validation.py\u001b[0m in \u001b[0;36mcross_val_score\u001b[1;34m(estimator, X, y, groups, scoring, cv, n_jobs, verbose, fit_params, pre_dispatch, error_score)\u001b[0m\n\u001b[0;32m    389\u001b[0m                                 \u001b[0mfit_params\u001b[0m\u001b[1;33m=\u001b[0m\u001b[0mfit_params\u001b[0m\u001b[1;33m,\u001b[0m\u001b[1;33m\u001b[0m\u001b[1;33m\u001b[0m\u001b[0m\n\u001b[0;32m    390\u001b[0m                                 \u001b[0mpre_dispatch\u001b[0m\u001b[1;33m=\u001b[0m\u001b[0mpre_dispatch\u001b[0m\u001b[1;33m,\u001b[0m\u001b[1;33m\u001b[0m\u001b[1;33m\u001b[0m\u001b[0m\n\u001b[1;32m--> 391\u001b[1;33m                                 error_score=error_score)\n\u001b[0m\u001b[0;32m    392\u001b[0m     \u001b[1;32mreturn\u001b[0m \u001b[0mcv_results\u001b[0m\u001b[1;33m[\u001b[0m\u001b[1;34m'test_score'\u001b[0m\u001b[1;33m]\u001b[0m\u001b[1;33m\u001b[0m\u001b[1;33m\u001b[0m\u001b[0m\n\u001b[0;32m    393\u001b[0m \u001b[1;33m\u001b[0m\u001b[0m\n",
      "\u001b[1;32mC:\\ProgramData\\Anaconda3\\lib\\site-packages\\sklearn\\model_selection\\_validation.py\u001b[0m in \u001b[0;36mcross_validate\u001b[1;34m(estimator, X, y, groups, scoring, cv, n_jobs, verbose, fit_params, pre_dispatch, return_train_score, return_estimator, error_score)\u001b[0m\n\u001b[0;32m    230\u001b[0m             \u001b[0mreturn_times\u001b[0m\u001b[1;33m=\u001b[0m\u001b[1;32mTrue\u001b[0m\u001b[1;33m,\u001b[0m \u001b[0mreturn_estimator\u001b[0m\u001b[1;33m=\u001b[0m\u001b[0mreturn_estimator\u001b[0m\u001b[1;33m,\u001b[0m\u001b[1;33m\u001b[0m\u001b[1;33m\u001b[0m\u001b[0m\n\u001b[0;32m    231\u001b[0m             error_score=error_score)\n\u001b[1;32m--> 232\u001b[1;33m         for train, test in cv.split(X, y, groups))\n\u001b[0m\u001b[0;32m    233\u001b[0m \u001b[1;33m\u001b[0m\u001b[0m\n\u001b[0;32m    234\u001b[0m     \u001b[0mzipped_scores\u001b[0m \u001b[1;33m=\u001b[0m \u001b[0mlist\u001b[0m\u001b[1;33m(\u001b[0m\u001b[0mzip\u001b[0m\u001b[1;33m(\u001b[0m\u001b[1;33m*\u001b[0m\u001b[0mscores\u001b[0m\u001b[1;33m)\u001b[0m\u001b[1;33m)\u001b[0m\u001b[1;33m\u001b[0m\u001b[1;33m\u001b[0m\u001b[0m\n",
      "\u001b[1;32mC:\\ProgramData\\Anaconda3\\lib\\site-packages\\joblib\\parallel.py\u001b[0m in \u001b[0;36m__call__\u001b[1;34m(self, iterable)\u001b[0m\n\u001b[0;32m    922\u001b[0m                 \u001b[0mself\u001b[0m\u001b[1;33m.\u001b[0m\u001b[0m_iterating\u001b[0m \u001b[1;33m=\u001b[0m \u001b[0mself\u001b[0m\u001b[1;33m.\u001b[0m\u001b[0m_original_iterator\u001b[0m \u001b[1;32mis\u001b[0m \u001b[1;32mnot\u001b[0m \u001b[1;32mNone\u001b[0m\u001b[1;33m\u001b[0m\u001b[1;33m\u001b[0m\u001b[0m\n\u001b[0;32m    923\u001b[0m \u001b[1;33m\u001b[0m\u001b[0m\n\u001b[1;32m--> 924\u001b[1;33m             \u001b[1;32mwhile\u001b[0m \u001b[0mself\u001b[0m\u001b[1;33m.\u001b[0m\u001b[0mdispatch_one_batch\u001b[0m\u001b[1;33m(\u001b[0m\u001b[0miterator\u001b[0m\u001b[1;33m)\u001b[0m\u001b[1;33m:\u001b[0m\u001b[1;33m\u001b[0m\u001b[1;33m\u001b[0m\u001b[0m\n\u001b[0m\u001b[0;32m    925\u001b[0m                 \u001b[1;32mpass\u001b[0m\u001b[1;33m\u001b[0m\u001b[1;33m\u001b[0m\u001b[0m\n\u001b[0;32m    926\u001b[0m \u001b[1;33m\u001b[0m\u001b[0m\n",
      "\u001b[1;32mC:\\ProgramData\\Anaconda3\\lib\\site-packages\\joblib\\parallel.py\u001b[0m in \u001b[0;36mdispatch_one_batch\u001b[1;34m(self, iterator)\u001b[0m\n\u001b[0;32m    757\u001b[0m                 \u001b[1;32mreturn\u001b[0m \u001b[1;32mFalse\u001b[0m\u001b[1;33m\u001b[0m\u001b[1;33m\u001b[0m\u001b[0m\n\u001b[0;32m    758\u001b[0m             \u001b[1;32melse\u001b[0m\u001b[1;33m:\u001b[0m\u001b[1;33m\u001b[0m\u001b[1;33m\u001b[0m\u001b[0m\n\u001b[1;32m--> 759\u001b[1;33m                 \u001b[0mself\u001b[0m\u001b[1;33m.\u001b[0m\u001b[0m_dispatch\u001b[0m\u001b[1;33m(\u001b[0m\u001b[0mtasks\u001b[0m\u001b[1;33m)\u001b[0m\u001b[1;33m\u001b[0m\u001b[1;33m\u001b[0m\u001b[0m\n\u001b[0m\u001b[0;32m    760\u001b[0m                 \u001b[1;32mreturn\u001b[0m \u001b[1;32mTrue\u001b[0m\u001b[1;33m\u001b[0m\u001b[1;33m\u001b[0m\u001b[0m\n\u001b[0;32m    761\u001b[0m \u001b[1;33m\u001b[0m\u001b[0m\n",
      "\u001b[1;32mC:\\ProgramData\\Anaconda3\\lib\\site-packages\\joblib\\parallel.py\u001b[0m in \u001b[0;36m_dispatch\u001b[1;34m(self, batch)\u001b[0m\n\u001b[0;32m    714\u001b[0m         \u001b[1;32mwith\u001b[0m \u001b[0mself\u001b[0m\u001b[1;33m.\u001b[0m\u001b[0m_lock\u001b[0m\u001b[1;33m:\u001b[0m\u001b[1;33m\u001b[0m\u001b[1;33m\u001b[0m\u001b[0m\n\u001b[0;32m    715\u001b[0m             \u001b[0mjob_idx\u001b[0m \u001b[1;33m=\u001b[0m \u001b[0mlen\u001b[0m\u001b[1;33m(\u001b[0m\u001b[0mself\u001b[0m\u001b[1;33m.\u001b[0m\u001b[0m_jobs\u001b[0m\u001b[1;33m)\u001b[0m\u001b[1;33m\u001b[0m\u001b[1;33m\u001b[0m\u001b[0m\n\u001b[1;32m--> 716\u001b[1;33m             \u001b[0mjob\u001b[0m \u001b[1;33m=\u001b[0m \u001b[0mself\u001b[0m\u001b[1;33m.\u001b[0m\u001b[0m_backend\u001b[0m\u001b[1;33m.\u001b[0m\u001b[0mapply_async\u001b[0m\u001b[1;33m(\u001b[0m\u001b[0mbatch\u001b[0m\u001b[1;33m,\u001b[0m \u001b[0mcallback\u001b[0m\u001b[1;33m=\u001b[0m\u001b[0mcb\u001b[0m\u001b[1;33m)\u001b[0m\u001b[1;33m\u001b[0m\u001b[1;33m\u001b[0m\u001b[0m\n\u001b[0m\u001b[0;32m    717\u001b[0m             \u001b[1;31m# A job can complete so quickly than its callback is\u001b[0m\u001b[1;33m\u001b[0m\u001b[1;33m\u001b[0m\u001b[1;33m\u001b[0m\u001b[0m\n\u001b[0;32m    718\u001b[0m             \u001b[1;31m# called before we get here, causing self._jobs to\u001b[0m\u001b[1;33m\u001b[0m\u001b[1;33m\u001b[0m\u001b[1;33m\u001b[0m\u001b[0m\n",
      "\u001b[1;32mC:\\ProgramData\\Anaconda3\\lib\\site-packages\\joblib\\_parallel_backends.py\u001b[0m in \u001b[0;36mapply_async\u001b[1;34m(self, func, callback)\u001b[0m\n\u001b[0;32m    180\u001b[0m     \u001b[1;32mdef\u001b[0m \u001b[0mapply_async\u001b[0m\u001b[1;33m(\u001b[0m\u001b[0mself\u001b[0m\u001b[1;33m,\u001b[0m \u001b[0mfunc\u001b[0m\u001b[1;33m,\u001b[0m \u001b[0mcallback\u001b[0m\u001b[1;33m=\u001b[0m\u001b[1;32mNone\u001b[0m\u001b[1;33m)\u001b[0m\u001b[1;33m:\u001b[0m\u001b[1;33m\u001b[0m\u001b[1;33m\u001b[0m\u001b[0m\n\u001b[0;32m    181\u001b[0m         \u001b[1;34m\"\"\"Schedule a func to be run\"\"\"\u001b[0m\u001b[1;33m\u001b[0m\u001b[1;33m\u001b[0m\u001b[0m\n\u001b[1;32m--> 182\u001b[1;33m         \u001b[0mresult\u001b[0m \u001b[1;33m=\u001b[0m \u001b[0mImmediateResult\u001b[0m\u001b[1;33m(\u001b[0m\u001b[0mfunc\u001b[0m\u001b[1;33m)\u001b[0m\u001b[1;33m\u001b[0m\u001b[1;33m\u001b[0m\u001b[0m\n\u001b[0m\u001b[0;32m    183\u001b[0m         \u001b[1;32mif\u001b[0m \u001b[0mcallback\u001b[0m\u001b[1;33m:\u001b[0m\u001b[1;33m\u001b[0m\u001b[1;33m\u001b[0m\u001b[0m\n\u001b[0;32m    184\u001b[0m             \u001b[0mcallback\u001b[0m\u001b[1;33m(\u001b[0m\u001b[0mresult\u001b[0m\u001b[1;33m)\u001b[0m\u001b[1;33m\u001b[0m\u001b[1;33m\u001b[0m\u001b[0m\n",
      "\u001b[1;32mC:\\ProgramData\\Anaconda3\\lib\\site-packages\\joblib\\_parallel_backends.py\u001b[0m in \u001b[0;36m__init__\u001b[1;34m(self, batch)\u001b[0m\n\u001b[0;32m    547\u001b[0m         \u001b[1;31m# Don't delay the application, to avoid keeping the input\u001b[0m\u001b[1;33m\u001b[0m\u001b[1;33m\u001b[0m\u001b[1;33m\u001b[0m\u001b[0m\n\u001b[0;32m    548\u001b[0m         \u001b[1;31m# arguments in memory\u001b[0m\u001b[1;33m\u001b[0m\u001b[1;33m\u001b[0m\u001b[1;33m\u001b[0m\u001b[0m\n\u001b[1;32m--> 549\u001b[1;33m         \u001b[0mself\u001b[0m\u001b[1;33m.\u001b[0m\u001b[0mresults\u001b[0m \u001b[1;33m=\u001b[0m \u001b[0mbatch\u001b[0m\u001b[1;33m(\u001b[0m\u001b[1;33m)\u001b[0m\u001b[1;33m\u001b[0m\u001b[1;33m\u001b[0m\u001b[0m\n\u001b[0m\u001b[0;32m    550\u001b[0m \u001b[1;33m\u001b[0m\u001b[0m\n\u001b[0;32m    551\u001b[0m     \u001b[1;32mdef\u001b[0m \u001b[0mget\u001b[0m\u001b[1;33m(\u001b[0m\u001b[0mself\u001b[0m\u001b[1;33m)\u001b[0m\u001b[1;33m:\u001b[0m\u001b[1;33m\u001b[0m\u001b[1;33m\u001b[0m\u001b[0m\n",
      "\u001b[1;32mC:\\ProgramData\\Anaconda3\\lib\\site-packages\\joblib\\parallel.py\u001b[0m in \u001b[0;36m__call__\u001b[1;34m(self)\u001b[0m\n\u001b[0;32m    223\u001b[0m         \u001b[1;32mwith\u001b[0m \u001b[0mparallel_backend\u001b[0m\u001b[1;33m(\u001b[0m\u001b[0mself\u001b[0m\u001b[1;33m.\u001b[0m\u001b[0m_backend\u001b[0m\u001b[1;33m,\u001b[0m \u001b[0mn_jobs\u001b[0m\u001b[1;33m=\u001b[0m\u001b[0mself\u001b[0m\u001b[1;33m.\u001b[0m\u001b[0m_n_jobs\u001b[0m\u001b[1;33m)\u001b[0m\u001b[1;33m:\u001b[0m\u001b[1;33m\u001b[0m\u001b[1;33m\u001b[0m\u001b[0m\n\u001b[0;32m    224\u001b[0m             return [func(*args, **kwargs)\n\u001b[1;32m--> 225\u001b[1;33m                     for func, args, kwargs in self.items]\n\u001b[0m\u001b[0;32m    226\u001b[0m \u001b[1;33m\u001b[0m\u001b[0m\n\u001b[0;32m    227\u001b[0m     \u001b[1;32mdef\u001b[0m \u001b[0m__len__\u001b[0m\u001b[1;33m(\u001b[0m\u001b[0mself\u001b[0m\u001b[1;33m)\u001b[0m\u001b[1;33m:\u001b[0m\u001b[1;33m\u001b[0m\u001b[1;33m\u001b[0m\u001b[0m\n",
      "\u001b[1;32mC:\\ProgramData\\Anaconda3\\lib\\site-packages\\joblib\\parallel.py\u001b[0m in \u001b[0;36m<listcomp>\u001b[1;34m(.0)\u001b[0m\n\u001b[0;32m    223\u001b[0m         \u001b[1;32mwith\u001b[0m \u001b[0mparallel_backend\u001b[0m\u001b[1;33m(\u001b[0m\u001b[0mself\u001b[0m\u001b[1;33m.\u001b[0m\u001b[0m_backend\u001b[0m\u001b[1;33m,\u001b[0m \u001b[0mn_jobs\u001b[0m\u001b[1;33m=\u001b[0m\u001b[0mself\u001b[0m\u001b[1;33m.\u001b[0m\u001b[0m_n_jobs\u001b[0m\u001b[1;33m)\u001b[0m\u001b[1;33m:\u001b[0m\u001b[1;33m\u001b[0m\u001b[1;33m\u001b[0m\u001b[0m\n\u001b[0;32m    224\u001b[0m             return [func(*args, **kwargs)\n\u001b[1;32m--> 225\u001b[1;33m                     for func, args, kwargs in self.items]\n\u001b[0m\u001b[0;32m    226\u001b[0m \u001b[1;33m\u001b[0m\u001b[0m\n\u001b[0;32m    227\u001b[0m     \u001b[1;32mdef\u001b[0m \u001b[0m__len__\u001b[0m\u001b[1;33m(\u001b[0m\u001b[0mself\u001b[0m\u001b[1;33m)\u001b[0m\u001b[1;33m:\u001b[0m\u001b[1;33m\u001b[0m\u001b[1;33m\u001b[0m\u001b[0m\n",
      "\u001b[1;32mC:\\ProgramData\\Anaconda3\\lib\\site-packages\\sklearn\\model_selection\\_validation.py\u001b[0m in \u001b[0;36m_fit_and_score\u001b[1;34m(estimator, X, y, scorer, train, test, verbose, parameters, fit_params, return_train_score, return_parameters, return_n_test_samples, return_times, return_estimator, error_score)\u001b[0m\n\u001b[0;32m    514\u001b[0m             \u001b[0mestimator\u001b[0m\u001b[1;33m.\u001b[0m\u001b[0mfit\u001b[0m\u001b[1;33m(\u001b[0m\u001b[0mX_train\u001b[0m\u001b[1;33m,\u001b[0m \u001b[1;33m**\u001b[0m\u001b[0mfit_params\u001b[0m\u001b[1;33m)\u001b[0m\u001b[1;33m\u001b[0m\u001b[1;33m\u001b[0m\u001b[0m\n\u001b[0;32m    515\u001b[0m         \u001b[1;32melse\u001b[0m\u001b[1;33m:\u001b[0m\u001b[1;33m\u001b[0m\u001b[1;33m\u001b[0m\u001b[0m\n\u001b[1;32m--> 516\u001b[1;33m             \u001b[0mestimator\u001b[0m\u001b[1;33m.\u001b[0m\u001b[0mfit\u001b[0m\u001b[1;33m(\u001b[0m\u001b[0mX_train\u001b[0m\u001b[1;33m,\u001b[0m \u001b[0my_train\u001b[0m\u001b[1;33m,\u001b[0m \u001b[1;33m**\u001b[0m\u001b[0mfit_params\u001b[0m\u001b[1;33m)\u001b[0m\u001b[1;33m\u001b[0m\u001b[1;33m\u001b[0m\u001b[0m\n\u001b[0m\u001b[0;32m    517\u001b[0m \u001b[1;33m\u001b[0m\u001b[0m\n\u001b[0;32m    518\u001b[0m     \u001b[1;32mexcept\u001b[0m \u001b[0mException\u001b[0m \u001b[1;32mas\u001b[0m \u001b[0me\u001b[0m\u001b[1;33m:\u001b[0m\u001b[1;33m\u001b[0m\u001b[1;33m\u001b[0m\u001b[0m\n",
      "\u001b[1;32mC:\\ProgramData\\Anaconda3\\lib\\site-packages\\sklearn\\ensemble\\voting.py\u001b[0m in \u001b[0;36mfit\u001b[1;34m(self, X, y, sample_weight)\u001b[0m\n\u001b[0;32m    277\u001b[0m         \u001b[0mtransformed_y\u001b[0m \u001b[1;33m=\u001b[0m \u001b[0mself\u001b[0m\u001b[1;33m.\u001b[0m\u001b[0mle_\u001b[0m\u001b[1;33m.\u001b[0m\u001b[0mtransform\u001b[0m\u001b[1;33m(\u001b[0m\u001b[0my\u001b[0m\u001b[1;33m)\u001b[0m\u001b[1;33m\u001b[0m\u001b[1;33m\u001b[0m\u001b[0m\n\u001b[0;32m    278\u001b[0m \u001b[1;33m\u001b[0m\u001b[0m\n\u001b[1;32m--> 279\u001b[1;33m         \u001b[1;32mreturn\u001b[0m \u001b[0msuper\u001b[0m\u001b[1;33m(\u001b[0m\u001b[1;33m)\u001b[0m\u001b[1;33m.\u001b[0m\u001b[0mfit\u001b[0m\u001b[1;33m(\u001b[0m\u001b[0mX\u001b[0m\u001b[1;33m,\u001b[0m \u001b[0mtransformed_y\u001b[0m\u001b[1;33m,\u001b[0m \u001b[0msample_weight\u001b[0m\u001b[1;33m)\u001b[0m\u001b[1;33m\u001b[0m\u001b[1;33m\u001b[0m\u001b[0m\n\u001b[0m\u001b[0;32m    280\u001b[0m \u001b[1;33m\u001b[0m\u001b[0m\n\u001b[0;32m    281\u001b[0m     \u001b[1;32mdef\u001b[0m \u001b[0mpredict\u001b[0m\u001b[1;33m(\u001b[0m\u001b[0mself\u001b[0m\u001b[1;33m,\u001b[0m \u001b[0mX\u001b[0m\u001b[1;33m)\u001b[0m\u001b[1;33m:\u001b[0m\u001b[1;33m\u001b[0m\u001b[1;33m\u001b[0m\u001b[0m\n",
      "\u001b[1;32mC:\\ProgramData\\Anaconda3\\lib\\site-packages\\sklearn\\ensemble\\voting.py\u001b[0m in \u001b[0;36mfit\u001b[1;34m(self, X, y, sample_weight)\u001b[0m\n\u001b[0;32m     99\u001b[0m                 delayed(_parallel_fit_estimator)(clone(clf), X, y,\n\u001b[0;32m    100\u001b[0m                                                  sample_weight=sample_weight)\n\u001b[1;32m--> 101\u001b[1;33m                 \u001b[1;32mfor\u001b[0m \u001b[0mclf\u001b[0m \u001b[1;32min\u001b[0m \u001b[0mclfs\u001b[0m \u001b[1;32mif\u001b[0m \u001b[0mclf\u001b[0m \u001b[1;32mnot\u001b[0m \u001b[1;32min\u001b[0m \u001b[1;33m(\u001b[0m\u001b[1;32mNone\u001b[0m\u001b[1;33m,\u001b[0m \u001b[1;34m'drop'\u001b[0m\u001b[1;33m)\u001b[0m\u001b[1;33m\u001b[0m\u001b[1;33m\u001b[0m\u001b[0m\n\u001b[0m\u001b[0;32m    102\u001b[0m             )\n\u001b[0;32m    103\u001b[0m \u001b[1;33m\u001b[0m\u001b[0m\n",
      "\u001b[1;32mC:\\ProgramData\\Anaconda3\\lib\\site-packages\\joblib\\parallel.py\u001b[0m in \u001b[0;36m__call__\u001b[1;34m(self, iterable)\u001b[0m\n\u001b[0;32m    919\u001b[0m             \u001b[1;31m# remaining jobs.\u001b[0m\u001b[1;33m\u001b[0m\u001b[1;33m\u001b[0m\u001b[1;33m\u001b[0m\u001b[0m\n\u001b[0;32m    920\u001b[0m             \u001b[0mself\u001b[0m\u001b[1;33m.\u001b[0m\u001b[0m_iterating\u001b[0m \u001b[1;33m=\u001b[0m \u001b[1;32mFalse\u001b[0m\u001b[1;33m\u001b[0m\u001b[1;33m\u001b[0m\u001b[0m\n\u001b[1;32m--> 921\u001b[1;33m             \u001b[1;32mif\u001b[0m \u001b[0mself\u001b[0m\u001b[1;33m.\u001b[0m\u001b[0mdispatch_one_batch\u001b[0m\u001b[1;33m(\u001b[0m\u001b[0miterator\u001b[0m\u001b[1;33m)\u001b[0m\u001b[1;33m:\u001b[0m\u001b[1;33m\u001b[0m\u001b[1;33m\u001b[0m\u001b[0m\n\u001b[0m\u001b[0;32m    922\u001b[0m                 \u001b[0mself\u001b[0m\u001b[1;33m.\u001b[0m\u001b[0m_iterating\u001b[0m \u001b[1;33m=\u001b[0m \u001b[0mself\u001b[0m\u001b[1;33m.\u001b[0m\u001b[0m_original_iterator\u001b[0m \u001b[1;32mis\u001b[0m \u001b[1;32mnot\u001b[0m \u001b[1;32mNone\u001b[0m\u001b[1;33m\u001b[0m\u001b[1;33m\u001b[0m\u001b[0m\n\u001b[0;32m    923\u001b[0m \u001b[1;33m\u001b[0m\u001b[0m\n",
      "\u001b[1;32mC:\\ProgramData\\Anaconda3\\lib\\site-packages\\joblib\\parallel.py\u001b[0m in \u001b[0;36mdispatch_one_batch\u001b[1;34m(self, iterator)\u001b[0m\n\u001b[0;32m    757\u001b[0m                 \u001b[1;32mreturn\u001b[0m \u001b[1;32mFalse\u001b[0m\u001b[1;33m\u001b[0m\u001b[1;33m\u001b[0m\u001b[0m\n\u001b[0;32m    758\u001b[0m             \u001b[1;32melse\u001b[0m\u001b[1;33m:\u001b[0m\u001b[1;33m\u001b[0m\u001b[1;33m\u001b[0m\u001b[0m\n\u001b[1;32m--> 759\u001b[1;33m                 \u001b[0mself\u001b[0m\u001b[1;33m.\u001b[0m\u001b[0m_dispatch\u001b[0m\u001b[1;33m(\u001b[0m\u001b[0mtasks\u001b[0m\u001b[1;33m)\u001b[0m\u001b[1;33m\u001b[0m\u001b[1;33m\u001b[0m\u001b[0m\n\u001b[0m\u001b[0;32m    760\u001b[0m                 \u001b[1;32mreturn\u001b[0m \u001b[1;32mTrue\u001b[0m\u001b[1;33m\u001b[0m\u001b[1;33m\u001b[0m\u001b[0m\n\u001b[0;32m    761\u001b[0m \u001b[1;33m\u001b[0m\u001b[0m\n",
      "\u001b[1;32mC:\\ProgramData\\Anaconda3\\lib\\site-packages\\joblib\\parallel.py\u001b[0m in \u001b[0;36m_dispatch\u001b[1;34m(self, batch)\u001b[0m\n\u001b[0;32m    714\u001b[0m         \u001b[1;32mwith\u001b[0m \u001b[0mself\u001b[0m\u001b[1;33m.\u001b[0m\u001b[0m_lock\u001b[0m\u001b[1;33m:\u001b[0m\u001b[1;33m\u001b[0m\u001b[1;33m\u001b[0m\u001b[0m\n\u001b[0;32m    715\u001b[0m             \u001b[0mjob_idx\u001b[0m \u001b[1;33m=\u001b[0m \u001b[0mlen\u001b[0m\u001b[1;33m(\u001b[0m\u001b[0mself\u001b[0m\u001b[1;33m.\u001b[0m\u001b[0m_jobs\u001b[0m\u001b[1;33m)\u001b[0m\u001b[1;33m\u001b[0m\u001b[1;33m\u001b[0m\u001b[0m\n\u001b[1;32m--> 716\u001b[1;33m             \u001b[0mjob\u001b[0m \u001b[1;33m=\u001b[0m \u001b[0mself\u001b[0m\u001b[1;33m.\u001b[0m\u001b[0m_backend\u001b[0m\u001b[1;33m.\u001b[0m\u001b[0mapply_async\u001b[0m\u001b[1;33m(\u001b[0m\u001b[0mbatch\u001b[0m\u001b[1;33m,\u001b[0m \u001b[0mcallback\u001b[0m\u001b[1;33m=\u001b[0m\u001b[0mcb\u001b[0m\u001b[1;33m)\u001b[0m\u001b[1;33m\u001b[0m\u001b[1;33m\u001b[0m\u001b[0m\n\u001b[0m\u001b[0;32m    717\u001b[0m             \u001b[1;31m# A job can complete so quickly than its callback is\u001b[0m\u001b[1;33m\u001b[0m\u001b[1;33m\u001b[0m\u001b[1;33m\u001b[0m\u001b[0m\n\u001b[0;32m    718\u001b[0m             \u001b[1;31m# called before we get here, causing self._jobs to\u001b[0m\u001b[1;33m\u001b[0m\u001b[1;33m\u001b[0m\u001b[1;33m\u001b[0m\u001b[0m\n",
      "\u001b[1;32mC:\\ProgramData\\Anaconda3\\lib\\site-packages\\joblib\\_parallel_backends.py\u001b[0m in \u001b[0;36mapply_async\u001b[1;34m(self, func, callback)\u001b[0m\n\u001b[0;32m    180\u001b[0m     \u001b[1;32mdef\u001b[0m \u001b[0mapply_async\u001b[0m\u001b[1;33m(\u001b[0m\u001b[0mself\u001b[0m\u001b[1;33m,\u001b[0m \u001b[0mfunc\u001b[0m\u001b[1;33m,\u001b[0m \u001b[0mcallback\u001b[0m\u001b[1;33m=\u001b[0m\u001b[1;32mNone\u001b[0m\u001b[1;33m)\u001b[0m\u001b[1;33m:\u001b[0m\u001b[1;33m\u001b[0m\u001b[1;33m\u001b[0m\u001b[0m\n\u001b[0;32m    181\u001b[0m         \u001b[1;34m\"\"\"Schedule a func to be run\"\"\"\u001b[0m\u001b[1;33m\u001b[0m\u001b[1;33m\u001b[0m\u001b[0m\n\u001b[1;32m--> 182\u001b[1;33m         \u001b[0mresult\u001b[0m \u001b[1;33m=\u001b[0m \u001b[0mImmediateResult\u001b[0m\u001b[1;33m(\u001b[0m\u001b[0mfunc\u001b[0m\u001b[1;33m)\u001b[0m\u001b[1;33m\u001b[0m\u001b[1;33m\u001b[0m\u001b[0m\n\u001b[0m\u001b[0;32m    183\u001b[0m         \u001b[1;32mif\u001b[0m \u001b[0mcallback\u001b[0m\u001b[1;33m:\u001b[0m\u001b[1;33m\u001b[0m\u001b[1;33m\u001b[0m\u001b[0m\n\u001b[0;32m    184\u001b[0m             \u001b[0mcallback\u001b[0m\u001b[1;33m(\u001b[0m\u001b[0mresult\u001b[0m\u001b[1;33m)\u001b[0m\u001b[1;33m\u001b[0m\u001b[1;33m\u001b[0m\u001b[0m\n",
      "\u001b[1;32mC:\\ProgramData\\Anaconda3\\lib\\site-packages\\joblib\\_parallel_backends.py\u001b[0m in \u001b[0;36m__init__\u001b[1;34m(self, batch)\u001b[0m\n\u001b[0;32m    547\u001b[0m         \u001b[1;31m# Don't delay the application, to avoid keeping the input\u001b[0m\u001b[1;33m\u001b[0m\u001b[1;33m\u001b[0m\u001b[1;33m\u001b[0m\u001b[0m\n\u001b[0;32m    548\u001b[0m         \u001b[1;31m# arguments in memory\u001b[0m\u001b[1;33m\u001b[0m\u001b[1;33m\u001b[0m\u001b[1;33m\u001b[0m\u001b[0m\n\u001b[1;32m--> 549\u001b[1;33m         \u001b[0mself\u001b[0m\u001b[1;33m.\u001b[0m\u001b[0mresults\u001b[0m \u001b[1;33m=\u001b[0m \u001b[0mbatch\u001b[0m\u001b[1;33m(\u001b[0m\u001b[1;33m)\u001b[0m\u001b[1;33m\u001b[0m\u001b[1;33m\u001b[0m\u001b[0m\n\u001b[0m\u001b[0;32m    550\u001b[0m \u001b[1;33m\u001b[0m\u001b[0m\n\u001b[0;32m    551\u001b[0m     \u001b[1;32mdef\u001b[0m \u001b[0mget\u001b[0m\u001b[1;33m(\u001b[0m\u001b[0mself\u001b[0m\u001b[1;33m)\u001b[0m\u001b[1;33m:\u001b[0m\u001b[1;33m\u001b[0m\u001b[1;33m\u001b[0m\u001b[0m\n",
      "\u001b[1;32mC:\\ProgramData\\Anaconda3\\lib\\site-packages\\joblib\\parallel.py\u001b[0m in \u001b[0;36m__call__\u001b[1;34m(self)\u001b[0m\n\u001b[0;32m    223\u001b[0m         \u001b[1;32mwith\u001b[0m \u001b[0mparallel_backend\u001b[0m\u001b[1;33m(\u001b[0m\u001b[0mself\u001b[0m\u001b[1;33m.\u001b[0m\u001b[0m_backend\u001b[0m\u001b[1;33m,\u001b[0m \u001b[0mn_jobs\u001b[0m\u001b[1;33m=\u001b[0m\u001b[0mself\u001b[0m\u001b[1;33m.\u001b[0m\u001b[0m_n_jobs\u001b[0m\u001b[1;33m)\u001b[0m\u001b[1;33m:\u001b[0m\u001b[1;33m\u001b[0m\u001b[1;33m\u001b[0m\u001b[0m\n\u001b[0;32m    224\u001b[0m             return [func(*args, **kwargs)\n\u001b[1;32m--> 225\u001b[1;33m                     for func, args, kwargs in self.items]\n\u001b[0m\u001b[0;32m    226\u001b[0m \u001b[1;33m\u001b[0m\u001b[0m\n\u001b[0;32m    227\u001b[0m     \u001b[1;32mdef\u001b[0m \u001b[0m__len__\u001b[0m\u001b[1;33m(\u001b[0m\u001b[0mself\u001b[0m\u001b[1;33m)\u001b[0m\u001b[1;33m:\u001b[0m\u001b[1;33m\u001b[0m\u001b[1;33m\u001b[0m\u001b[0m\n",
      "\u001b[1;32mC:\\ProgramData\\Anaconda3\\lib\\site-packages\\joblib\\parallel.py\u001b[0m in \u001b[0;36m<listcomp>\u001b[1;34m(.0)\u001b[0m\n\u001b[0;32m    223\u001b[0m         \u001b[1;32mwith\u001b[0m \u001b[0mparallel_backend\u001b[0m\u001b[1;33m(\u001b[0m\u001b[0mself\u001b[0m\u001b[1;33m.\u001b[0m\u001b[0m_backend\u001b[0m\u001b[1;33m,\u001b[0m \u001b[0mn_jobs\u001b[0m\u001b[1;33m=\u001b[0m\u001b[0mself\u001b[0m\u001b[1;33m.\u001b[0m\u001b[0m_n_jobs\u001b[0m\u001b[1;33m)\u001b[0m\u001b[1;33m:\u001b[0m\u001b[1;33m\u001b[0m\u001b[1;33m\u001b[0m\u001b[0m\n\u001b[0;32m    224\u001b[0m             return [func(*args, **kwargs)\n\u001b[1;32m--> 225\u001b[1;33m                     for func, args, kwargs in self.items]\n\u001b[0m\u001b[0;32m    226\u001b[0m \u001b[1;33m\u001b[0m\u001b[0m\n\u001b[0;32m    227\u001b[0m     \u001b[1;32mdef\u001b[0m \u001b[0m__len__\u001b[0m\u001b[1;33m(\u001b[0m\u001b[0mself\u001b[0m\u001b[1;33m)\u001b[0m\u001b[1;33m:\u001b[0m\u001b[1;33m\u001b[0m\u001b[1;33m\u001b[0m\u001b[0m\n",
      "\u001b[1;32mC:\\ProgramData\\Anaconda3\\lib\\site-packages\\sklearn\\ensemble\\voting.py\u001b[0m in \u001b[0;36m_parallel_fit_estimator\u001b[1;34m(estimator, X, y, sample_weight)\u001b[0m\n\u001b[0;32m     41\u001b[0m             \u001b[1;32mraise\u001b[0m\u001b[1;33m\u001b[0m\u001b[1;33m\u001b[0m\u001b[0m\n\u001b[0;32m     42\u001b[0m     \u001b[1;32melse\u001b[0m\u001b[1;33m:\u001b[0m\u001b[1;33m\u001b[0m\u001b[1;33m\u001b[0m\u001b[0m\n\u001b[1;32m---> 43\u001b[1;33m         \u001b[0mestimator\u001b[0m\u001b[1;33m.\u001b[0m\u001b[0mfit\u001b[0m\u001b[1;33m(\u001b[0m\u001b[0mX\u001b[0m\u001b[1;33m,\u001b[0m \u001b[0my\u001b[0m\u001b[1;33m)\u001b[0m\u001b[1;33m\u001b[0m\u001b[1;33m\u001b[0m\u001b[0m\n\u001b[0m\u001b[0;32m     44\u001b[0m     \u001b[1;32mreturn\u001b[0m \u001b[0mestimator\u001b[0m\u001b[1;33m\u001b[0m\u001b[1;33m\u001b[0m\u001b[0m\n\u001b[0;32m     45\u001b[0m \u001b[1;33m\u001b[0m\u001b[0m\n",
      "\u001b[1;32mC:\\ProgramData\\Anaconda3\\lib\\site-packages\\sklearn\\ensemble\\bagging.py\u001b[0m in \u001b[0;36mfit\u001b[1;34m(self, X, y, sample_weight)\u001b[0m\n\u001b[0;32m    239\u001b[0m         \u001b[0mself\u001b[0m \u001b[1;33m:\u001b[0m \u001b[0mobject\u001b[0m\u001b[1;33m\u001b[0m\u001b[1;33m\u001b[0m\u001b[0m\n\u001b[0;32m    240\u001b[0m         \"\"\"\n\u001b[1;32m--> 241\u001b[1;33m         \u001b[1;32mreturn\u001b[0m \u001b[0mself\u001b[0m\u001b[1;33m.\u001b[0m\u001b[0m_fit\u001b[0m\u001b[1;33m(\u001b[0m\u001b[0mX\u001b[0m\u001b[1;33m,\u001b[0m \u001b[0my\u001b[0m\u001b[1;33m,\u001b[0m \u001b[0mself\u001b[0m\u001b[1;33m.\u001b[0m\u001b[0mmax_samples\u001b[0m\u001b[1;33m,\u001b[0m \u001b[0msample_weight\u001b[0m\u001b[1;33m=\u001b[0m\u001b[0msample_weight\u001b[0m\u001b[1;33m)\u001b[0m\u001b[1;33m\u001b[0m\u001b[1;33m\u001b[0m\u001b[0m\n\u001b[0m\u001b[0;32m    242\u001b[0m \u001b[1;33m\u001b[0m\u001b[0m\n\u001b[0;32m    243\u001b[0m     \u001b[1;32mdef\u001b[0m \u001b[0m_parallel_args\u001b[0m\u001b[1;33m(\u001b[0m\u001b[0mself\u001b[0m\u001b[1;33m)\u001b[0m\u001b[1;33m:\u001b[0m\u001b[1;33m\u001b[0m\u001b[1;33m\u001b[0m\u001b[0m\n",
      "\u001b[1;32mC:\\ProgramData\\Anaconda3\\lib\\site-packages\\sklearn\\ensemble\\bagging.py\u001b[0m in \u001b[0;36m_fit\u001b[1;34m(self, X, y, max_samples, max_depth, sample_weight)\u001b[0m\n\u001b[0;32m    377\u001b[0m                 \u001b[0mtotal_n_estimators\u001b[0m\u001b[1;33m,\u001b[0m\u001b[1;33m\u001b[0m\u001b[1;33m\u001b[0m\u001b[0m\n\u001b[0;32m    378\u001b[0m                 verbose=self.verbose)\n\u001b[1;32m--> 379\u001b[1;33m             for i in range(n_jobs))\n\u001b[0m\u001b[0;32m    380\u001b[0m \u001b[1;33m\u001b[0m\u001b[0m\n\u001b[0;32m    381\u001b[0m         \u001b[1;31m# Reduce\u001b[0m\u001b[1;33m\u001b[0m\u001b[1;33m\u001b[0m\u001b[1;33m\u001b[0m\u001b[0m\n",
      "\u001b[1;32mC:\\ProgramData\\Anaconda3\\lib\\site-packages\\joblib\\parallel.py\u001b[0m in \u001b[0;36m__call__\u001b[1;34m(self, iterable)\u001b[0m\n\u001b[0;32m    919\u001b[0m             \u001b[1;31m# remaining jobs.\u001b[0m\u001b[1;33m\u001b[0m\u001b[1;33m\u001b[0m\u001b[1;33m\u001b[0m\u001b[0m\n\u001b[0;32m    920\u001b[0m             \u001b[0mself\u001b[0m\u001b[1;33m.\u001b[0m\u001b[0m_iterating\u001b[0m \u001b[1;33m=\u001b[0m \u001b[1;32mFalse\u001b[0m\u001b[1;33m\u001b[0m\u001b[1;33m\u001b[0m\u001b[0m\n\u001b[1;32m--> 921\u001b[1;33m             \u001b[1;32mif\u001b[0m \u001b[0mself\u001b[0m\u001b[1;33m.\u001b[0m\u001b[0mdispatch_one_batch\u001b[0m\u001b[1;33m(\u001b[0m\u001b[0miterator\u001b[0m\u001b[1;33m)\u001b[0m\u001b[1;33m:\u001b[0m\u001b[1;33m\u001b[0m\u001b[1;33m\u001b[0m\u001b[0m\n\u001b[0m\u001b[0;32m    922\u001b[0m                 \u001b[0mself\u001b[0m\u001b[1;33m.\u001b[0m\u001b[0m_iterating\u001b[0m \u001b[1;33m=\u001b[0m \u001b[0mself\u001b[0m\u001b[1;33m.\u001b[0m\u001b[0m_original_iterator\u001b[0m \u001b[1;32mis\u001b[0m \u001b[1;32mnot\u001b[0m \u001b[1;32mNone\u001b[0m\u001b[1;33m\u001b[0m\u001b[1;33m\u001b[0m\u001b[0m\n\u001b[0;32m    923\u001b[0m \u001b[1;33m\u001b[0m\u001b[0m\n",
      "\u001b[1;32mC:\\ProgramData\\Anaconda3\\lib\\site-packages\\joblib\\parallel.py\u001b[0m in \u001b[0;36mdispatch_one_batch\u001b[1;34m(self, iterator)\u001b[0m\n\u001b[0;32m    757\u001b[0m                 \u001b[1;32mreturn\u001b[0m \u001b[1;32mFalse\u001b[0m\u001b[1;33m\u001b[0m\u001b[1;33m\u001b[0m\u001b[0m\n\u001b[0;32m    758\u001b[0m             \u001b[1;32melse\u001b[0m\u001b[1;33m:\u001b[0m\u001b[1;33m\u001b[0m\u001b[1;33m\u001b[0m\u001b[0m\n\u001b[1;32m--> 759\u001b[1;33m                 \u001b[0mself\u001b[0m\u001b[1;33m.\u001b[0m\u001b[0m_dispatch\u001b[0m\u001b[1;33m(\u001b[0m\u001b[0mtasks\u001b[0m\u001b[1;33m)\u001b[0m\u001b[1;33m\u001b[0m\u001b[1;33m\u001b[0m\u001b[0m\n\u001b[0m\u001b[0;32m    760\u001b[0m                 \u001b[1;32mreturn\u001b[0m \u001b[1;32mTrue\u001b[0m\u001b[1;33m\u001b[0m\u001b[1;33m\u001b[0m\u001b[0m\n\u001b[0;32m    761\u001b[0m \u001b[1;33m\u001b[0m\u001b[0m\n",
      "\u001b[1;32mC:\\ProgramData\\Anaconda3\\lib\\site-packages\\joblib\\parallel.py\u001b[0m in \u001b[0;36m_dispatch\u001b[1;34m(self, batch)\u001b[0m\n\u001b[0;32m    714\u001b[0m         \u001b[1;32mwith\u001b[0m \u001b[0mself\u001b[0m\u001b[1;33m.\u001b[0m\u001b[0m_lock\u001b[0m\u001b[1;33m:\u001b[0m\u001b[1;33m\u001b[0m\u001b[1;33m\u001b[0m\u001b[0m\n\u001b[0;32m    715\u001b[0m             \u001b[0mjob_idx\u001b[0m \u001b[1;33m=\u001b[0m \u001b[0mlen\u001b[0m\u001b[1;33m(\u001b[0m\u001b[0mself\u001b[0m\u001b[1;33m.\u001b[0m\u001b[0m_jobs\u001b[0m\u001b[1;33m)\u001b[0m\u001b[1;33m\u001b[0m\u001b[1;33m\u001b[0m\u001b[0m\n\u001b[1;32m--> 716\u001b[1;33m             \u001b[0mjob\u001b[0m \u001b[1;33m=\u001b[0m \u001b[0mself\u001b[0m\u001b[1;33m.\u001b[0m\u001b[0m_backend\u001b[0m\u001b[1;33m.\u001b[0m\u001b[0mapply_async\u001b[0m\u001b[1;33m(\u001b[0m\u001b[0mbatch\u001b[0m\u001b[1;33m,\u001b[0m \u001b[0mcallback\u001b[0m\u001b[1;33m=\u001b[0m\u001b[0mcb\u001b[0m\u001b[1;33m)\u001b[0m\u001b[1;33m\u001b[0m\u001b[1;33m\u001b[0m\u001b[0m\n\u001b[0m\u001b[0;32m    717\u001b[0m             \u001b[1;31m# A job can complete so quickly than its callback is\u001b[0m\u001b[1;33m\u001b[0m\u001b[1;33m\u001b[0m\u001b[1;33m\u001b[0m\u001b[0m\n\u001b[0;32m    718\u001b[0m             \u001b[1;31m# called before we get here, causing self._jobs to\u001b[0m\u001b[1;33m\u001b[0m\u001b[1;33m\u001b[0m\u001b[1;33m\u001b[0m\u001b[0m\n",
      "\u001b[1;32mC:\\ProgramData\\Anaconda3\\lib\\site-packages\\joblib\\_parallel_backends.py\u001b[0m in \u001b[0;36mapply_async\u001b[1;34m(self, func, callback)\u001b[0m\n\u001b[0;32m    180\u001b[0m     \u001b[1;32mdef\u001b[0m \u001b[0mapply_async\u001b[0m\u001b[1;33m(\u001b[0m\u001b[0mself\u001b[0m\u001b[1;33m,\u001b[0m \u001b[0mfunc\u001b[0m\u001b[1;33m,\u001b[0m \u001b[0mcallback\u001b[0m\u001b[1;33m=\u001b[0m\u001b[1;32mNone\u001b[0m\u001b[1;33m)\u001b[0m\u001b[1;33m:\u001b[0m\u001b[1;33m\u001b[0m\u001b[1;33m\u001b[0m\u001b[0m\n\u001b[0;32m    181\u001b[0m         \u001b[1;34m\"\"\"Schedule a func to be run\"\"\"\u001b[0m\u001b[1;33m\u001b[0m\u001b[1;33m\u001b[0m\u001b[0m\n\u001b[1;32m--> 182\u001b[1;33m         \u001b[0mresult\u001b[0m \u001b[1;33m=\u001b[0m \u001b[0mImmediateResult\u001b[0m\u001b[1;33m(\u001b[0m\u001b[0mfunc\u001b[0m\u001b[1;33m)\u001b[0m\u001b[1;33m\u001b[0m\u001b[1;33m\u001b[0m\u001b[0m\n\u001b[0m\u001b[0;32m    183\u001b[0m         \u001b[1;32mif\u001b[0m \u001b[0mcallback\u001b[0m\u001b[1;33m:\u001b[0m\u001b[1;33m\u001b[0m\u001b[1;33m\u001b[0m\u001b[0m\n\u001b[0;32m    184\u001b[0m             \u001b[0mcallback\u001b[0m\u001b[1;33m(\u001b[0m\u001b[0mresult\u001b[0m\u001b[1;33m)\u001b[0m\u001b[1;33m\u001b[0m\u001b[1;33m\u001b[0m\u001b[0m\n",
      "\u001b[1;32mC:\\ProgramData\\Anaconda3\\lib\\site-packages\\joblib\\_parallel_backends.py\u001b[0m in \u001b[0;36m__init__\u001b[1;34m(self, batch)\u001b[0m\n\u001b[0;32m    547\u001b[0m         \u001b[1;31m# Don't delay the application, to avoid keeping the input\u001b[0m\u001b[1;33m\u001b[0m\u001b[1;33m\u001b[0m\u001b[1;33m\u001b[0m\u001b[0m\n\u001b[0;32m    548\u001b[0m         \u001b[1;31m# arguments in memory\u001b[0m\u001b[1;33m\u001b[0m\u001b[1;33m\u001b[0m\u001b[1;33m\u001b[0m\u001b[0m\n\u001b[1;32m--> 549\u001b[1;33m         \u001b[0mself\u001b[0m\u001b[1;33m.\u001b[0m\u001b[0mresults\u001b[0m \u001b[1;33m=\u001b[0m \u001b[0mbatch\u001b[0m\u001b[1;33m(\u001b[0m\u001b[1;33m)\u001b[0m\u001b[1;33m\u001b[0m\u001b[1;33m\u001b[0m\u001b[0m\n\u001b[0m\u001b[0;32m    550\u001b[0m \u001b[1;33m\u001b[0m\u001b[0m\n\u001b[0;32m    551\u001b[0m     \u001b[1;32mdef\u001b[0m \u001b[0mget\u001b[0m\u001b[1;33m(\u001b[0m\u001b[0mself\u001b[0m\u001b[1;33m)\u001b[0m\u001b[1;33m:\u001b[0m\u001b[1;33m\u001b[0m\u001b[1;33m\u001b[0m\u001b[0m\n",
      "\u001b[1;32mC:\\ProgramData\\Anaconda3\\lib\\site-packages\\joblib\\parallel.py\u001b[0m in \u001b[0;36m__call__\u001b[1;34m(self)\u001b[0m\n\u001b[0;32m    223\u001b[0m         \u001b[1;32mwith\u001b[0m \u001b[0mparallel_backend\u001b[0m\u001b[1;33m(\u001b[0m\u001b[0mself\u001b[0m\u001b[1;33m.\u001b[0m\u001b[0m_backend\u001b[0m\u001b[1;33m,\u001b[0m \u001b[0mn_jobs\u001b[0m\u001b[1;33m=\u001b[0m\u001b[0mself\u001b[0m\u001b[1;33m.\u001b[0m\u001b[0m_n_jobs\u001b[0m\u001b[1;33m)\u001b[0m\u001b[1;33m:\u001b[0m\u001b[1;33m\u001b[0m\u001b[1;33m\u001b[0m\u001b[0m\n\u001b[0;32m    224\u001b[0m             return [func(*args, **kwargs)\n\u001b[1;32m--> 225\u001b[1;33m                     for func, args, kwargs in self.items]\n\u001b[0m\u001b[0;32m    226\u001b[0m \u001b[1;33m\u001b[0m\u001b[0m\n\u001b[0;32m    227\u001b[0m     \u001b[1;32mdef\u001b[0m \u001b[0m__len__\u001b[0m\u001b[1;33m(\u001b[0m\u001b[0mself\u001b[0m\u001b[1;33m)\u001b[0m\u001b[1;33m:\u001b[0m\u001b[1;33m\u001b[0m\u001b[1;33m\u001b[0m\u001b[0m\n",
      "\u001b[1;32mC:\\ProgramData\\Anaconda3\\lib\\site-packages\\joblib\\parallel.py\u001b[0m in \u001b[0;36m<listcomp>\u001b[1;34m(.0)\u001b[0m\n\u001b[0;32m    223\u001b[0m         \u001b[1;32mwith\u001b[0m \u001b[0mparallel_backend\u001b[0m\u001b[1;33m(\u001b[0m\u001b[0mself\u001b[0m\u001b[1;33m.\u001b[0m\u001b[0m_backend\u001b[0m\u001b[1;33m,\u001b[0m \u001b[0mn_jobs\u001b[0m\u001b[1;33m=\u001b[0m\u001b[0mself\u001b[0m\u001b[1;33m.\u001b[0m\u001b[0m_n_jobs\u001b[0m\u001b[1;33m)\u001b[0m\u001b[1;33m:\u001b[0m\u001b[1;33m\u001b[0m\u001b[1;33m\u001b[0m\u001b[0m\n\u001b[0;32m    224\u001b[0m             return [func(*args, **kwargs)\n\u001b[1;32m--> 225\u001b[1;33m                     for func, args, kwargs in self.items]\n\u001b[0m\u001b[0;32m    226\u001b[0m \u001b[1;33m\u001b[0m\u001b[0m\n\u001b[0;32m    227\u001b[0m     \u001b[1;32mdef\u001b[0m \u001b[0m__len__\u001b[0m\u001b[1;33m(\u001b[0m\u001b[0mself\u001b[0m\u001b[1;33m)\u001b[0m\u001b[1;33m:\u001b[0m\u001b[1;33m\u001b[0m\u001b[1;33m\u001b[0m\u001b[0m\n",
      "\u001b[1;32mC:\\ProgramData\\Anaconda3\\lib\\site-packages\\sklearn\\ensemble\\bagging.py\u001b[0m in \u001b[0;36m_parallel_build_estimators\u001b[1;34m(n_estimators, ensemble, X, y, sample_weight, seeds, total_n_estimators, verbose)\u001b[0m\n\u001b[0;32m    106\u001b[0m                 \u001b[0mcurr_sample_weight\u001b[0m\u001b[1;33m[\u001b[0m\u001b[0mnot_indices_mask\u001b[0m\u001b[1;33m]\u001b[0m \u001b[1;33m=\u001b[0m \u001b[1;36m0\u001b[0m\u001b[1;33m\u001b[0m\u001b[1;33m\u001b[0m\u001b[0m\n\u001b[0;32m    107\u001b[0m \u001b[1;33m\u001b[0m\u001b[0m\n\u001b[1;32m--> 108\u001b[1;33m             \u001b[0mestimator\u001b[0m\u001b[1;33m.\u001b[0m\u001b[0mfit\u001b[0m\u001b[1;33m(\u001b[0m\u001b[0mX\u001b[0m\u001b[1;33m[\u001b[0m\u001b[1;33m:\u001b[0m\u001b[1;33m,\u001b[0m \u001b[0mfeatures\u001b[0m\u001b[1;33m]\u001b[0m\u001b[1;33m,\u001b[0m \u001b[0my\u001b[0m\u001b[1;33m,\u001b[0m \u001b[0msample_weight\u001b[0m\u001b[1;33m=\u001b[0m\u001b[0mcurr_sample_weight\u001b[0m\u001b[1;33m)\u001b[0m\u001b[1;33m\u001b[0m\u001b[1;33m\u001b[0m\u001b[0m\n\u001b[0m\u001b[0;32m    109\u001b[0m \u001b[1;33m\u001b[0m\u001b[0m\n\u001b[0;32m    110\u001b[0m         \u001b[1;32melse\u001b[0m\u001b[1;33m:\u001b[0m\u001b[1;33m\u001b[0m\u001b[1;33m\u001b[0m\u001b[0m\n",
      "\u001b[1;32mC:\\ProgramData\\Anaconda3\\lib\\site-packages\\sklearn\\tree\\tree.py\u001b[0m in \u001b[0;36mfit\u001b[1;34m(self, X, y, sample_weight, check_input, X_idx_sorted)\u001b[0m\n\u001b[0;32m    814\u001b[0m             \u001b[0msample_weight\u001b[0m\u001b[1;33m=\u001b[0m\u001b[0msample_weight\u001b[0m\u001b[1;33m,\u001b[0m\u001b[1;33m\u001b[0m\u001b[1;33m\u001b[0m\u001b[0m\n\u001b[0;32m    815\u001b[0m             \u001b[0mcheck_input\u001b[0m\u001b[1;33m=\u001b[0m\u001b[0mcheck_input\u001b[0m\u001b[1;33m,\u001b[0m\u001b[1;33m\u001b[0m\u001b[1;33m\u001b[0m\u001b[0m\n\u001b[1;32m--> 816\u001b[1;33m             X_idx_sorted=X_idx_sorted)\n\u001b[0m\u001b[0;32m    817\u001b[0m         \u001b[1;32mreturn\u001b[0m \u001b[0mself\u001b[0m\u001b[1;33m\u001b[0m\u001b[1;33m\u001b[0m\u001b[0m\n\u001b[0;32m    818\u001b[0m \u001b[1;33m\u001b[0m\u001b[0m\n",
      "\u001b[1;32mC:\\ProgramData\\Anaconda3\\lib\\site-packages\\sklearn\\tree\\tree.py\u001b[0m in \u001b[0;36mfit\u001b[1;34m(self, X, y, sample_weight, check_input, X_idx_sorted)\u001b[0m\n\u001b[0;32m    378\u001b[0m                                            min_impurity_split)\n\u001b[0;32m    379\u001b[0m \u001b[1;33m\u001b[0m\u001b[0m\n\u001b[1;32m--> 380\u001b[1;33m         \u001b[0mbuilder\u001b[0m\u001b[1;33m.\u001b[0m\u001b[0mbuild\u001b[0m\u001b[1;33m(\u001b[0m\u001b[0mself\u001b[0m\u001b[1;33m.\u001b[0m\u001b[0mtree_\u001b[0m\u001b[1;33m,\u001b[0m \u001b[0mX\u001b[0m\u001b[1;33m,\u001b[0m \u001b[0my\u001b[0m\u001b[1;33m,\u001b[0m \u001b[0msample_weight\u001b[0m\u001b[1;33m,\u001b[0m \u001b[0mX_idx_sorted\u001b[0m\u001b[1;33m)\u001b[0m\u001b[1;33m\u001b[0m\u001b[1;33m\u001b[0m\u001b[0m\n\u001b[0m\u001b[0;32m    381\u001b[0m \u001b[1;33m\u001b[0m\u001b[0m\n\u001b[0;32m    382\u001b[0m         \u001b[1;32mif\u001b[0m \u001b[0mself\u001b[0m\u001b[1;33m.\u001b[0m\u001b[0mn_outputs_\u001b[0m \u001b[1;33m==\u001b[0m \u001b[1;36m1\u001b[0m\u001b[1;33m:\u001b[0m\u001b[1;33m\u001b[0m\u001b[1;33m\u001b[0m\u001b[0m\n",
      "\u001b[1;31mKeyboardInterrupt\u001b[0m: "
     ]
    }
   ],
   "source": [
    "from sklearn.ensemble import RandomForestClassifier, VotingClassifier\n",
    "from sklearn.naive_bayes import GaussianNB\n",
    "from sklearn.linear_model import LogisticRegression\n",
    "rse = rs[['Rain','Press','WindDr_SE','WindDr_S']].resample('1D').mean()\n",
    "temp = [rse] + [rse.shift(i) for i in range(1,100)]\n",
    "rse = pd.concat(temp, axis=1)\n",
    "\n",
    "X = rse.iloc[100:-1, :]\n",
    "y = (rs.resample('1D').mean())['Rain'].shift(-1)>0\n",
    "y = y.interpolate(method ='bfill')\n",
    "y = y[100:-1].astype('int')\n",
    "\n",
    "print(X.shape)\n",
    "print(y.shape)\n",
    "from sklearn.model_selection import TimeSeriesSplit\n",
    "tscv = TimeSeriesSplit(n_splits = 10)\n",
    "for train_index, test_index in tscv.split(X):\n",
    "    X_train, X_test = X.iloc[train_index, :], X.iloc[test_index,:]\n",
    "    y_train, y_test = y.iloc[train_index], y.iloc[test_index]\n",
    "from sklearn.preprocessing import StandardScaler\n",
    "scaler = StandardScaler()\n",
    "scaler.fit(X_train)\n",
    "X_train = scaler.transform(X_train)\n",
    "X_test = scaler.transform(X_test)    \n",
    "\n",
    "#sk = SelectKBest(chi2, k=20).fit(X_train, y_train)\n",
    "#X_train = sk.transform(X_train)\n",
    "clf1 = BaggingClassifier(n_estimators=70)\n",
    "clf2 = RandomForestClassifier(n_estimators=70, random_state=1)\n",
    "clf3 = GradientBoostingClassifier(n_estimators=70,random_state=0) \n",
    "gbm = VotingClassifier(estimators=[\n",
    "        ('lr', clf1), ('rf', clf2), ('gnb', clf3)], voting='soft')#GradientBoostingClassifier(n_estimators=70) \n",
    "scores = cross_val_score(gbm, X_train, y_train, cv=tscv, scoring='accuracy')\n",
    "print('Gradient Boosting ' + \": Loss: {0:.3f} (+/- {1:.3f})\".format(scores.mean(), scores.std()))\n",
    "\n",
    "from sklearn.metrics import accuracy_score\n",
    "gbm.fit(X_train,y_train)\n",
    "print(accuracy_score(y_test, gbm.predict(X_test)))\n",
    "\n",
    "scores = cross_val_score(gbm, X_train, y_train, cv=tscv, scoring='roc_auc')\n",
    "print('Gradient Boosting ' + \": Loss: {0:.3f} (+/- {1:.3f})\".format(scores.mean(), scores.std()))\n",
    "\n",
    "from sklearn.metrics import roc_auc_score\n",
    "print(roc_auc_score(y_test, gbm.predict(X_test)))"
   ]
  },
  {
   "cell_type": "code",
   "execution_count": 621,
   "metadata": {},
   "outputs": [
    {
     "name": "stdout",
     "output_type": "stream",
     "text": [
      "0.6672189601379765\n"
     ]
    }
   ],
   "source": [
    "print(roc_auc_score(y_test, gbm.predict(X_test)))"
   ]
  },
  {
   "cell_type": "code",
   "execution_count": 499,
   "metadata": {},
   "outputs": [
    {
     "name": "stdout",
     "output_type": "stream",
     "text": [
      "Gradient Boosting : Loss: 0.656 (+/- 0.030)\n",
      "0.7135802469135802\n",
      "Gradient Boosting : Loss: 0.687 (+/- 0.032)\n",
      "0.6779257019940701\n"
     ]
    }
   ],
   "source": [
    "gbm = GradientBoostingClassifier(n_estimators=70,\n",
    "                                               random_state=0) \n",
    "scores = cross_val_score(gbm, X_train, y_train, cv=tscv, scoring='accuracy')\n",
    "print('Gradient Boosting ' + \": Loss: {0:.3f} (+/- {1:.3f})\".format(scores.mean(), scores.std()))\n",
    "\n",
    "from sklearn.metrics import accuracy_score\n",
    "gbm.fit(X_train,y_train)\n",
    "print(accuracy_score(y_test, gbm.predict(X_test)))\n",
    "\n",
    "scores = cross_val_score(gbm, X_train, y_train, cv=tscv, scoring='roc_auc')\n",
    "print('Gradient Boosting ' + \": Loss: {0:.3f} (+/- {1:.3f})\".format(scores.mean(), scores.std()))\n",
    "\n",
    "from sklearn.metrics import roc_auc_score\n",
    "print(roc_auc_score(y_test, gbm.predict(X_test)))"
   ]
  },
  {
   "cell_type": "code",
   "execution_count": 537,
   "metadata": {},
   "outputs": [
    {
     "data": {
      "text/plain": [
       "GradientBoostingClassifier(criterion='friedman_mse', init=None,\n",
       "                           learning_rate=0.1, loss='deviance', max_depth=3,\n",
       "                           max_features=None, max_leaf_nodes=None,\n",
       "                           min_impurity_decrease=0.0, min_impurity_split=None,\n",
       "                           min_samples_leaf=1, min_samples_split=2,\n",
       "                           min_weight_fraction_leaf=0.0, n_estimators=70,\n",
       "                           n_iter_no_change=None, presort='auto',\n",
       "                           random_state=0, subsample=1.0, tol=0.0001,\n",
       "                           validation_fraction=0.1, verbose=0,\n",
       "                           warm_start=False)"
      ]
     },
     "execution_count": 537,
     "metadata": {},
     "output_type": "execute_result"
    }
   ],
   "source": [
    "from sklearn.model_selection import cross_val_predict\n",
    "gbm = GradientBoostingClassifier(n_estimators=70,\n",
    "                                               random_state=0) \n",
    "gbm.fit(X,y)"
   ]
  },
  {
   "cell_type": "markdown",
   "metadata": {},
   "source": [
    "<a id='N1'></a>"
   ]
  },
  {
   "attachments": {},
   "cell_type": "markdown",
   "metadata": {},
   "source": [
    "## Plotting!\t\n",
    "sklearn.metrics.plot_confusion_matrix(estimator, X, y)  \n",
    "\tmetrics.plot_roc_curve(clf, X_test, y_test)  \n",
    "\tsklearn.metrics.ConfusionMatrixDisplay  \n",
    "\tsklearn.metrics.RocCurveDisplay(fpr, tpr, roc_auc, estimator_name)  \n",
    "    \n",
    "    \n"
   ]
  },
  {
   "cell_type": "code",
   "execution_count": 540,
   "metadata": {},
   "outputs": [
    {
     "data": {
      "text/plain": [
       "[Text(167.4, 190.26, 'X[5] <= 0.0\\nfriedman_mse = 0.247\\nsamples = 8911\\nvalue = -0.0'),\n",
       " Text(83.7, 135.9, 'X[2] <= 1019.115\\nfriedman_mse = 0.236\\nsamples = 3951\\nvalue = -0.174'),\n",
       " Text(41.85, 81.53999999999999, 'X[73] <= 0.0\\nfriedman_mse = 0.25\\nsamples = 1862\\nvalue = -0.071'),\n",
       " Text(20.925, 27.180000000000007, 'friedman_mse = 0.24\\nsamples = 957\\nvalue = -0.625'),\n",
       " Text(62.775000000000006, 27.180000000000007, 'friedman_mse = 0.245\\nsamples = 905\\nvalue = 0.068'),\n",
       " Text(125.55000000000001, 81.53999999999999, 'X[22] <= 0.0\\nfriedman_mse = 0.206\\nsamples = 2089\\nvalue = -0.266'),\n",
       " Text(104.625, 27.180000000000007, 'friedman_mse = 0.182\\nsamples = 1410\\nvalue = -1.287'),\n",
       " Text(146.475, 27.180000000000007, 'friedman_mse = 0.24\\nsamples = 679\\nvalue = -0.638'),\n",
       " Text(251.10000000000002, 135.9, 'X[2] <= 1014.885\\nfriedman_mse = 0.212\\nsamples = 4960\\nvalue = 0.139'),\n",
       " Text(209.25, 81.53999999999999, 'X[73] <= 0.001\\nfriedman_mse = 0.189\\nsamples = 3154\\nvalue = 0.19'),\n",
       " Text(188.32500000000002, 27.180000000000007, 'friedman_mse = 0.212\\nsamples = 1171\\nvalue = 0.558'),\n",
       " Text(230.175, 27.180000000000007, 'friedman_mse = 0.173\\nsamples = 1983\\nvalue = 0.898'),\n",
       " Text(292.95, 81.53999999999999, 'X[39] <= 0.002\\nfriedman_mse = 0.239\\nsamples = 1806\\nvalue = 0.048'),\n",
       " Text(272.02500000000003, 27.180000000000007, 'friedman_mse = 0.25\\nsamples = 722\\nvalue = -0.179'),\n",
       " Text(313.875, 27.180000000000007, 'friedman_mse = 0.222\\nsamples = 1084\\nvalue = 0.443')]"
      ]
     },
     "execution_count": 540,
     "metadata": {},
     "output_type": "execute_result"
    },
    {
     "data": {
      "image/png": "[encoded data removed]",
      "text/plain": [
       "<Figure size 432x288 with 1 Axes>"
      ]
     },
     "metadata": {
      "needs_background": "light"
     },
     "output_type": "display_data"
    }
   ],
   "source": [
    "from sklearn.tree import export_graphviz\n",
    "\n",
    "sub_tree = gbm.estimators_[0, 0]\n",
    "\n",
    "from sklearn import tree\n",
    "tree.plot_tree(sub_tree)"
   ]
  },
  {
   "cell_type": "code",
   "execution_count": 532,
   "metadata": {},
   "outputs": [
    {
     "data": {
      "text/plain": [
       "array([0.60864198, 0.68765432, 0.69259259, 0.59876543, 0.68518519,\n",
       "       0.66296296, 0.69012346, 0.66419753, 0.67901235, 0.70493827])"
      ]
     },
     "execution_count": 532,
     "metadata": {},
     "output_type": "execute_result"
    }
   ],
   "source": [
    "predicted"
   ]
  },
  {
   "cell_type": "code",
   "execution_count": 474,
   "metadata": {},
   "outputs": [
    {
     "data": {
      "text/plain": [
       "0.5504258733489693"
      ]
     },
     "execution_count": 474,
     "metadata": {},
     "output_type": "execute_result"
    }
   ],
   "source": [
    "np.sum(y_train)/len(y_train)"
   ]
  },
  {
   "cell_type": "code",
   "execution_count": 479,
   "metadata": {},
   "outputs": [
    {
     "name": "stdout",
     "output_type": "stream",
     "text": [
      "Confusion matrix, without normalization\n",
      "[[155 149]\n",
      " [ 94 393]]\n"
     ]
    },
    {
     "data": {
      "image/png": "[encoded data removed]",
      "text/plain": [
       "<Figure size 432x288 with 2 Axes>"
      ]
     },
     "metadata": {
      "needs_background": "light"
     },
     "output_type": "display_data"
    }
   ],
   "source": [
    "from sklearn.metrics import confusion_matrix\n",
    "import itertools\n",
    "def plot_confusion_matrix(cm, classes,\n",
    "                          normalize=False,\n",
    "                          title='Confusion matrix',\n",
    "                          cmap=plt.cm.Blues):\n",
    "    \"\"\"\n",
    "    This function prints and plots the confusion matrix.\n",
    "    Normalization can be applied by setting `normalize=True`.\n",
    "    \"\"\"\n",
    "    plt.imshow(cm, interpolation='nearest', cmap=cmap)\n",
    "    plt.title(title)\n",
    "    plt.colorbar()\n",
    "    tick_marks = np.arange(len(classes))\n",
    "    plt.xticks(tick_marks, classes, rotation=45)\n",
    "    plt.yticks(tick_marks, classes)\n",
    "\n",
    "    if normalize:\n",
    "        cm = cm.astype('float') / cm.sum(axis=1)[:, np.newaxis]\n",
    "        print(\"Normalized confusion matrix\")\n",
    "    else:\n",
    "        print('Confusion matrix, without normalization')\n",
    "\n",
    "    print(cm)\n",
    "\n",
    "    thresh = cm.max() / 2.\n",
    "    for i, j in itertools.product(range(cm.shape[0]), range(cm.shape[1])):\n",
    "        plt.text(j, i, cm[i, j],\n",
    "                 horizontalalignment=\"center\",\n",
    "                 color=\"white\" if cm[i, j] > thresh else \"black\")\n",
    "\n",
    "    plt.tight_layout()\n",
    "    plt.ylabel('True label')\n",
    "    plt.xlabel('Predicted label')\n",
    "plot_confusion_matrix(confusion_matrix(y_test,gbm.predict(X_test)),['0','1'])\n"
   ]
  },
  {
   "cell_type": "markdown",
   "metadata": {},
   "source": [
    "<a id='M5'></a>"
   ]
  },
  {
   "cell_type": "markdown",
   "metadata": {},
   "source": [
    "# With multiple output"
   ]
  },
  {
   "cell_type": "code",
   "execution_count": 616,
   "metadata": {},
   "outputs": [
    {
     "name": "stdout",
     "output_type": "stream",
     "text": [
      "(8872, 40)\n",
      "(8872, 30)\n"
     ]
    }
   ],
   "source": [
    "rse = rs[['Rain','Press','WindDr_SE','WindDr_S']].resample('1D').mean()\n",
    "temp = [rse] + [rse.shift(i) for i in range(1,10)]\n",
    "rse = pd.concat(temp, axis=1)\n",
    "\n",
    "X = rse.iloc[100:-40, :]\n",
    "y = [(rs.resample('1D').mean())['Rain'].shift(-i)>0 for i in range(30)]\n",
    "y = pd.concat(y, axis=1)\n",
    "y = y[100:-40].astype('int')\n",
    "\n",
    "print(X.shape)\n",
    "print(y.shape)"
   ]
  },
  {
   "cell_type": "code",
   "execution_count": 542,
   "metadata": {},
   "outputs": [
    {
     "name": "stdout",
     "output_type": "stream",
     "text": [
      "Gradient Boosting : Loss: 0.617 (+/- 0.095)\n",
      "0.5998345740281225\n",
      "Gradient Boosting : Loss: 0.570 (+/- 0.098)\n",
      "0.5431765286894098\n"
     ]
    }
   ],
   "source": [
    "from sklearn.model_selection import TimeSeriesSplit\n",
    "tscv = TimeSeriesSplit(n_splits = 10)\n",
    "for train_index, test_index in tscv.split(X):\n",
    "    X_train, X_test = X.iloc[train_index, :], X.iloc[test_index,:]\n",
    "    y_train, y_test = y.iloc[train_index, :], y.iloc[test_index, :]\n",
    "from sklearn.preprocessing import StandardScaler\n",
    "scaler = StandardScaler()\n",
    "scaler.fit(X_train)\n",
    "X_train = scaler.transform(X_train)\n",
    "X_test = scaler.transform(X_test)    \n",
    "\n",
    "#sk = SelectKBest(chi2, k=20).fit(X_train, y_train)\n",
    "#X_train = sk.transform(X_train)\n",
    "gbm = RandomForestClassifier(n_estimators=70) \n",
    "scores = cross_val_score(gbm, X_train, y_train, cv=tscv, scoring='f1_macro')\n",
    "print('Gradient Boosting ' + \": Loss: {0:.3f} (+/- {1:.3f})\".format(scores.mean(), scores.std()))\n",
    "\n",
    "from sklearn.metrics import accuracy_score\n",
    "gbm.fit(X_train,y_train)\n",
    "print(np.sum(np.sum(y_test == gbm.predict(X_test)))/(y_test.shape[0]*y_test.shape[1]))\n",
    "\n",
    "scores = cross_val_score(gbm, X_train, y_train, cv=tscv, scoring='precision_macro')\n",
    "print('Gradient Boosting ' + \": Loss: {0:.3f} (+/- {1:.3f})\".format(scores.mean(), scores.std()))\n",
    "\n",
    "from sklearn.metrics import roc_auc_score\n",
    "print(roc_auc_score(y_test, gbm.predict(X_test)))"
   ]
  },
  {
   "cell_type": "code",
   "execution_count": 543,
   "metadata": {},
   "outputs": [
    {
     "name": "stdout",
     "output_type": "stream",
     "text": [
      "0.623490488006617\n",
      "0.5526838925985514\n"
     ]
    }
   ],
   "source": [
    "from sklearn.multioutput import MultiOutputClassifier\n",
    "from sklearn.model_selection import TimeSeriesSplit\n",
    "tscv = TimeSeriesSplit(n_splits = 10)\n",
    "for train_index, test_index in tscv.split(X):\n",
    "    X_train, X_test = X.iloc[train_index, :], X.iloc[test_index,:]\n",
    "    y_train, y_test = y.iloc[train_index, :], y.iloc[test_index, :]\n",
    "from sklearn.preprocessing import StandardScaler\n",
    "scaler = StandardScaler()\n",
    "scaler.fit(X_train)\n",
    "X_train = scaler.transform(X_train)\n",
    "X_test = scaler.transform(X_test)    \n",
    "\n",
    "#sk = SelectKBest(chi2, k=20).fit(X_train, y_train)\n",
    "#X_train = sk.transform(X_train)\n",
    "gbm = MultiOutputClassifier(GradientBoostingClassifier(n_estimators=70))\n",
    "#scores = cross_val_score(gbm, X_train, y_train, cv=tscv, scoring='accuracy')\n",
    "#print('Gradient Boosting Accuracy ' + \": Loss: {0:.3f} (+/- {1:.3f})\".format(scores.mean(), scores.std()))\n",
    "\n",
    "from sklearn.metrics import accuracy_score\n",
    "gbm.fit(X_train,y_train)\n",
    "print(np.sum(np.sum(y_test == gbm.predict(X_test)))/(y_test.shape[0]*y_test.shape[1]))\n",
    "\n",
    "#scores = cross_val_score(gbm, X_train, y_train, cv=tscv, scoring='roc_auc')\n",
    "#print('Gradient Boosting ROC AUC ' + \": Loss: {0:.3f} (+/- {1:.3f})\".format(scores.mean(), scores.std()))\n",
    "\n",
    "from sklearn.metrics import roc_auc_score\n",
    "print(roc_auc_score(y_test, gbm.predict(X_test)))"
   ]
  },
  {
   "cell_type": "code",
   "execution_count": 524,
   "metadata": {
    "scrolled": true
   },
   "outputs": [
    {
     "name": "stdout",
     "output_type": "stream",
     "text": [
      "0.6146815550041357\n",
      "0.5402652545462655\n"
     ]
    }
   ],
   "source": [
    "from sklearn.linear_model import LogisticRegression\n",
    "#lg = MultiOutputClassifier(LogisticRegression(random_state=0,penalty = 'elasticnet',solver='saga',l1_ratio = 0.1))\n",
    "lg = MultiOutputClassifier(LogisticRegression(random_state=0))\n",
    "lg.fit(X_train,y_train)\n",
    "print(np.sum(np.sum(y_test == lg.predict(X_test)))/(y_test.shape[0]*y_test.shape[1]))\n",
    "print(roc_auc_score(y_test, lg.predict(X_test)))"
   ]
  },
  {
   "cell_type": "code",
   "execution_count": 516,
   "metadata": {},
   "outputs": [
    {
     "data": {
      "text/plain": [
       "0.6187758478081059"
      ]
     },
     "execution_count": 516,
     "metadata": {},
     "output_type": "execute_result"
    }
   ],
   "source": [
    "np.sum(np.sum(y_test == gbm.predict(X_test)))/(y_test.shape[0]*y_test.shape[1])"
   ]
  },
  {
   "cell_type": "code",
   "execution_count": 507,
   "metadata": {},
   "outputs": [
    {
     "data": {
      "text/plain": [
       "['accuracy',\n",
       " 'adjusted_mutual_info_score',\n",
       " 'adjusted_rand_score',\n",
       " 'average_precision',\n",
       " 'balanced_accuracy',\n",
       " 'brier_score_loss',\n",
       " 'completeness_score',\n",
       " 'explained_variance',\n",
       " 'f1',\n",
       " 'f1_macro',\n",
       " 'f1_micro',\n",
       " 'f1_samples',\n",
       " 'f1_weighted',\n",
       " 'fowlkes_mallows_score',\n",
       " 'homogeneity_score',\n",
       " 'jaccard',\n",
       " 'jaccard_macro',\n",
       " 'jaccard_micro',\n",
       " 'jaccard_samples',\n",
       " 'jaccard_weighted',\n",
       " 'max_error',\n",
       " 'mutual_info_score',\n",
       " 'neg_log_loss',\n",
       " 'neg_mean_absolute_error',\n",
       " 'neg_mean_squared_error',\n",
       " 'neg_mean_squared_log_error',\n",
       " 'neg_median_absolute_error',\n",
       " 'normalized_mutual_info_score',\n",
       " 'precision',\n",
       " 'precision_macro',\n",
       " 'precision_micro',\n",
       " 'precision_samples',\n",
       " 'precision_weighted',\n",
       " 'r2',\n",
       " 'recall',\n",
       " 'recall_macro',\n",
       " 'recall_micro',\n",
       " 'recall_samples',\n",
       " 'recall_weighted',\n",
       " 'roc_auc',\n",
       " 'v_measure_score']"
      ]
     },
     "execution_count": 507,
     "metadata": {},
     "output_type": "execute_result"
    }
   ],
   "source": [
    "sorted(sklearn.metrics.SCORERS.keys())"
   ]
  },
  {
   "cell_type": "code",
   "execution_count": null,
   "metadata": {},
   "outputs": [],
   "source": []
  },
  {
   "cell_type": "code",
   "execution_count": null,
   "metadata": {},
   "outputs": [],
   "source": []
  },
  {
   "cell_type": "code",
   "execution_count": 428,
   "metadata": {},
   "outputs": [
    {
     "name": "stdout",
     "output_type": "stream",
     "text": [
      "WindSp: Loss: 0.589 (+/- 0.030)\n"
     ]
    }
   ],
   "source": [
    "et = ExtraTreesClassifier(n_estimators=50) \n",
    "scores = cross_val_score(et, X_train, y_train, cv=tscv, scoring='accuracy')\n",
    "print(name + \": Loss: {0:.3f} (+/- {1:.3f})\".format(scores.mean(), scores.std()))"
   ]
  },
  {
   "cell_type": "code",
   "execution_count": 388,
   "metadata": {},
   "outputs": [
    {
     "name": "stdout",
     "output_type": "stream",
     "text": [
      "WindSp: Loss: 0.681 (+/- 0.027)\n"
     ]
    }
   ],
   "source": [
    "gbm = GradientBoostingClassifier(n_estimators=500) \n",
    "scores = cross_val_score(gbm, X_train, y_train, cv=tscv, scoring='roc_auc')\n",
    "print(name + \": Loss: {0:.3f} (+/- {1:.3f})\".format(scores.mean(), scores.std()))"
   ]
  },
  {
   "cell_type": "code",
   "execution_count": 381,
   "metadata": {},
   "outputs": [
    {
     "name": "stdout",
     "output_type": "stream",
     "text": [
      "WindSp: Loss: 0.584 (+/- 0.036)\n"
     ]
    }
   ],
   "source": [
    "from sklearn.linear_model import ElasticNet\n",
    "from sklearn.linear_model import SGDClassifier\n",
    "regr = SGDClassifier(loss=\"log\", penalty=\"elasticnet\")\n",
    "scores = cross_val_score(regr, X_train, y_train, cv=tscv, scoring='roc_auc')\n",
    "print(name + \": Loss: {0:.3f} (+/- {1:.3f})\".format(scores.mean(), scores.std()))"
   ]
  },
  {
   "cell_type": "code",
   "execution_count": 362,
   "metadata": {
    "scrolled": true
   },
   "outputs": [
    {
     "name": "stdout",
     "output_type": "stream",
     "text": [
      "Defined 10 models\n"
     ]
    },
    {
     "name": "stderr",
     "output_type": "stream",
     "text": [
      "C:\\ProgramData\\Anaconda3\\lib\\site-packages\\sklearn\\neural_network\\multilayer_perceptron.py:566: ConvergenceWarning: Stochastic Optimizer: Maximum iterations (200) reached and the optimization hasn't converged yet.\n",
      "  % self.max_iter, ConvergenceWarning)\n",
      "C:\\ProgramData\\Anaconda3\\lib\\site-packages\\sklearn\\neural_network\\multilayer_perceptron.py:566: ConvergenceWarning: Stochastic Optimizer: Maximum iterations (200) reached and the optimization hasn't converged yet.\n",
      "  % self.max_iter, ConvergenceWarning)\n",
      "C:\\ProgramData\\Anaconda3\\lib\\site-packages\\sklearn\\neural_network\\multilayer_perceptron.py:566: ConvergenceWarning: Stochastic Optimizer: Maximum iterations (200) reached and the optimization hasn't converged yet.\n",
      "  % self.max_iter, ConvergenceWarning)\n",
      "C:\\ProgramData\\Anaconda3\\lib\\site-packages\\sklearn\\neural_network\\multilayer_perceptron.py:566: ConvergenceWarning: Stochastic Optimizer: Maximum iterations (200) reached and the optimization hasn't converged yet.\n",
      "  % self.max_iter, ConvergenceWarning)\n",
      "C:\\ProgramData\\Anaconda3\\lib\\site-packages\\sklearn\\neural_network\\multilayer_perceptron.py:566: ConvergenceWarning: Stochastic Optimizer: Maximum iterations (200) reached and the optimization hasn't converged yet.\n",
      "  % self.max_iter, ConvergenceWarning)\n",
      "C:\\ProgramData\\Anaconda3\\lib\\site-packages\\sklearn\\neural_network\\multilayer_perceptron.py:566: ConvergenceWarning: Stochastic Optimizer: Maximum iterations (200) reached and the optimization hasn't converged yet.\n",
      "  % self.max_iter, ConvergenceWarning)\n",
      "C:\\ProgramData\\Anaconda3\\lib\\site-packages\\sklearn\\neural_network\\multilayer_perceptron.py:566: ConvergenceWarning: Stochastic Optimizer: Maximum iterations (200) reached and the optimization hasn't converged yet.\n",
      "  % self.max_iter, ConvergenceWarning)\n",
      "C:\\ProgramData\\Anaconda3\\lib\\site-packages\\sklearn\\neural_network\\multilayer_perceptron.py:566: ConvergenceWarning: Stochastic Optimizer: Maximum iterations (200) reached and the optimization hasn't converged yet.\n",
      "  % self.max_iter, ConvergenceWarning)\n",
      "C:\\ProgramData\\Anaconda3\\lib\\site-packages\\sklearn\\neural_network\\multilayer_perceptron.py:566: ConvergenceWarning: Stochastic Optimizer: Maximum iterations (200) reached and the optimization hasn't converged yet.\n",
      "  % self.max_iter, ConvergenceWarning)\n",
      "C:\\ProgramData\\Anaconda3\\lib\\site-packages\\sklearn\\neural_network\\multilayer_perceptron.py:566: ConvergenceWarning: Stochastic Optimizer: Maximum iterations (200) reached and the optimization hasn't converged yet.\n",
      "  % self.max_iter, ConvergenceWarning)\n"
     ]
    },
    {
     "name": "stdout",
     "output_type": "stream",
     "text": [
      "mlp: Loss: 0.537 (+/- 0.032)\n"
     ]
    },
    {
     "name": "stderr",
     "output_type": "stream",
     "text": [
      "C:\\ProgramData\\Anaconda3\\lib\\site-packages\\sklearn\\neural_network\\multilayer_perceptron.py:566: ConvergenceWarning: Stochastic Optimizer: Maximum iterations (200) reached and the optimization hasn't converged yet.\n",
      "  % self.max_iter, ConvergenceWarning)\n",
      "C:\\ProgramData\\Anaconda3\\lib\\site-packages\\sklearn\\neural_network\\multilayer_perceptron.py:566: ConvergenceWarning: Stochastic Optimizer: Maximum iterations (200) reached and the optimization hasn't converged yet.\n",
      "  % self.max_iter, ConvergenceWarning)\n",
      "C:\\ProgramData\\Anaconda3\\lib\\site-packages\\sklearn\\neural_network\\multilayer_perceptron.py:566: ConvergenceWarning: Stochastic Optimizer: Maximum iterations (200) reached and the optimization hasn't converged yet.\n",
      "  % self.max_iter, ConvergenceWarning)\n",
      "C:\\ProgramData\\Anaconda3\\lib\\site-packages\\sklearn\\neural_network\\multilayer_perceptron.py:566: ConvergenceWarning: Stochastic Optimizer: Maximum iterations (200) reached and the optimization hasn't converged yet.\n",
      "  % self.max_iter, ConvergenceWarning)\n",
      "C:\\ProgramData\\Anaconda3\\lib\\site-packages\\sklearn\\neural_network\\multilayer_perceptron.py:566: ConvergenceWarning: Stochastic Optimizer: Maximum iterations (200) reached and the optimization hasn't converged yet.\n",
      "  % self.max_iter, ConvergenceWarning)\n",
      "C:\\ProgramData\\Anaconda3\\lib\\site-packages\\sklearn\\neural_network\\multilayer_perceptron.py:566: ConvergenceWarning: Stochastic Optimizer: Maximum iterations (200) reached and the optimization hasn't converged yet.\n",
      "  % self.max_iter, ConvergenceWarning)\n",
      "C:\\ProgramData\\Anaconda3\\lib\\site-packages\\sklearn\\neural_network\\multilayer_perceptron.py:566: ConvergenceWarning: Stochastic Optimizer: Maximum iterations (200) reached and the optimization hasn't converged yet.\n",
      "  % self.max_iter, ConvergenceWarning)\n",
      "C:\\ProgramData\\Anaconda3\\lib\\site-packages\\sklearn\\neural_network\\multilayer_perceptron.py:566: ConvergenceWarning: Stochastic Optimizer: Maximum iterations (200) reached and the optimization hasn't converged yet.\n",
      "  % self.max_iter, ConvergenceWarning)\n",
      "C:\\ProgramData\\Anaconda3\\lib\\site-packages\\sklearn\\neural_network\\multilayer_perceptron.py:566: ConvergenceWarning: Stochastic Optimizer: Maximum iterations (200) reached and the optimization hasn't converged yet.\n",
      "  % self.max_iter, ConvergenceWarning)\n",
      "C:\\ProgramData\\Anaconda3\\lib\\site-packages\\sklearn\\neural_network\\multilayer_perceptron.py:566: ConvergenceWarning: Stochastic Optimizer: Maximum iterations (200) reached and the optimization hasn't converged yet.\n",
      "  % self.max_iter, ConvergenceWarning)\n"
     ]
    },
    {
     "name": "stdout",
     "output_type": "stream",
     "text": [
      "mlp: Loss: 0.527 (+/- 0.037)\n",
      "knn: Loss: 0.526 (+/- 0.028)\n",
      "knn: Loss: 0.522 (+/- 0.034)\n",
      "cart: Loss: 0.500 (+/- 0.034)\n",
      "cart: Loss: 0.511 (+/- 0.031)\n",
      "gm: Loss: 0.514 (+/- 0.056)\n",
      "gm: Loss: 0.530 (+/- 0.050)\n",
      "dt: Loss: 0.508 (+/- 0.034)\n",
      "dt: Loss: 0.512 (+/- 0.035)\n",
      "ada: Loss: 0.528 (+/- 0.046)\n",
      "ada: Loss: 0.513 (+/- 0.036)\n",
      "bag: Loss: 0.524 (+/- 0.032)\n",
      "bag: Loss: 0.531 (+/- 0.031)\n",
      "rf: Loss: 0.516 (+/- 0.047)\n",
      "rf: Loss: 0.520 (+/- 0.036)\n",
      "et: Loss: 0.529 (+/- 0.038)\n",
      "et: Loss: 0.534 (+/- 0.036)\n",
      "gbm: Loss: 0.535 (+/- 0.047)\n",
      "gbm: Loss: 0.537 (+/- 0.037)\n"
     ]
    }
   ],
   "source": [
    "pca = PCA(n_components=17)\n",
    "X_train = pca.fit_transform(X_train)\n",
    "l_ = evaluate_models(get_models())"
   ]
  },
  {
   "cell_type": "code",
   "execution_count": 395,
   "metadata": {},
   "outputs": [],
   "source": [
    "from sklearn.preprocessing import StandardScaler\n",
    "scaler = StandardScaler()\n",
    "X_train = scaler.fit_transform(X_train)\n",
    "X_test = scaler.fit_transform(X_test)"
   ]
  },
  {
   "cell_type": "code",
   "execution_count": 482,
   "metadata": {},
   "outputs": [
    {
     "data": {
      "text/plain": [
       "(8101, 400)"
      ]
     },
     "execution_count": 482,
     "metadata": {},
     "output_type": "execute_result"
    }
   ],
   "source": [
    "X_train.shape"
   ]
  },
  {
   "cell_type": "code",
   "execution_count": 483,
   "metadata": {},
   "outputs": [
    {
     "name": "stdout",
     "output_type": "stream",
     "text": [
      "Train on 8101 samples, validate on 810 samples\n",
      "Epoch 1/2\n",
      "8101/8101 [==============================] - 63s 8ms/sample - loss: 2.4261 - AUC: 0.4912 - val_loss: 1.6615 - val_AUC: 0.5000\n",
      "Epoch 2/2\n",
      "8101/8101 [==============================] - 35s 4ms/sample - loss: 1.4358 - AUC: 0.5041 - val_loss: 1.2627 - val_AUC: 0.5000\n"
     ]
    }
   ],
   "source": [
    "import tensorflow as tf\n",
    "from tensorflow.keras.models import Sequential\n",
    "from tensorflow.keras.layers import Dense\n",
    "from tensorflow.keras.layers import LSTM\n",
    "# from tensorflow.keras.layers.embeddings import Embedding\n",
    "from tensorflow.keras.preprocessing import sequence\n",
    "from tensorflow.keras.regularizers import l2\n",
    "from tensorflow.keras.metrics import AUC\n",
    "X_train = np.array(X_train).reshape((len(X_train), 100,4))\n",
    "y_train = np.array(y_train)\n",
    "X_test = np.array(X_test).reshape((len(X_test), 100,4))\n",
    "y_test = np.array(y_test)\n",
    "model = Sequential()\n",
    "model.add(LSTM(32, return_sequences=True,recurrent_dropout = 0.25,dropout = 0.25, kernel_regularizer=l2(0.01), recurrent_regularizer=l2(0.01), bias_regularizer=l2(0.01)))\n",
    "model.add(LSTM(32, return_sequences=True,recurrent_dropout = 0.25,dropout = 0.25, kernel_regularizer=l2(0.01), recurrent_regularizer=l2(0.01), bias_regularizer=l2(0.01)))\n",
    "model.add(LSTM(32,recurrent_dropout = 0.25,dropout = 0.25, kernel_regularizer=l2(0.01), recurrent_regularizer=l2(0.01), bias_regularizer=l2(0.01))) \n",
    "model.add(Dense(1, activation='sigmoid'))\n",
    "model.compile(loss='binary_crossentropy', optimizer='adam', metrics=['AUC'])\n",
    "model.fit(X_train, y_train, validation_data=(X_test, y_test), epochs=2, batch_size=64)\n",
    "scores = model.evaluate(X_test, y_test, verbose=0)"
   ]
  },
  {
   "cell_type": "code",
   "execution_count": null,
   "metadata": {},
   "outputs": [],
   "source": []
  },
  {
   "cell_type": "code",
   "execution_count": 484,
   "metadata": {},
   "outputs": [
    {
     "data": {
      "text/plain": [
       "[1.2627032194608523, 0.5]"
      ]
     },
     "execution_count": 484,
     "metadata": {},
     "output_type": "execute_result"
    }
   ],
   "source": [
    "scores"
   ]
  },
  {
   "cell_type": "code",
   "execution_count": null,
   "metadata": {},
   "outputs": [],
   "source": []
  },
  {
   "cell_type": "code",
   "execution_count": null,
   "metadata": {},
   "outputs": [],
   "source": [
    "\n",
    "from sklearn import cluster\n",
    "agglo = cluster.FeatureAgglomeration(n_clusters=32)"
   ]
  },
  {
   "cell_type": "code",
   "execution_count": 367,
   "metadata": {},
   "outputs": [
    {
     "data": {
      "text/plain": [
       "(8101, 900)"
      ]
     },
     "execution_count": 367,
     "metadata": {},
     "output_type": "execute_result"
    }
   ],
   "source": [
    "from sklearn.feature_selection import VarianceThreshold\n",
    "sel = VarianceThreshold(threshold=(.08 * (1 - .8)))\n",
    "X_train = sel.fit_transform(X_train)\n",
    "X_train.shape"
   ]
  },
  {
   "cell_type": "code",
   "execution_count": null,
   "metadata": {},
   "outputs": [],
   "source": [
    "from sklearn.feature_selection import SelectFromModel\n",
    "from sklearn.svm import LinearSVC\n",
    "clf = Pipeline([\n",
    "  ('feature_selection', SelectFromModel(LinearSVC(penalty=\"l2\"))),\n",
    "  ('classification', RandomForestClassifier())\n",
    "])"
   ]
  },
  {
   "cell_type": "code",
   "execution_count": 352,
   "metadata": {},
   "outputs": [
    {
     "data": {
      "text/plain": [
       "(8101, 461)"
      ]
     },
     "execution_count": 352,
     "metadata": {},
     "output_type": "execute_result"
    }
   ],
   "source": [
    "clf = ExtraTreesClassifier(n_estimators=50)\n",
    "clf = clf.fit(X_train, y_train)\n",
    "\n",
    "model = SelectFromModel(clf, prefit=True)\n",
    "X_train = model.transform(X_train)\n",
    "X_train.shape    "
   ]
  },
  {
   "cell_type": "code",
   "execution_count": null,
   "metadata": {},
   "outputs": [],
   "source": []
  },
  {
   "cell_type": "code",
   "execution_count": 368,
   "metadata": {},
   "outputs": [
    {
     "data": {
      "text/plain": [
       "(8101, 2)"
      ]
     },
     "execution_count": 368,
     "metadata": {},
     "output_type": "execute_result"
    }
   ],
   "source": [
    "from sklearn.feature_selection import SelectKBest\n",
    "from sklearn.feature_selection import chi2\n",
    "X_train = SelectKBest(chi2, k=2).fit_transform(X_train, y_train)\n",
    "X_train.shape"
   ]
  },
  {
   "cell_type": "code",
   "execution_count": 369,
   "metadata": {},
   "outputs": [
    {
     "name": "stdout",
     "output_type": "stream",
     "text": [
      "WindSp: Loss: 0.547 (+/- 0.028)\n"
     ]
    }
   ],
   "source": [
    "rf = RandomForestClassifier(n_estimators=50) \n",
    "scores = cross_val_score(rf, X_train, y_train, cv=tscv, scoring='roc_auc')\n",
    "print(name + \": Loss: {0:.3f} (+/- {1:.3f})\".format(scores.mean(), scores.std()))"
   ]
  },
  {
   "cell_type": "code",
   "execution_count": null,
   "metadata": {},
   "outputs": [],
   "source": []
  },
  {
   "cell_type": "code",
   "execution_count": null,
   "metadata": {},
   "outputs": [],
   "source": []
  },
  {
   "cell_type": "code",
   "execution_count": null,
   "metadata": {},
   "outputs": [],
   "source": []
  },
  {
   "cell_type": "code",
   "execution_count": null,
   "metadata": {},
   "outputs": [],
   "source": []
  }
 ],
 "metadata": {
  "kernelspec": {
   "display_name": "Python 3",
   "language": "python",
   "name": "python3"
  },
  "language_info": {
   "codemirror_mode": {
    "name": "ipython",
    "version": 3
   },
   "file_extension": ".py",
   "mimetype": "text/x-python",
   "name": "python",
   "nbconvert_exporter": "python",
   "pygments_lexer": "ipython3",
   "version": "3.7.4"
  }
 },
 "nbformat": 4,
 "nbformat_minor": 2
}
